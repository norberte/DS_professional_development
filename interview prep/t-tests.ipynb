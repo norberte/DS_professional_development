{
 "cells": [
  {
   "cell_type": "markdown",
   "metadata": {},
   "source": [
    "## One sample t-test"
   ]
  },
  {
   "cell_type": "markdown",
   "metadata": {},
   "source": [
    "The following test for a difference between the centre of a sample of data and a given reference point. The one sample t-test assumes normally distributed data, whereas the Wilcoxon signed rank test can be used with any data."
   ]
  },
  {
   "cell_type": "code",
   "execution_count": 1,
   "metadata": {},
   "outputs": [
    {
     "name": "stdout",
     "output_type": "stream",
     "text": [
      "P value:\n",
      "2.254183279964788e-05\n"
     ]
    }
   ],
   "source": [
    "import numpy as np\n",
    "import scipy.stats as stats\n",
    "\n",
    "# generate the data\n",
    "normDist = stats.norm(loc=7.5, scale=3)\n",
    "data = normDist.rvs(100)\n",
    "\n",
    "# Define a value to check against\n",
    "checkVal = 6.5\n",
    "\n",
    "# T-test\n",
    "t, tProb = stats.ttest_1samp(data, checkVal) \n",
    "\n",
    "print ('P value:')\n",
    "print (tProb)"
   ]
  },
  {
   "cell_type": "markdown",
   "metadata": {},
   "source": [
    "## Unpaired t-test"
   ]
  },
  {
   "cell_type": "markdown",
   "metadata": {},
   "source": [
    "Statistical test for testing the difference between independent groups (e.g. measure the weight of men and women)."
   ]
  },
  {
   "cell_type": "code",
   "execution_count": 2,
   "metadata": {},
   "outputs": [
    {
     "name": "stdout",
     "output_type": "stream",
     "text": [
      "P value:\n",
      "0.02064980694592268\n"
     ]
    }
   ],
   "source": [
    "import numpy as np\n",
    "import scipy.stats as stats\n",
    "\n",
    "# Create two random groups of data with a mean difference of 1\n",
    "\n",
    "mu, sigma = 10, 2.5 # mean and standard deviation\n",
    "group1 = np.random.normal(mu, sigma, 50)\n",
    "\n",
    "mu, sigma = 11, 2.5 # mean and standard deviation\n",
    "group2 = np.random.normal(mu, sigma, 50)\n",
    "\n",
    "# Calculate t and probability of a difference\n",
    "\n",
    "t_statistic, p_value = stats.ttest_ind(group1, group2)\n",
    "\n",
    "# Print results\n",
    "\n",
    "print ('P value:')\n",
    "print (p_value)"
   ]
  },
  {
   "cell_type": "markdown",
   "metadata": {},
   "source": [
    "## Paired t-test"
   ]
  },
  {
   "cell_type": "markdown",
   "metadata": {},
   "source": [
    "Statistical test for testing the difference between paired samples (e.g. measuring the weight of people at the start and at the end of an experiment)."
   ]
  },
  {
   "cell_type": "code",
   "execution_count": 3,
   "metadata": {},
   "outputs": [
    {
     "name": "stdout",
     "output_type": "stream",
     "text": [
      "P value:\n",
      "0.0278175655352864\n"
     ]
    }
   ],
   "source": [
    "# Create a random group of data\n",
    "# The add an average difference of 1 (but with variation)\n",
    "\n",
    "mu, sigma = 10, 2.5 # mean and standard deviation\n",
    "t_0 = np.random.normal(mu, sigma, 50)\n",
    "\n",
    "mu, sigma = 1, 2.5 # mean and standard deviation\n",
    "diff = np.random.normal(mu, sigma, 50)\n",
    "t_1 = t_0 + diff\n",
    "\n",
    "# Calculate t and probability of a difference\n",
    "\n",
    "t_statistic, p_value = stats.ttest_rel(t_0, t_1)\n",
    "\n",
    "# Print results\n",
    "\n",
    "print ('P value:')\n",
    "print (p_value)\n"
   ]
  },
  {
   "cell_type": "code",
   "execution_count": null,
   "metadata": {},
   "outputs": [],
   "source": []
  }
 ],
 "metadata": {
  "kernelspec": {
   "display_name": "Python 3",
   "language": "python",
   "name": "python3"
  },
  "language_info": {
   "codemirror_mode": {
    "name": "ipython",
    "version": 3
   },
   "file_extension": ".py",
   "mimetype": "text/x-python",
   "name": "python",
   "nbconvert_exporter": "python",
   "pygments_lexer": "ipython3",
   "version": "3.6.1"
  }
 },
 "nbformat": 4,
 "nbformat_minor": 2
}
