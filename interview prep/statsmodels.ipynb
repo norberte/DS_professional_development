{
 "cells": [
  {
   "cell_type": "code",
   "execution_count": 1,
   "metadata": {},
   "outputs": [],
   "source": [
    "import statsmodels.api as sm\n",
    "import pandas\n",
    "from patsy import dmatrices"
   ]
  },
  {
   "cell_type": "code",
   "execution_count": 2,
   "metadata": {},
   "outputs": [],
   "source": [
    "df = sm.datasets.get_rdataset(\"Guerry\", \"HistData\").data"
   ]
  },
  {
   "cell_type": "code",
   "execution_count": 3,
   "metadata": {},
   "outputs": [
    {
     "name": "stdout",
     "output_type": "stream",
     "text": [
      "<class 'pandas.core.frame.DataFrame'>\n",
      "RangeIndex: 86 entries, 0 to 85\n",
      "Data columns (total 5 columns):\n",
      " #   Column      Non-Null Count  Dtype \n",
      "---  ------      --------------  ----- \n",
      " 0   Department  86 non-null     object\n",
      " 1   Lottery     86 non-null     int64 \n",
      " 2   Literacy    86 non-null     int64 \n",
      " 3   Wealth      86 non-null     int64 \n",
      " 4   Region      85 non-null     object\n",
      "dtypes: int64(3), object(2)\n",
      "memory usage: 3.5+ KB\n"
     ]
    }
   ],
   "source": [
    "vars = ['Department', 'Lottery', 'Literacy', 'Wealth', 'Region']\n",
    "\n",
    "df = df[vars]\n",
    "df.info()"
   ]
  },
  {
   "cell_type": "code",
   "execution_count": 4,
   "metadata": {},
   "outputs": [
    {
     "data": {
      "text/html": [
       "<div>\n",
       "<style scoped>\n",
       "    .dataframe tbody tr th:only-of-type {\n",
       "        vertical-align: middle;\n",
       "    }\n",
       "\n",
       "    .dataframe tbody tr th {\n",
       "        vertical-align: top;\n",
       "    }\n",
       "\n",
       "    .dataframe thead th {\n",
       "        text-align: right;\n",
       "    }\n",
       "</style>\n",
       "<table border=\"1\" class=\"dataframe\">\n",
       "  <thead>\n",
       "    <tr style=\"text-align: right;\">\n",
       "      <th></th>\n",
       "      <th>Department</th>\n",
       "      <th>Lottery</th>\n",
       "      <th>Literacy</th>\n",
       "      <th>Wealth</th>\n",
       "      <th>Region</th>\n",
       "    </tr>\n",
       "  </thead>\n",
       "  <tbody>\n",
       "    <tr>\n",
       "      <th>0</th>\n",
       "      <td>Ain</td>\n",
       "      <td>41</td>\n",
       "      <td>37</td>\n",
       "      <td>73</td>\n",
       "      <td>E</td>\n",
       "    </tr>\n",
       "    <tr>\n",
       "      <th>1</th>\n",
       "      <td>Aisne</td>\n",
       "      <td>38</td>\n",
       "      <td>51</td>\n",
       "      <td>22</td>\n",
       "      <td>N</td>\n",
       "    </tr>\n",
       "    <tr>\n",
       "      <th>2</th>\n",
       "      <td>Allier</td>\n",
       "      <td>66</td>\n",
       "      <td>13</td>\n",
       "      <td>61</td>\n",
       "      <td>C</td>\n",
       "    </tr>\n",
       "    <tr>\n",
       "      <th>3</th>\n",
       "      <td>Basses-Alpes</td>\n",
       "      <td>80</td>\n",
       "      <td>46</td>\n",
       "      <td>76</td>\n",
       "      <td>E</td>\n",
       "    </tr>\n",
       "    <tr>\n",
       "      <th>4</th>\n",
       "      <td>Hautes-Alpes</td>\n",
       "      <td>79</td>\n",
       "      <td>69</td>\n",
       "      <td>83</td>\n",
       "      <td>E</td>\n",
       "    </tr>\n",
       "  </tbody>\n",
       "</table>\n",
       "</div>"
      ],
      "text/plain": [
       "     Department  Lottery  Literacy  Wealth Region\n",
       "0           Ain       41        37      73      E\n",
       "1         Aisne       38        51      22      N\n",
       "2        Allier       66        13      61      C\n",
       "3  Basses-Alpes       80        46      76      E\n",
       "4  Hautes-Alpes       79        69      83      E"
      ]
     },
     "execution_count": 4,
     "metadata": {},
     "output_type": "execute_result"
    }
   ],
   "source": [
    "df.head()"
   ]
  },
  {
   "cell_type": "code",
   "execution_count": 5,
   "metadata": {},
   "outputs": [
    {
     "data": {
      "text/html": [
       "<div>\n",
       "<style scoped>\n",
       "    .dataframe tbody tr th:only-of-type {\n",
       "        vertical-align: middle;\n",
       "    }\n",
       "\n",
       "    .dataframe tbody tr th {\n",
       "        vertical-align: top;\n",
       "    }\n",
       "\n",
       "    .dataframe thead th {\n",
       "        text-align: right;\n",
       "    }\n",
       "</style>\n",
       "<table border=\"1\" class=\"dataframe\">\n",
       "  <thead>\n",
       "    <tr style=\"text-align: right;\">\n",
       "      <th></th>\n",
       "      <th>Department</th>\n",
       "      <th>Lottery</th>\n",
       "      <th>Literacy</th>\n",
       "      <th>Wealth</th>\n",
       "      <th>Region</th>\n",
       "    </tr>\n",
       "  </thead>\n",
       "  <tbody>\n",
       "    <tr>\n",
       "      <th>80</th>\n",
       "      <td>Vendee</td>\n",
       "      <td>68</td>\n",
       "      <td>28</td>\n",
       "      <td>56</td>\n",
       "      <td>W</td>\n",
       "    </tr>\n",
       "    <tr>\n",
       "      <th>81</th>\n",
       "      <td>Vienne</td>\n",
       "      <td>40</td>\n",
       "      <td>25</td>\n",
       "      <td>68</td>\n",
       "      <td>W</td>\n",
       "    </tr>\n",
       "    <tr>\n",
       "      <th>82</th>\n",
       "      <td>Haute-Vienne</td>\n",
       "      <td>55</td>\n",
       "      <td>13</td>\n",
       "      <td>67</td>\n",
       "      <td>C</td>\n",
       "    </tr>\n",
       "    <tr>\n",
       "      <th>83</th>\n",
       "      <td>Vosges</td>\n",
       "      <td>14</td>\n",
       "      <td>62</td>\n",
       "      <td>82</td>\n",
       "      <td>E</td>\n",
       "    </tr>\n",
       "    <tr>\n",
       "      <th>84</th>\n",
       "      <td>Yonne</td>\n",
       "      <td>51</td>\n",
       "      <td>47</td>\n",
       "      <td>30</td>\n",
       "      <td>C</td>\n",
       "    </tr>\n",
       "  </tbody>\n",
       "</table>\n",
       "</div>"
      ],
      "text/plain": [
       "      Department  Lottery  Literacy  Wealth Region\n",
       "80        Vendee       68        28      56      W\n",
       "81        Vienne       40        25      68      W\n",
       "82  Haute-Vienne       55        13      67      C\n",
       "83        Vosges       14        62      82      E\n",
       "84         Yonne       51        47      30      C"
      ]
     },
     "execution_count": 5,
     "metadata": {},
     "output_type": "execute_result"
    }
   ],
   "source": [
    "df = df.dropna()\n",
    "df[-5:]"
   ]
  },
  {
   "cell_type": "markdown",
   "metadata": {},
   "source": [
    "## Create Design Matrices"
   ]
  },
  {
   "cell_type": "code",
   "execution_count": 6,
   "metadata": {},
   "outputs": [],
   "source": [
    "y, X = dmatrices('Lottery ~ Literacy + Wealth + Region', data=df, return_type='dataframe')"
   ]
  },
  {
   "cell_type": "code",
   "execution_count": 7,
   "metadata": {},
   "outputs": [
    {
     "data": {
      "text/html": [
       "<div>\n",
       "<style scoped>\n",
       "    .dataframe tbody tr th:only-of-type {\n",
       "        vertical-align: middle;\n",
       "    }\n",
       "\n",
       "    .dataframe tbody tr th {\n",
       "        vertical-align: top;\n",
       "    }\n",
       "\n",
       "    .dataframe thead th {\n",
       "        text-align: right;\n",
       "    }\n",
       "</style>\n",
       "<table border=\"1\" class=\"dataframe\">\n",
       "  <thead>\n",
       "    <tr style=\"text-align: right;\">\n",
       "      <th></th>\n",
       "      <th>Lottery</th>\n",
       "    </tr>\n",
       "  </thead>\n",
       "  <tbody>\n",
       "    <tr>\n",
       "      <th>0</th>\n",
       "      <td>41.0</td>\n",
       "    </tr>\n",
       "    <tr>\n",
       "      <th>1</th>\n",
       "      <td>38.0</td>\n",
       "    </tr>\n",
       "    <tr>\n",
       "      <th>2</th>\n",
       "      <td>66.0</td>\n",
       "    </tr>\n",
       "  </tbody>\n",
       "</table>\n",
       "</div>"
      ],
      "text/plain": [
       "   Lottery\n",
       "0     41.0\n",
       "1     38.0\n",
       "2     66.0"
      ]
     },
     "execution_count": 7,
     "metadata": {},
     "output_type": "execute_result"
    }
   ],
   "source": [
    "y[:3]"
   ]
  },
  {
   "cell_type": "code",
   "execution_count": 8,
   "metadata": {},
   "outputs": [
    {
     "data": {
      "text/html": [
       "<div>\n",
       "<style scoped>\n",
       "    .dataframe tbody tr th:only-of-type {\n",
       "        vertical-align: middle;\n",
       "    }\n",
       "\n",
       "    .dataframe tbody tr th {\n",
       "        vertical-align: top;\n",
       "    }\n",
       "\n",
       "    .dataframe thead th {\n",
       "        text-align: right;\n",
       "    }\n",
       "</style>\n",
       "<table border=\"1\" class=\"dataframe\">\n",
       "  <thead>\n",
       "    <tr style=\"text-align: right;\">\n",
       "      <th></th>\n",
       "      <th>Intercept</th>\n",
       "      <th>Region[T.E]</th>\n",
       "      <th>Region[T.N]</th>\n",
       "      <th>Region[T.S]</th>\n",
       "      <th>Region[T.W]</th>\n",
       "      <th>Literacy</th>\n",
       "      <th>Wealth</th>\n",
       "    </tr>\n",
       "  </thead>\n",
       "  <tbody>\n",
       "    <tr>\n",
       "      <th>0</th>\n",
       "      <td>1.0</td>\n",
       "      <td>1.0</td>\n",
       "      <td>0.0</td>\n",
       "      <td>0.0</td>\n",
       "      <td>0.0</td>\n",
       "      <td>37.0</td>\n",
       "      <td>73.0</td>\n",
       "    </tr>\n",
       "    <tr>\n",
       "      <th>1</th>\n",
       "      <td>1.0</td>\n",
       "      <td>0.0</td>\n",
       "      <td>1.0</td>\n",
       "      <td>0.0</td>\n",
       "      <td>0.0</td>\n",
       "      <td>51.0</td>\n",
       "      <td>22.0</td>\n",
       "    </tr>\n",
       "    <tr>\n",
       "      <th>2</th>\n",
       "      <td>1.0</td>\n",
       "      <td>0.0</td>\n",
       "      <td>0.0</td>\n",
       "      <td>0.0</td>\n",
       "      <td>0.0</td>\n",
       "      <td>13.0</td>\n",
       "      <td>61.0</td>\n",
       "    </tr>\n",
       "  </tbody>\n",
       "</table>\n",
       "</div>"
      ],
      "text/plain": [
       "   Intercept  Region[T.E]  Region[T.N]  Region[T.S]  Region[T.W]  Literacy  \\\n",
       "0        1.0          1.0          0.0          0.0          0.0      37.0   \n",
       "1        1.0          0.0          1.0          0.0          0.0      51.0   \n",
       "2        1.0          0.0          0.0          0.0          0.0      13.0   \n",
       "\n",
       "   Wealth  \n",
       "0    73.0  \n",
       "1    22.0  \n",
       "2    61.0  "
      ]
     },
     "execution_count": 8,
     "metadata": {},
     "output_type": "execute_result"
    }
   ],
   "source": [
    "X[:3]"
   ]
  },
  {
   "cell_type": "markdown",
   "metadata": {},
   "source": [
    "## Model Fitting"
   ]
  },
  {
   "cell_type": "code",
   "execution_count": 9,
   "metadata": {},
   "outputs": [
    {
     "name": "stdout",
     "output_type": "stream",
     "text": [
      "                            OLS Regression Results                            \n",
      "==============================================================================\n",
      "Dep. Variable:                Lottery   R-squared:                       0.338\n",
      "Model:                            OLS   Adj. R-squared:                  0.287\n",
      "Method:                 Least Squares   F-statistic:                     6.636\n",
      "Date:                Tue, 04 Aug 2020   Prob (F-statistic):           1.07e-05\n",
      "Time:                        16:10:36   Log-Likelihood:                -375.30\n",
      "No. Observations:                  85   AIC:                             764.6\n",
      "Df Residuals:                      78   BIC:                             781.7\n",
      "Df Model:                           6                                         \n",
      "Covariance Type:            nonrobust                                         \n",
      "===============================================================================\n",
      "                  coef    std err          t      P>|t|      [0.025      0.975]\n",
      "-------------------------------------------------------------------------------\n",
      "Intercept      38.6517      9.456      4.087      0.000      19.826      57.478\n",
      "Region[T.E]   -15.4278      9.727     -1.586      0.117     -34.793       3.938\n",
      "Region[T.N]   -10.0170      9.260     -1.082      0.283     -28.453       8.419\n",
      "Region[T.S]    -4.5483      7.279     -0.625      0.534     -19.039       9.943\n",
      "Region[T.W]   -10.0913      7.196     -1.402      0.165     -24.418       4.235\n",
      "Literacy       -0.1858      0.210     -0.886      0.378      -0.603       0.232\n",
      "Wealth          0.4515      0.103      4.390      0.000       0.247       0.656\n",
      "==============================================================================\n",
      "Omnibus:                        3.049   Durbin-Watson:                   1.785\n",
      "Prob(Omnibus):                  0.218   Jarque-Bera (JB):                2.694\n",
      "Skew:                          -0.340   Prob(JB):                        0.260\n",
      "Kurtosis:                       2.454   Cond. No.                         371.\n",
      "==============================================================================\n",
      "\n",
      "Warnings:\n",
      "[1] Standard Errors assume that the covariance matrix of the errors is correctly specified.\n"
     ]
    }
   ],
   "source": [
    "mod = sm.OLS(y, X)    # Describe model\n",
    "res = mod.fit()       # Fit model\n",
    "print(res.summary())   # Summarize model"
   ]
  },
  {
   "cell_type": "code",
   "execution_count": 10,
   "metadata": {},
   "outputs": [
    {
     "data": {
      "text/plain": [
       "Intercept      38.651655\n",
       "Region[T.E]   -15.427785\n",
       "Region[T.N]   -10.016961\n",
       "Region[T.S]    -4.548257\n",
       "Region[T.W]   -10.091276\n",
       "Literacy       -0.185819\n",
       "Wealth          0.451475\n",
       "dtype: float64"
      ]
     },
     "execution_count": 10,
     "metadata": {},
     "output_type": "execute_result"
    }
   ],
   "source": [
    "res.params"
   ]
  },
  {
   "cell_type": "code",
   "execution_count": 11,
   "metadata": {},
   "outputs": [
    {
     "data": {
      "text/plain": [
       "0.3379508691928822"
      ]
     },
     "execution_count": 11,
     "metadata": {},
     "output_type": "execute_result"
    }
   ],
   "source": [
    "res.rsquared"
   ]
  },
  {
   "cell_type": "code",
   "execution_count": 12,
   "metadata": {},
   "outputs": [
    {
     "data": {
      "text/plain": [
       "(0.847233997615691, 0.6997965543621644)"
      ]
     },
     "execution_count": 12,
     "metadata": {},
     "output_type": "execute_result"
    }
   ],
   "source": [
    "sm.stats.linear_rainbow(res)"
   ]
  },
  {
   "cell_type": "code",
   "execution_count": 14,
   "metadata": {},
   "outputs": [
    {
     "name": "stdout",
     "output_type": "stream",
     "text": [
      "\n",
      "    Rainbow test for linearity\n",
      "\n",
      "    The null hypothesis is the fit of the model using full sample is the same\n",
      "    as using a central subset. The alternative is that the fits are difference.\n",
      "    The rainbow test has power against many different forms of nonlinearity.\n",
      "\n",
      "    Parameters\n",
      "    ----------\n",
      "    res : RegressionResults\n",
      "        A results instance from a linear regression.\n",
      "    frac : float, default 0.5\n",
      "        The fraction of the data to include in the center model.\n",
      "    order_by : {ndarray, str, List[str]}, default None\n",
      "        If an ndarray, the values in the array are used to sort the\n",
      "        observations. If a string or a list of strings, these are interpreted\n",
      "        as column name(s) which are then used to lexicographically sort the\n",
      "        data.\n",
      "    use_distance : bool, default False\n",
      "        Flag indicating whether data should be ordered by the Mahalanobis\n",
      "        distance to the center.\n",
      "    center : {float, int}, default None\n",
      "        If a float, the value must be in [0, 1] and the center is center *\n",
      "        nobs of the ordered data.  If an integer, must be in [0, nobs) and\n",
      "        is interpreted as the observation of the ordered data to use.\n",
      "\n",
      "    Returns\n",
      "    -------\n",
      "    fstat : float\n",
      "        The test statistic based on the F test.\n",
      "    pvalue : float\n",
      "        The pvalue of the test.\n",
      "\n",
      "    Notes\n",
      "    -----\n",
      "    This test assumes residuals are homoskedastic and may reject a correct\n",
      "    linear specification if the residuals are heteroskedastic.\n",
      "    \n"
     ]
    }
   ],
   "source": [
    "print(sm.stats.linear_rainbow.__doc__)"
   ]
  },
  {
   "cell_type": "code",
   "execution_count": 16,
   "metadata": {},
   "outputs": [
    {
     "name": "stdout",
     "output_type": "stream",
     "text": [
      "Figure(432x288)\n"
     ]
    },
    {
     "data": {
      "image/png": "[encoded data removed]",
      "text/plain": [
       "<Figure size 432x288 with 1 Axes>"
      ]
     },
     "metadata": {
      "needs_background": "light"
     },
     "output_type": "display_data"
    }
   ],
   "source": [
    "print(sm.graphics.plot_partregress('Lottery', 'Wealth', ['Region', 'Literacy'], data=df, obs_labels=False))"
   ]
  },
  {
   "cell_type": "markdown",
   "metadata": {},
   "source": [
    "# Gamma model example"
   ]
  },
  {
   "cell_type": "code",
   "execution_count": 18,
   "metadata": {},
   "outputs": [],
   "source": [
    "import statsmodels.api as sm\n",
    "data = sm.datasets.scotland.load(as_pandas=False)\n",
    "data.exog = sm.add_constant(data.exog)"
   ]
  },
  {
   "cell_type": "code",
   "execution_count": 28,
   "metadata": {},
   "outputs": [
    {
     "data": {
      "text/plain": [
       "array([60.3, 52.3, 53.4, 57. , 68.7, 48.8, 65.5, 70.5, 59.1, 62.7, 51.6,\n",
       "       62. , 68.4, 69.2, 64.7, 75. , 62.1, 67.2, 67.7, 52.7, 65.7, 72.2,\n",
       "       47.4, 51.3, 63.6, 50.7, 51.6, 56.2, 67.6, 58.9, 74.7, 67.3])"
      ]
     },
     "execution_count": 28,
     "metadata": {},
     "output_type": "execute_result"
    }
   ],
   "source": [
    "data.endog"
   ]
  },
  {
   "cell_type": "code",
   "execution_count": 29,
   "metadata": {},
   "outputs": [
    {
     "data": {
      "text/plain": [
       "array([[1.00000e+00, 7.12000e+02, 2.10000e+01, 1.05000e+02, 8.24000e+01,\n",
       "        1.35660e+04, 1.23000e+01, 1.49520e+04],\n",
       "       [1.00000e+00, 6.43000e+02, 2.65000e+01, 9.70000e+01, 8.02000e+01,\n",
       "        1.35660e+04, 1.53000e+01, 1.70395e+04],\n",
       "       [1.00000e+00, 6.79000e+02, 2.83000e+01, 1.13000e+02, 8.63000e+01,\n",
       "        9.61100e+03, 1.39000e+01, 1.92157e+04],\n",
       "       [1.00000e+00, 8.01000e+02, 2.71000e+01, 1.09000e+02, 8.04000e+01,\n",
       "        9.48300e+03, 1.36000e+01, 2.17071e+04],\n",
       "       [1.00000e+00, 7.53000e+02, 2.20000e+01, 1.15000e+02, 6.47000e+01,\n",
       "        9.26500e+03, 1.46000e+01, 1.65660e+04],\n",
       "       [1.00000e+00, 7.14000e+02, 2.43000e+01, 1.07000e+02, 7.90000e+01,\n",
       "        9.55500e+03, 1.38000e+01, 1.73502e+04],\n",
       "       [1.00000e+00, 9.20000e+02, 2.12000e+01, 1.18000e+02, 7.22000e+01,\n",
       "        9.61100e+03, 1.33000e+01, 1.95040e+04],\n",
       "       [1.00000e+00, 7.79000e+02, 2.05000e+01, 1.14000e+02, 7.52000e+01,\n",
       "        9.48300e+03, 1.45000e+01, 1.59695e+04],\n",
       "       [1.00000e+00, 7.71000e+02, 2.32000e+01, 1.02000e+02, 8.11000e+01,\n",
       "        9.48300e+03, 1.42000e+01, 1.78872e+04],\n",
       "       [1.00000e+00, 7.24000e+02, 2.05000e+01, 1.12000e+02, 8.03000e+01,\n",
       "        1.26560e+04, 1.37000e+01, 1.48420e+04],\n",
       "       [1.00000e+00, 6.82000e+02, 2.38000e+01, 9.60000e+01, 8.30000e+01,\n",
       "        9.48300e+03, 1.46000e+01, 1.62316e+04],\n",
       "       [1.00000e+00, 8.37000e+02, 2.21000e+01, 1.11000e+02, 7.45000e+01,\n",
       "        1.26560e+04, 1.16000e+01, 1.84977e+04],\n",
       "       [1.00000e+00, 5.99000e+02, 1.99000e+01, 1.17000e+02, 8.38000e+01,\n",
       "        8.29800e+03, 1.51000e+01, 1.19201e+04],\n",
       "       [1.00000e+00, 6.80000e+02, 2.15000e+01, 1.21000e+02, 7.76000e+01,\n",
       "        9.26500e+03, 1.37000e+01, 1.46200e+04],\n",
       "       [1.00000e+00, 7.47000e+02, 2.25000e+01, 1.09000e+02, 7.79000e+01,\n",
       "        8.31400e+03, 1.44000e+01, 1.68075e+04],\n",
       "       [1.00000e+00, 9.82000e+02, 1.94000e+01, 1.37000e+02, 6.53000e+01,\n",
       "        9.48300e+03, 1.33000e+01, 1.90508e+04],\n",
       "       [1.00000e+00, 7.19000e+02, 2.59000e+01, 1.09000e+02, 8.09000e+01,\n",
       "        8.29800e+03, 1.49000e+01, 1.86221e+04],\n",
       "       [1.00000e+00, 8.31000e+02, 1.85000e+01, 1.38000e+02, 8.02000e+01,\n",
       "        9.48300e+03, 1.46000e+01, 1.53735e+04],\n",
       "       [1.00000e+00, 8.58000e+02, 1.94000e+01, 1.19000e+02, 8.48000e+01,\n",
       "        1.26560e+04, 1.43000e+01, 1.66452e+04],\n",
       "       [1.00000e+00, 6.52000e+02, 2.72000e+01, 1.08000e+02, 8.64000e+01,\n",
       "        1.35660e+04, 1.46000e+01, 1.77344e+04],\n",
       "       [1.00000e+00, 7.18000e+02, 2.37000e+01, 1.15000e+02, 7.35000e+01,\n",
       "        9.48300e+03, 1.50000e+01, 1.70166e+04],\n",
       "       [1.00000e+00, 7.87000e+02, 2.08000e+01, 1.26000e+02, 7.47000e+01,\n",
       "        9.48300e+03, 1.49000e+01, 1.63696e+04],\n",
       "       [1.00000e+00, 5.15000e+02, 2.68000e+01, 1.06000e+02, 8.78000e+01,\n",
       "        8.29800e+03, 1.53000e+01, 1.38020e+04],\n",
       "       [1.00000e+00, 7.32000e+02, 2.30000e+01, 1.03000e+02, 8.66000e+01,\n",
       "        9.61100e+03, 1.38000e+01, 1.68360e+04],\n",
       "       [1.00000e+00, 7.83000e+02, 2.05000e+01, 1.25000e+02, 7.85000e+01,\n",
       "        9.48300e+03, 1.41000e+01, 1.60515e+04],\n",
       "       [1.00000e+00, 6.12000e+02, 2.37000e+01, 1.00000e+02, 8.06000e+01,\n",
       "        9.03300e+03, 1.33000e+01, 1.45044e+04],\n",
       "       [1.00000e+00, 4.86000e+02, 2.32000e+01, 1.17000e+02, 8.48000e+01,\n",
       "        8.29800e+03, 1.59000e+01, 1.12752e+04],\n",
       "       [1.00000e+00, 7.65000e+02, 2.36000e+01, 1.05000e+02, 7.92000e+01,\n",
       "        9.48300e+03, 1.37000e+01, 1.80540e+04],\n",
       "       [1.00000e+00, 7.93000e+02, 2.17000e+01, 1.25000e+02, 7.84000e+01,\n",
       "        9.48300e+03, 1.45000e+01, 1.72081e+04],\n",
       "       [1.00000e+00, 7.76000e+02, 2.30000e+01, 1.10000e+02, 7.72000e+01,\n",
       "        9.26500e+03, 1.36000e+01, 1.78480e+04],\n",
       "       [1.00000e+00, 9.78000e+02, 1.93000e+01, 1.30000e+02, 7.15000e+01,\n",
       "        9.48300e+03, 1.53000e+01, 1.88754e+04],\n",
       "       [1.00000e+00, 7.92000e+02, 2.12000e+01, 1.26000e+02, 8.22000e+01,\n",
       "        1.26560e+04, 1.51000e+01, 1.67904e+04]])"
      ]
     },
     "execution_count": 29,
     "metadata": {},
     "output_type": "execute_result"
    }
   ],
   "source": [
    "data.exog"
   ]
  },
  {
   "cell_type": "code",
   "execution_count": 19,
   "metadata": {},
   "outputs": [
    {
     "name": "stderr",
     "output_type": "stream",
     "text": [
      "c:\\users\\norbert\\appdata\\local\\programs\\python\\python36\\lib\\site-packages\\statsmodels\\genmod\\generalized_linear_model.py:278: DomainWarning: The inverse_power link function does not respect the domain of the Gamma family.\n",
      "  DomainWarning)\n"
     ]
    }
   ],
   "source": [
    "gamma_model = sm.GLM(data.endog, data.exog, family=sm.families.Gamma())"
   ]
  },
  {
   "cell_type": "code",
   "execution_count": 20,
   "metadata": {},
   "outputs": [],
   "source": [
    "gamma_results = gamma_model.fit()"
   ]
  },
  {
   "cell_type": "code",
   "execution_count": 21,
   "metadata": {},
   "outputs": [
    {
     "data": {
      "text/plain": [
       "array([-1.77652703e-02,  4.96176830e-05,  2.03442259e-03, -7.18142874e-05,\n",
       "        1.11852013e-04, -1.46751504e-07, -5.18683112e-04, -2.42717498e-06])"
      ]
     },
     "execution_count": 21,
     "metadata": {},
     "output_type": "execute_result"
    }
   ],
   "source": [
    "gamma_results.params"
   ]
  },
  {
   "cell_type": "code",
   "execution_count": null,
   "metadata": {},
   "outputs": [],
   "source": [
    "print(gamma_results.scale)\n",
    "print(gamma_results.deviance)\n",
    "print(gamma_results.pearson_chi2)\n",
    "print(gamma_results.llf)"
   ]
  },
  {
   "cell_type": "code",
   "execution_count": 30,
   "metadata": {},
   "outputs": [],
   "source": [
    "import numpy as np\n",
    "from statsmodels.multivariate.pca import PCA\n",
    "x = np.random.randn(100)[:, None]\n",
    "x = x + np.random.randn(100, 100)\n",
    "pc = PCA(x, method='eig')"
   ]
  },
  {
   "cell_type": "code",
   "execution_count": 31,
   "metadata": {},
   "outputs": [
    {
     "data": {
      "text/plain": [
       "Principal Component Analysis(nobs: 100, nvar: 100, transformation: Standardize (Correlation), normalization: True, number of components: 100, method: Eigenvalue, id: 0x230776c7898)"
      ]
     },
     "execution_count": 31,
     "metadata": {},
     "output_type": "execute_result"
    }
   ],
   "source": [
    "pc"
   ]
  },
  {
   "cell_type": "code",
   "execution_count": null,
   "metadata": {},
   "outputs": [],
   "source": []
  }
 ],
 "metadata": {
  "kernelspec": {
   "display_name": "Python 3",
   "language": "python",
   "name": "python3"
  },
  "language_info": {
   "codemirror_mode": {
    "name": "ipython",
    "version": 3
   },
   "file_extension": ".py",
   "mimetype": "text/x-python",
   "name": "python",
   "nbconvert_exporter": "python",
   "pygments_lexer": "ipython3",
   "version": "3.6.1"
  }
 },
 "nbformat": 4,
 "nbformat_minor": 2
}
