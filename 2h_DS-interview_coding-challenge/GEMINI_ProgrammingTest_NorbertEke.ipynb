{
 "cells": [
  {
   "cell_type": "markdown",
   "metadata": {},
   "source": [
    "# Task 1"
   ]
  },
  {
   "cell_type": "code",
   "execution_count": 1,
   "metadata": {},
   "outputs": [],
   "source": [
    "import pandas as pd\n",
    "import numpy as np"
   ]
  },
  {
   "cell_type": "markdown",
   "metadata": {},
   "source": [
    "Reading in the CSV files with Pandas"
   ]
  },
  {
   "cell_type": "code",
   "execution_count": 3,
   "metadata": {},
   "outputs": [],
   "source": [
    "adm_df = pd.read_csv('Admissions.csv')\n",
    "lab_df = pd.read_csv('Lab.csv')"
   ]
  },
  {
   "cell_type": "code",
   "execution_count": 5,
   "metadata": {},
   "outputs": [],
   "source": [
    "trans_df = pd.read_csv('Transfusions.csv')"
   ]
  },
  {
   "cell_type": "code",
   "execution_count": 6,
   "metadata": {},
   "outputs": [
    {
     "name": "stdout",
     "output_type": "stream",
     "text": [
      "<class 'pandas.core.frame.DataFrame'>\n",
      "RangeIndex: 5231 entries, 0 to 5230\n",
      "Data columns (total 11 columns):\n",
      " #   Column                      Non-Null Count  Dtype  \n",
      "---  ------                      --------------  -----  \n",
      " 0   admission_id                5231 non-null   int64  \n",
      " 1   patient_id                  5231 non-null   int64  \n",
      " 2   admission_date              5231 non-null   object \n",
      " 3   admission_time              4535 non-null   object \n",
      " 4   discharge_date              5231 non-null   object \n",
      " 5   discharge_time              5231 non-null   object \n",
      " 6   hospital                    5231 non-null   object \n",
      " 7   age                         4604 non-null   float64\n",
      " 8   sex                         5231 non-null   object \n",
      " 9   charlson_comorbidity_index  4970 non-null   object \n",
      " 10  lap_score                   5231 non-null   int64  \n",
      "dtypes: float64(1), int64(3), object(7)\n",
      "memory usage: 449.7+ KB\n"
     ]
    }
   ],
   "source": [
    "adm_df.info()"
   ]
  },
  {
   "cell_type": "markdown",
   "metadata": {},
   "source": [
    "Observations:\n",
    "    I can already see that \"admission_time\" was quite a few missing values (NaN). So does \"age\", and \"charlson_comorbidity_index\".\n",
    "    \n",
    "   admission_date, admission_time, discharge_date, discharge_time are not properly formatted, as they are objects, not datetime.\n",
    "   \n",
    "   We can see some descriptive statistics in the output of the .describe() function call"
   ]
  },
  {
   "cell_type": "code",
   "execution_count": 7,
   "metadata": {},
   "outputs": [
    {
     "data": {
      "text/html": [
       "<div>\n",
       "<style scoped>\n",
       "    .dataframe tbody tr th:only-of-type {\n",
       "        vertical-align: middle;\n",
       "    }\n",
       "\n",
       "    .dataframe tbody tr th {\n",
       "        vertical-align: top;\n",
       "    }\n",
       "\n",
       "    .dataframe thead th {\n",
       "        text-align: right;\n",
       "    }\n",
       "</style>\n",
       "<table border=\"1\" class=\"dataframe\">\n",
       "  <thead>\n",
       "    <tr style=\"text-align: right;\">\n",
       "      <th></th>\n",
       "      <th>admission_id</th>\n",
       "      <th>patient_id</th>\n",
       "      <th>admission_date</th>\n",
       "      <th>admission_time</th>\n",
       "      <th>discharge_date</th>\n",
       "      <th>discharge_time</th>\n",
       "      <th>hospital</th>\n",
       "      <th>age</th>\n",
       "      <th>sex</th>\n",
       "      <th>charlson_comorbidity_index</th>\n",
       "      <th>lap_score</th>\n",
       "    </tr>\n",
       "  </thead>\n",
       "  <tbody>\n",
       "    <tr>\n",
       "      <th>0</th>\n",
       "      <td>3602</td>\n",
       "      <td>34208</td>\n",
       "      <td>2011-09-07</td>\n",
       "      <td>NaN</td>\n",
       "      <td>09/11/2011</td>\n",
       "      <td>13:16</td>\n",
       "      <td>St. Joseph's Health Centre</td>\n",
       "      <td>NaN</td>\n",
       "      <td>M</td>\n",
       "      <td>1</td>\n",
       "      <td>45</td>\n",
       "    </tr>\n",
       "    <tr>\n",
       "      <th>1</th>\n",
       "      <td>2790</td>\n",
       "      <td>90930</td>\n",
       "      <td>2008-07-22</td>\n",
       "      <td>06:19</td>\n",
       "      <td>07/24/2008</td>\n",
       "      <td>17:54</td>\n",
       "      <td>St. Michael's Hospital</td>\n",
       "      <td>48.0</td>\n",
       "      <td>M</td>\n",
       "      <td>1</td>\n",
       "      <td>46</td>\n",
       "    </tr>\n",
       "    <tr>\n",
       "      <th>2</th>\n",
       "      <td>8755</td>\n",
       "      <td>97765</td>\n",
       "      <td>2002-08-24</td>\n",
       "      <td>14:28</td>\n",
       "      <td>08/27/2002</td>\n",
       "      <td>08:14</td>\n",
       "      <td>Mount Sinai Hospital</td>\n",
       "      <td>59.0</td>\n",
       "      <td>F</td>\n",
       "      <td>0</td>\n",
       "      <td>35</td>\n",
       "    </tr>\n",
       "    <tr>\n",
       "      <th>3</th>\n",
       "      <td>9260</td>\n",
       "      <td>17941</td>\n",
       "      <td>2007-01-12</td>\n",
       "      <td>09:39</td>\n",
       "      <td>01/26/2007</td>\n",
       "      <td>11:10</td>\n",
       "      <td>Sunnybrook Health Sciences Centre</td>\n",
       "      <td>57.0</td>\n",
       "      <td>M</td>\n",
       "      <td>1</td>\n",
       "      <td>18</td>\n",
       "    </tr>\n",
       "    <tr>\n",
       "      <th>4</th>\n",
       "      <td>5317</td>\n",
       "      <td>36532</td>\n",
       "      <td>2003-09-24</td>\n",
       "      <td>13:37</td>\n",
       "      <td>10/12/2003</td>\n",
       "      <td>16:23</td>\n",
       "      <td>Toronto Western Hospital</td>\n",
       "      <td>51.0</td>\n",
       "      <td>F</td>\n",
       "      <td>1</td>\n",
       "      <td>21</td>\n",
       "    </tr>\n",
       "  </tbody>\n",
       "</table>\n",
       "</div>"
      ],
      "text/plain": [
       "   admission_id  patient_id admission_date admission_time discharge_date  \\\n",
       "0          3602       34208     2011-09-07            NaN     09/11/2011   \n",
       "1          2790       90930     2008-07-22          06:19     07/24/2008   \n",
       "2          8755       97765     2002-08-24          14:28     08/27/2002   \n",
       "3          9260       17941     2007-01-12          09:39     01/26/2007   \n",
       "4          5317       36532     2003-09-24          13:37     10/12/2003   \n",
       "\n",
       "  discharge_time                           hospital   age sex  \\\n",
       "0          13:16         St. Joseph's Health Centre   NaN   M   \n",
       "1          17:54             St. Michael's Hospital  48.0   M   \n",
       "2          08:14               Mount Sinai Hospital  59.0   F   \n",
       "3          11:10  Sunnybrook Health Sciences Centre  57.0   M   \n",
       "4          16:23           Toronto Western Hospital  51.0   F   \n",
       "\n",
       "  charlson_comorbidity_index  lap_score  \n",
       "0                          1         45  \n",
       "1                          1         46  \n",
       "2                          0         35  \n",
       "3                          1         18  \n",
       "4                          1         21  "
      ]
     },
     "execution_count": 7,
     "metadata": {},
     "output_type": "execute_result"
    }
   ],
   "source": [
    "adm_df.head()"
   ]
  },
  {
   "cell_type": "code",
   "execution_count": 12,
   "metadata": {},
   "outputs": [
    {
     "data": {
      "text/html": [
       "<div>\n",
       "<style scoped>\n",
       "    .dataframe tbody tr th:only-of-type {\n",
       "        vertical-align: middle;\n",
       "    }\n",
       "\n",
       "    .dataframe tbody tr th {\n",
       "        vertical-align: top;\n",
       "    }\n",
       "\n",
       "    .dataframe thead th {\n",
       "        text-align: right;\n",
       "    }\n",
       "</style>\n",
       "<table border=\"1\" class=\"dataframe\">\n",
       "  <thead>\n",
       "    <tr style=\"text-align: right;\">\n",
       "      <th></th>\n",
       "      <th>admission_id</th>\n",
       "      <th>patient_id</th>\n",
       "      <th>age</th>\n",
       "      <th>lap_score</th>\n",
       "    </tr>\n",
       "  </thead>\n",
       "  <tbody>\n",
       "    <tr>\n",
       "      <th>count</th>\n",
       "      <td>5231.000000</td>\n",
       "      <td>5231.000000</td>\n",
       "      <td>4604.00000</td>\n",
       "      <td>5231.000000</td>\n",
       "    </tr>\n",
       "    <tr>\n",
       "      <th>mean</th>\n",
       "      <td>5512.069776</td>\n",
       "      <td>54170.202829</td>\n",
       "      <td>54.94874</td>\n",
       "      <td>27.528197</td>\n",
       "    </tr>\n",
       "    <tr>\n",
       "      <th>std</th>\n",
       "      <td>2584.436372</td>\n",
       "      <td>26121.399502</td>\n",
       "      <td>5.05146</td>\n",
       "      <td>21.423248</td>\n",
       "    </tr>\n",
       "    <tr>\n",
       "      <th>min</th>\n",
       "      <td>1003.000000</td>\n",
       "      <td>10017.000000</td>\n",
       "      <td>38.00000</td>\n",
       "      <td>0.000000</td>\n",
       "    </tr>\n",
       "    <tr>\n",
       "      <th>25%</th>\n",
       "      <td>3280.500000</td>\n",
       "      <td>30970.000000</td>\n",
       "      <td>51.00000</td>\n",
       "      <td>11.000000</td>\n",
       "    </tr>\n",
       "    <tr>\n",
       "      <th>50%</th>\n",
       "      <td>5501.000000</td>\n",
       "      <td>54736.000000</td>\n",
       "      <td>55.00000</td>\n",
       "      <td>23.000000</td>\n",
       "    </tr>\n",
       "    <tr>\n",
       "      <th>75%</th>\n",
       "      <td>7760.500000</td>\n",
       "      <td>76768.500000</td>\n",
       "      <td>58.00000</td>\n",
       "      <td>40.000000</td>\n",
       "    </tr>\n",
       "    <tr>\n",
       "      <th>max</th>\n",
       "      <td>9997.000000</td>\n",
       "      <td>99984.000000</td>\n",
       "      <td>74.00000</td>\n",
       "      <td>136.000000</td>\n",
       "    </tr>\n",
       "  </tbody>\n",
       "</table>\n",
       "</div>"
      ],
      "text/plain": [
       "       admission_id    patient_id         age    lap_score\n",
       "count   5231.000000   5231.000000  4604.00000  5231.000000\n",
       "mean    5512.069776  54170.202829    54.94874    27.528197\n",
       "std     2584.436372  26121.399502     5.05146    21.423248\n",
       "min     1003.000000  10017.000000    38.00000     0.000000\n",
       "25%     3280.500000  30970.000000    51.00000    11.000000\n",
       "50%     5501.000000  54736.000000    55.00000    23.000000\n",
       "75%     7760.500000  76768.500000    58.00000    40.000000\n",
       "max     9997.000000  99984.000000    74.00000   136.000000"
      ]
     },
     "execution_count": 12,
     "metadata": {},
     "output_type": "execute_result"
    }
   ],
   "source": [
    "adm_df.describe()"
   ]
  },
  {
   "cell_type": "code",
   "execution_count": 9,
   "metadata": {},
   "outputs": [
    {
     "name": "stdout",
     "output_type": "stream",
     "text": [
      "<class 'pandas.core.frame.DataFrame'>\n",
      "RangeIndex: 3609 entries, 0 to 3608\n",
      "Data columns (total 7 columns):\n",
      " #   Column        Non-Null Count  Dtype  \n",
      "---  ------        --------------  -----  \n",
      " 0   admission_id  3609 non-null   int64  \n",
      " 1   test_name     3609 non-null   object \n",
      " 2   test_code     3609 non-null   object \n",
      " 3   result_unit   3609 non-null   object \n",
      " 4   result_value  3609 non-null   float64\n",
      " 5   result_date   3609 non-null   object \n",
      " 6   result_time   3609 non-null   object \n",
      "dtypes: float64(1), int64(1), object(5)\n",
      "memory usage: 197.5+ KB\n"
     ]
    }
   ],
   "source": [
    "lab_df.info()"
   ]
  },
  {
   "cell_type": "code",
   "execution_count": 10,
   "metadata": {},
   "outputs": [
    {
     "data": {
      "text/html": [
       "<div>\n",
       "<style scoped>\n",
       "    .dataframe tbody tr th:only-of-type {\n",
       "        vertical-align: middle;\n",
       "    }\n",
       "\n",
       "    .dataframe tbody tr th {\n",
       "        vertical-align: top;\n",
       "    }\n",
       "\n",
       "    .dataframe thead th {\n",
       "        text-align: right;\n",
       "    }\n",
       "</style>\n",
       "<table border=\"1\" class=\"dataframe\">\n",
       "  <thead>\n",
       "    <tr style=\"text-align: right;\">\n",
       "      <th></th>\n",
       "      <th>admission_id</th>\n",
       "      <th>result_value</th>\n",
       "    </tr>\n",
       "  </thead>\n",
       "  <tbody>\n",
       "    <tr>\n",
       "      <th>count</th>\n",
       "      <td>3609.000000</td>\n",
       "      <td>3609.000000</td>\n",
       "    </tr>\n",
       "    <tr>\n",
       "      <th>mean</th>\n",
       "      <td>5451.744250</td>\n",
       "      <td>81.539762</td>\n",
       "    </tr>\n",
       "    <tr>\n",
       "      <th>std</th>\n",
       "      <td>2609.854333</td>\n",
       "      <td>94.470176</td>\n",
       "    </tr>\n",
       "    <tr>\n",
       "      <th>min</th>\n",
       "      <td>1003.000000</td>\n",
       "      <td>0.000000</td>\n",
       "    </tr>\n",
       "    <tr>\n",
       "      <th>25%</th>\n",
       "      <td>3194.000000</td>\n",
       "      <td>3.600000</td>\n",
       "    </tr>\n",
       "    <tr>\n",
       "      <th>50%</th>\n",
       "      <td>5413.000000</td>\n",
       "      <td>48.600000</td>\n",
       "    </tr>\n",
       "    <tr>\n",
       "      <th>75%</th>\n",
       "      <td>7715.000000</td>\n",
       "      <td>140.900000</td>\n",
       "    </tr>\n",
       "    <tr>\n",
       "      <th>max</th>\n",
       "      <td>9997.000000</td>\n",
       "      <td>584.400000</td>\n",
       "    </tr>\n",
       "  </tbody>\n",
       "</table>\n",
       "</div>"
      ],
      "text/plain": [
       "       admission_id  result_value\n",
       "count   3609.000000   3609.000000\n",
       "mean    5451.744250     81.539762\n",
       "std     2609.854333     94.470176\n",
       "min     1003.000000      0.000000\n",
       "25%     3194.000000      3.600000\n",
       "50%     5413.000000     48.600000\n",
       "75%     7715.000000    140.900000\n",
       "max     9997.000000    584.400000"
      ]
     },
     "execution_count": 10,
     "metadata": {},
     "output_type": "execute_result"
    }
   ],
   "source": [
    "lab_df.describe()"
   ]
  },
  {
   "cell_type": "markdown",
   "metadata": {},
   "source": [
    "Observation: '\n",
    "    no missing values in lab_df\n",
    "    admission_id seems to be randomly generated\n",
    "    result value is float, which is good"
   ]
  },
  {
   "cell_type": "code",
   "execution_count": 11,
   "metadata": {},
   "outputs": [
    {
     "data": {
      "text/html": [
       "<div>\n",
       "<style scoped>\n",
       "    .dataframe tbody tr th:only-of-type {\n",
       "        vertical-align: middle;\n",
       "    }\n",
       "\n",
       "    .dataframe tbody tr th {\n",
       "        vertical-align: top;\n",
       "    }\n",
       "\n",
       "    .dataframe thead th {\n",
       "        text-align: right;\n",
       "    }\n",
       "</style>\n",
       "<table border=\"1\" class=\"dataframe\">\n",
       "  <thead>\n",
       "    <tr style=\"text-align: right;\">\n",
       "      <th></th>\n",
       "      <th>admission_id</th>\n",
       "      <th>test_name</th>\n",
       "      <th>test_code</th>\n",
       "      <th>result_unit</th>\n",
       "      <th>result_value</th>\n",
       "      <th>result_date</th>\n",
       "      <th>result_time</th>\n",
       "    </tr>\n",
       "  </thead>\n",
       "  <tbody>\n",
       "    <tr>\n",
       "      <th>0</th>\n",
       "      <td>4416</td>\n",
       "      <td>Albumin</td>\n",
       "      <td>ALB</td>\n",
       "      <td>g/dL</td>\n",
       "      <td>4.1</td>\n",
       "      <td>2003-08-19</td>\n",
       "      <td>02:25</td>\n",
       "    </tr>\n",
       "    <tr>\n",
       "      <th>1</th>\n",
       "      <td>4636</td>\n",
       "      <td>Platelet Count</td>\n",
       "      <td>PLT</td>\n",
       "      <td>E9/L</td>\n",
       "      <td>295.0</td>\n",
       "      <td>2012-02-05</td>\n",
       "      <td>01:42</td>\n",
       "    </tr>\n",
       "    <tr>\n",
       "      <th>2</th>\n",
       "      <td>8041</td>\n",
       "      <td>Hemoglobin</td>\n",
       "      <td>RBC</td>\n",
       "      <td>g/L</td>\n",
       "      <td>165.4</td>\n",
       "      <td>2004-04-18</td>\n",
       "      <td>08:05</td>\n",
       "    </tr>\n",
       "    <tr>\n",
       "      <th>3</th>\n",
       "      <td>7384</td>\n",
       "      <td>Chloride plasma</td>\n",
       "      <td>CLPL</td>\n",
       "      <td>mmol/L</td>\n",
       "      <td>193.0</td>\n",
       "      <td>2000-04-04</td>\n",
       "      <td>14:55</td>\n",
       "    </tr>\n",
       "    <tr>\n",
       "      <th>4</th>\n",
       "      <td>2604</td>\n",
       "      <td>Albumin</td>\n",
       "      <td>ALB</td>\n",
       "      <td>g/dL</td>\n",
       "      <td>6.0</td>\n",
       "      <td>2008-02-01</td>\n",
       "      <td>11:30</td>\n",
       "    </tr>\n",
       "  </tbody>\n",
       "</table>\n",
       "</div>"
      ],
      "text/plain": [
       "   admission_id        test_name test_code result_unit  result_value  \\\n",
       "0          4416          Albumin       ALB        g/dL           4.1   \n",
       "1          4636   Platelet Count       PLT        E9/L         295.0   \n",
       "2          8041       Hemoglobin       RBC         g/L         165.4   \n",
       "3          7384  Chloride plasma      CLPL      mmol/L         193.0   \n",
       "4          2604          Albumin       ALB        g/dL           6.0   \n",
       "\n",
       "  result_date result_time  \n",
       "0  2003-08-19       02:25  \n",
       "1  2012-02-05       01:42  \n",
       "2  2004-04-18       08:05  \n",
       "3  2000-04-04       14:55  \n",
       "4  2008-02-01       11:30  "
      ]
     },
     "execution_count": 11,
     "metadata": {},
     "output_type": "execute_result"
    }
   ],
   "source": [
    "lab_df.head()"
   ]
  },
  {
   "cell_type": "code",
   "execution_count": 13,
   "metadata": {},
   "outputs": [
    {
     "name": "stdout",
     "output_type": "stream",
     "text": [
      "<class 'pandas.core.frame.DataFrame'>\n",
      "RangeIndex: 657 entries, 0 to 656\n",
      "Data columns (total 6 columns):\n",
      " #   Column                Non-Null Count  Dtype \n",
      "---  ------                --------------  ----- \n",
      " 0   admission_id          657 non-null    int64 \n",
      " 1   issue_date            657 non-null    object\n",
      " 2   issue_time            657 non-null    object\n",
      " 3   rbc_transfusion       657 non-null    bool  \n",
      " 4   platelet_transfusion  657 non-null    bool  \n",
      " 5   plasma_transfusion    657 non-null    bool  \n",
      "dtypes: bool(3), int64(1), object(2)\n",
      "memory usage: 17.4+ KB\n"
     ]
    }
   ],
   "source": [
    "trans_df.info()"
   ]
  },
  {
   "cell_type": "code",
   "execution_count": 14,
   "metadata": {},
   "outputs": [
    {
     "data": {
      "text/html": [
       "<div>\n",
       "<style scoped>\n",
       "    .dataframe tbody tr th:only-of-type {\n",
       "        vertical-align: middle;\n",
       "    }\n",
       "\n",
       "    .dataframe tbody tr th {\n",
       "        vertical-align: top;\n",
       "    }\n",
       "\n",
       "    .dataframe thead th {\n",
       "        text-align: right;\n",
       "    }\n",
       "</style>\n",
       "<table border=\"1\" class=\"dataframe\">\n",
       "  <thead>\n",
       "    <tr style=\"text-align: right;\">\n",
       "      <th></th>\n",
       "      <th>admission_id</th>\n",
       "    </tr>\n",
       "  </thead>\n",
       "  <tbody>\n",
       "    <tr>\n",
       "      <th>count</th>\n",
       "      <td>657.000000</td>\n",
       "    </tr>\n",
       "    <tr>\n",
       "      <th>mean</th>\n",
       "      <td>5561.634703</td>\n",
       "    </tr>\n",
       "    <tr>\n",
       "      <th>std</th>\n",
       "      <td>2577.215753</td>\n",
       "    </tr>\n",
       "    <tr>\n",
       "      <th>min</th>\n",
       "      <td>1010.000000</td>\n",
       "    </tr>\n",
       "    <tr>\n",
       "      <th>25%</th>\n",
       "      <td>3408.000000</td>\n",
       "    </tr>\n",
       "    <tr>\n",
       "      <th>50%</th>\n",
       "      <td>5619.000000</td>\n",
       "    </tr>\n",
       "    <tr>\n",
       "      <th>75%</th>\n",
       "      <td>7760.000000</td>\n",
       "    </tr>\n",
       "    <tr>\n",
       "      <th>max</th>\n",
       "      <td>9997.000000</td>\n",
       "    </tr>\n",
       "  </tbody>\n",
       "</table>\n",
       "</div>"
      ],
      "text/plain": [
       "       admission_id\n",
       "count    657.000000\n",
       "mean    5561.634703\n",
       "std     2577.215753\n",
       "min     1010.000000\n",
       "25%     3408.000000\n",
       "50%     5619.000000\n",
       "75%     7760.000000\n",
       "max     9997.000000"
      ]
     },
     "execution_count": 14,
     "metadata": {},
     "output_type": "execute_result"
    }
   ],
   "source": [
    "trans_df.describe()"
   ]
  },
  {
   "cell_type": "markdown",
   "metadata": {},
   "source": [
    "# Task 2"
   ]
  },
  {
   "cell_type": "code",
   "execution_count": 16,
   "metadata": {},
   "outputs": [],
   "source": [
    "first_two = adm_df.merge(lab_df, on='admission_id', how='left')"
   ]
  },
  {
   "cell_type": "code",
   "execution_count": 17,
   "metadata": {},
   "outputs": [],
   "source": [
    "all_df = first_two.merge(trans_df, on='admission_id', how='left')"
   ]
  },
  {
   "cell_type": "code",
   "execution_count": 18,
   "metadata": {},
   "outputs": [
    {
     "name": "stdout",
     "output_type": "stream",
     "text": [
      "<class 'pandas.core.frame.DataFrame'>\n",
      "Int64Index: 5231 entries, 0 to 5230\n",
      "Data columns (total 17 columns):\n",
      " #   Column                      Non-Null Count  Dtype  \n",
      "---  ------                      --------------  -----  \n",
      " 0   admission_id                5231 non-null   int64  \n",
      " 1   patient_id                  5231 non-null   int64  \n",
      " 2   admission_date              5231 non-null   object \n",
      " 3   admission_time              4535 non-null   object \n",
      " 4   discharge_date              5231 non-null   object \n",
      " 5   discharge_time              5231 non-null   object \n",
      " 6   hospital                    5231 non-null   object \n",
      " 7   age                         4604 non-null   float64\n",
      " 8   sex                         5231 non-null   object \n",
      " 9   charlson_comorbidity_index  4970 non-null   object \n",
      " 10  lap_score                   5231 non-null   int64  \n",
      " 11  test_name                   3609 non-null   object \n",
      " 12  test_code                   3609 non-null   object \n",
      " 13  result_unit                 3609 non-null   object \n",
      " 14  result_value                3609 non-null   float64\n",
      " 15  result_date                 3609 non-null   object \n",
      " 16  result_time                 3609 non-null   object \n",
      "dtypes: float64(2), int64(3), object(12)\n",
      "memory usage: 735.6+ KB\n"
     ]
    }
   ],
   "source": [
    "first_two.info()"
   ]
  },
  {
   "cell_type": "code",
   "execution_count": 19,
   "metadata": {},
   "outputs": [
    {
     "data": {
      "text/html": [
       "<div>\n",
       "<style scoped>\n",
       "    .dataframe tbody tr th:only-of-type {\n",
       "        vertical-align: middle;\n",
       "    }\n",
       "\n",
       "    .dataframe tbody tr th {\n",
       "        vertical-align: top;\n",
       "    }\n",
       "\n",
       "    .dataframe thead th {\n",
       "        text-align: right;\n",
       "    }\n",
       "</style>\n",
       "<table border=\"1\" class=\"dataframe\">\n",
       "  <thead>\n",
       "    <tr style=\"text-align: right;\">\n",
       "      <th></th>\n",
       "      <th>admission_id</th>\n",
       "      <th>patient_id</th>\n",
       "      <th>admission_date</th>\n",
       "      <th>admission_time</th>\n",
       "      <th>discharge_date</th>\n",
       "      <th>discharge_time</th>\n",
       "      <th>hospital</th>\n",
       "      <th>age</th>\n",
       "      <th>sex</th>\n",
       "      <th>charlson_comorbidity_index</th>\n",
       "      <th>lap_score</th>\n",
       "      <th>test_name</th>\n",
       "      <th>test_code</th>\n",
       "      <th>result_unit</th>\n",
       "      <th>result_value</th>\n",
       "      <th>result_date</th>\n",
       "      <th>result_time</th>\n",
       "    </tr>\n",
       "  </thead>\n",
       "  <tbody>\n",
       "    <tr>\n",
       "      <th>0</th>\n",
       "      <td>3602</td>\n",
       "      <td>34208</td>\n",
       "      <td>2011-09-07</td>\n",
       "      <td>NaN</td>\n",
       "      <td>09/11/2011</td>\n",
       "      <td>13:16</td>\n",
       "      <td>St. Joseph's Health Centre</td>\n",
       "      <td>NaN</td>\n",
       "      <td>M</td>\n",
       "      <td>1</td>\n",
       "      <td>45</td>\n",
       "      <td>NaN</td>\n",
       "      <td>NaN</td>\n",
       "      <td>NaN</td>\n",
       "      <td>NaN</td>\n",
       "      <td>NaN</td>\n",
       "      <td>NaN</td>\n",
       "    </tr>\n",
       "    <tr>\n",
       "      <th>1</th>\n",
       "      <td>2790</td>\n",
       "      <td>90930</td>\n",
       "      <td>2008-07-22</td>\n",
       "      <td>06:19</td>\n",
       "      <td>07/24/2008</td>\n",
       "      <td>17:54</td>\n",
       "      <td>St. Michael's Hospital</td>\n",
       "      <td>48.0</td>\n",
       "      <td>M</td>\n",
       "      <td>1</td>\n",
       "      <td>46</td>\n",
       "      <td>Albumin</td>\n",
       "      <td>ALB</td>\n",
       "      <td>g/dL</td>\n",
       "      <td>2.2</td>\n",
       "      <td>2008-07-22</td>\n",
       "      <td>16:45</td>\n",
       "    </tr>\n",
       "    <tr>\n",
       "      <th>2</th>\n",
       "      <td>8755</td>\n",
       "      <td>97765</td>\n",
       "      <td>2002-08-24</td>\n",
       "      <td>14:28</td>\n",
       "      <td>08/27/2002</td>\n",
       "      <td>08:14</td>\n",
       "      <td>Mount Sinai Hospital</td>\n",
       "      <td>59.0</td>\n",
       "      <td>F</td>\n",
       "      <td>0</td>\n",
       "      <td>35</td>\n",
       "      <td>Albumin</td>\n",
       "      <td>ALB</td>\n",
       "      <td>g/dL</td>\n",
       "      <td>1.8</td>\n",
       "      <td>2002-08-26</td>\n",
       "      <td>15:27</td>\n",
       "    </tr>\n",
       "    <tr>\n",
       "      <th>3</th>\n",
       "      <td>9260</td>\n",
       "      <td>17941</td>\n",
       "      <td>2007-01-12</td>\n",
       "      <td>09:39</td>\n",
       "      <td>01/26/2007</td>\n",
       "      <td>11:10</td>\n",
       "      <td>Sunnybrook Health Sciences Centre</td>\n",
       "      <td>57.0</td>\n",
       "      <td>M</td>\n",
       "      <td>1</td>\n",
       "      <td>18</td>\n",
       "      <td>Hemoglobin</td>\n",
       "      <td>RBC</td>\n",
       "      <td>g/L</td>\n",
       "      <td>172.1</td>\n",
       "      <td>2007-01-12</td>\n",
       "      <td>20:10</td>\n",
       "    </tr>\n",
       "    <tr>\n",
       "      <th>4</th>\n",
       "      <td>5317</td>\n",
       "      <td>36532</td>\n",
       "      <td>2003-09-24</td>\n",
       "      <td>13:37</td>\n",
       "      <td>10/12/2003</td>\n",
       "      <td>16:23</td>\n",
       "      <td>Toronto Western Hospital</td>\n",
       "      <td>51.0</td>\n",
       "      <td>F</td>\n",
       "      <td>1</td>\n",
       "      <td>21</td>\n",
       "      <td>Albumin</td>\n",
       "      <td>ALB</td>\n",
       "      <td>g/dL</td>\n",
       "      <td>2.5</td>\n",
       "      <td>2003-09-27</td>\n",
       "      <td>19:31</td>\n",
       "    </tr>\n",
       "  </tbody>\n",
       "</table>\n",
       "</div>"
      ],
      "text/plain": [
       "   admission_id  patient_id admission_date admission_time discharge_date  \\\n",
       "0          3602       34208     2011-09-07            NaN     09/11/2011   \n",
       "1          2790       90930     2008-07-22          06:19     07/24/2008   \n",
       "2          8755       97765     2002-08-24          14:28     08/27/2002   \n",
       "3          9260       17941     2007-01-12          09:39     01/26/2007   \n",
       "4          5317       36532     2003-09-24          13:37     10/12/2003   \n",
       "\n",
       "  discharge_time                           hospital   age sex  \\\n",
       "0          13:16         St. Joseph's Health Centre   NaN   M   \n",
       "1          17:54             St. Michael's Hospital  48.0   M   \n",
       "2          08:14               Mount Sinai Hospital  59.0   F   \n",
       "3          11:10  Sunnybrook Health Sciences Centre  57.0   M   \n",
       "4          16:23           Toronto Western Hospital  51.0   F   \n",
       "\n",
       "  charlson_comorbidity_index  lap_score   test_name test_code result_unit  \\\n",
       "0                          1         45         NaN       NaN         NaN   \n",
       "1                          1         46     Albumin       ALB        g/dL   \n",
       "2                          0         35     Albumin       ALB        g/dL   \n",
       "3                          1         18  Hemoglobin       RBC         g/L   \n",
       "4                          1         21     Albumin       ALB        g/dL   \n",
       "\n",
       "   result_value result_date result_time  \n",
       "0           NaN         NaN         NaN  \n",
       "1           2.2  2008-07-22       16:45  \n",
       "2           1.8  2002-08-26       15:27  \n",
       "3         172.1  2007-01-12       20:10  \n",
       "4           2.5  2003-09-27       19:31  "
      ]
     },
     "execution_count": 19,
     "metadata": {},
     "output_type": "execute_result"
    }
   ],
   "source": [
    "first_two.head()"
   ]
  },
  {
   "cell_type": "markdown",
   "metadata": {},
   "source": [
    "Let's see how does the merged df look like"
   ]
  },
  {
   "cell_type": "code",
   "execution_count": 20,
   "metadata": {},
   "outputs": [
    {
     "name": "stdout",
     "output_type": "stream",
     "text": [
      "<class 'pandas.core.frame.DataFrame'>\n",
      "Int64Index: 5231 entries, 0 to 5230\n",
      "Data columns (total 22 columns):\n",
      " #   Column                      Non-Null Count  Dtype  \n",
      "---  ------                      --------------  -----  \n",
      " 0   admission_id                5231 non-null   int64  \n",
      " 1   patient_id                  5231 non-null   int64  \n",
      " 2   admission_date              5231 non-null   object \n",
      " 3   admission_time              4535 non-null   object \n",
      " 4   discharge_date              5231 non-null   object \n",
      " 5   discharge_time              5231 non-null   object \n",
      " 6   hospital                    5231 non-null   object \n",
      " 7   age                         4604 non-null   float64\n",
      " 8   sex                         5231 non-null   object \n",
      " 9   charlson_comorbidity_index  4970 non-null   object \n",
      " 10  lap_score                   5231 non-null   int64  \n",
      " 11  test_name                   3609 non-null   object \n",
      " 12  test_code                   3609 non-null   object \n",
      " 13  result_unit                 3609 non-null   object \n",
      " 14  result_value                3609 non-null   float64\n",
      " 15  result_date                 3609 non-null   object \n",
      " 16  result_time                 3609 non-null   object \n",
      " 17  issue_date                  657 non-null    object \n",
      " 18  issue_time                  657 non-null    object \n",
      " 19  rbc_transfusion             657 non-null    object \n",
      " 20  platelet_transfusion        657 non-null    object \n",
      " 21  plasma_transfusion          657 non-null    object \n",
      "dtypes: float64(2), int64(3), object(17)\n",
      "memory usage: 939.9+ KB\n"
     ]
    }
   ],
   "source": [
    "all_df.info()"
   ]
  },
  {
   "cell_type": "markdown",
   "metadata": {},
   "source": [
    "Find percentage of missing values\n",
    "\n",
    "Quickly looked it up on stackOverflow to not waste time figuring it out myself\n",
    "https://stackoverflow.com/questions/51070985/find-out-the-percentage-of-missing-values-in-each-column-in-the-given-dataset"
   ]
  },
  {
   "cell_type": "code",
   "execution_count": 24,
   "metadata": {},
   "outputs": [],
   "source": [
    "percent_missing = all_df.isnull().sum() * 100 / len(all_df)\n",
    "missing_value_df = pd.DataFrame({'percent_missing': percent_missing})"
   ]
  },
  {
   "cell_type": "code",
   "execution_count": 25,
   "metadata": {},
   "outputs": [
    {
     "data": {
      "text/html": [
       "<div>\n",
       "<style scoped>\n",
       "    .dataframe tbody tr th:only-of-type {\n",
       "        vertical-align: middle;\n",
       "    }\n",
       "\n",
       "    .dataframe tbody tr th {\n",
       "        vertical-align: top;\n",
       "    }\n",
       "\n",
       "    .dataframe thead th {\n",
       "        text-align: right;\n",
       "    }\n",
       "</style>\n",
       "<table border=\"1\" class=\"dataframe\">\n",
       "  <thead>\n",
       "    <tr style=\"text-align: right;\">\n",
       "      <th></th>\n",
       "      <th>percent_missing</th>\n",
       "    </tr>\n",
       "  </thead>\n",
       "  <tbody>\n",
       "    <tr>\n",
       "      <th>admission_id</th>\n",
       "      <td>0.000000</td>\n",
       "    </tr>\n",
       "    <tr>\n",
       "      <th>patient_id</th>\n",
       "      <td>0.000000</td>\n",
       "    </tr>\n",
       "    <tr>\n",
       "      <th>admission_date</th>\n",
       "      <td>0.000000</td>\n",
       "    </tr>\n",
       "    <tr>\n",
       "      <th>admission_time</th>\n",
       "      <td>13.305295</td>\n",
       "    </tr>\n",
       "    <tr>\n",
       "      <th>discharge_date</th>\n",
       "      <td>0.000000</td>\n",
       "    </tr>\n",
       "    <tr>\n",
       "      <th>discharge_time</th>\n",
       "      <td>0.000000</td>\n",
       "    </tr>\n",
       "    <tr>\n",
       "      <th>hospital</th>\n",
       "      <td>0.000000</td>\n",
       "    </tr>\n",
       "    <tr>\n",
       "      <th>age</th>\n",
       "      <td>11.986236</td>\n",
       "    </tr>\n",
       "    <tr>\n",
       "      <th>sex</th>\n",
       "      <td>0.000000</td>\n",
       "    </tr>\n",
       "    <tr>\n",
       "      <th>charlson_comorbidity_index</th>\n",
       "      <td>4.989486</td>\n",
       "    </tr>\n",
       "    <tr>\n",
       "      <th>lap_score</th>\n",
       "      <td>0.000000</td>\n",
       "    </tr>\n",
       "    <tr>\n",
       "      <th>test_name</th>\n",
       "      <td>31.007456</td>\n",
       "    </tr>\n",
       "    <tr>\n",
       "      <th>test_code</th>\n",
       "      <td>31.007456</td>\n",
       "    </tr>\n",
       "    <tr>\n",
       "      <th>result_unit</th>\n",
       "      <td>31.007456</td>\n",
       "    </tr>\n",
       "    <tr>\n",
       "      <th>result_value</th>\n",
       "      <td>31.007456</td>\n",
       "    </tr>\n",
       "    <tr>\n",
       "      <th>result_date</th>\n",
       "      <td>31.007456</td>\n",
       "    </tr>\n",
       "    <tr>\n",
       "      <th>result_time</th>\n",
       "      <td>31.007456</td>\n",
       "    </tr>\n",
       "    <tr>\n",
       "      <th>issue_date</th>\n",
       "      <td>87.440260</td>\n",
       "    </tr>\n",
       "    <tr>\n",
       "      <th>issue_time</th>\n",
       "      <td>87.440260</td>\n",
       "    </tr>\n",
       "    <tr>\n",
       "      <th>rbc_transfusion</th>\n",
       "      <td>87.440260</td>\n",
       "    </tr>\n",
       "    <tr>\n",
       "      <th>platelet_transfusion</th>\n",
       "      <td>87.440260</td>\n",
       "    </tr>\n",
       "    <tr>\n",
       "      <th>plasma_transfusion</th>\n",
       "      <td>87.440260</td>\n",
       "    </tr>\n",
       "  </tbody>\n",
       "</table>\n",
       "</div>"
      ],
      "text/plain": [
       "                            percent_missing\n",
       "admission_id                       0.000000\n",
       "patient_id                         0.000000\n",
       "admission_date                     0.000000\n",
       "admission_time                    13.305295\n",
       "discharge_date                     0.000000\n",
       "discharge_time                     0.000000\n",
       "hospital                           0.000000\n",
       "age                               11.986236\n",
       "sex                                0.000000\n",
       "charlson_comorbidity_index         4.989486\n",
       "lap_score                          0.000000\n",
       "test_name                         31.007456\n",
       "test_code                         31.007456\n",
       "result_unit                       31.007456\n",
       "result_value                      31.007456\n",
       "result_date                       31.007456\n",
       "result_time                       31.007456\n",
       "issue_date                        87.440260\n",
       "issue_time                        87.440260\n",
       "rbc_transfusion                   87.440260\n",
       "platelet_transfusion              87.440260\n",
       "plasma_transfusion                87.440260"
      ]
     },
     "execution_count": 25,
     "metadata": {},
     "output_type": "execute_result"
    }
   ],
   "source": [
    "missing_value_df"
   ]
  },
  {
   "cell_type": "code",
   "execution_count": 27,
   "metadata": {},
   "outputs": [
    {
     "data": {
      "text/plain": [
       "87.44025998852992"
      ]
     },
     "execution_count": 27,
     "metadata": {},
     "output_type": "execute_result"
    }
   ],
   "source": [
    "#Quick test let's say for rbc_transfusion\n",
    "100 - (657 / 5231) * 100"
   ]
  },
  {
   "cell_type": "markdown",
   "metadata": {},
   "source": [
    "It works !! Good enough for now. Let's quickly move on to Task 3, since I have 1.5 h left only"
   ]
  },
  {
   "cell_type": "markdown",
   "metadata": {},
   "source": [
    "# Task 3"
   ]
  },
  {
   "cell_type": "markdown",
   "metadata": {},
   "source": [
    "TO DO:\tCreate a new length_of_stay variable defined as discharge date and time minus admission date and time (in unrounded days). Print the mean length_of_stay for each hospital."
   ]
  },
  {
   "cell_type": "code",
   "execution_count": 48,
   "metadata": {},
   "outputs": [
    {
     "data": {
      "text/html": [
       "<div>\n",
       "<style scoped>\n",
       "    .dataframe tbody tr th:only-of-type {\n",
       "        vertical-align: middle;\n",
       "    }\n",
       "\n",
       "    .dataframe tbody tr th {\n",
       "        vertical-align: top;\n",
       "    }\n",
       "\n",
       "    .dataframe thead th {\n",
       "        text-align: right;\n",
       "    }\n",
       "</style>\n",
       "<table border=\"1\" class=\"dataframe\">\n",
       "  <thead>\n",
       "    <tr style=\"text-align: right;\">\n",
       "      <th></th>\n",
       "      <th>admission_id</th>\n",
       "      <th>patient_id</th>\n",
       "      <th>admission_date</th>\n",
       "      <th>admission_time</th>\n",
       "      <th>discharge_date</th>\n",
       "      <th>discharge_time</th>\n",
       "      <th>hospital</th>\n",
       "      <th>age</th>\n",
       "      <th>sex</th>\n",
       "      <th>charlson_comorbidity_index</th>\n",
       "      <th>...</th>\n",
       "      <th>test_code</th>\n",
       "      <th>result_unit</th>\n",
       "      <th>result_value</th>\n",
       "      <th>result_date</th>\n",
       "      <th>result_time</th>\n",
       "      <th>issue_date</th>\n",
       "      <th>issue_time</th>\n",
       "      <th>rbc_transfusion</th>\n",
       "      <th>platelet_transfusion</th>\n",
       "      <th>plasma_transfusion</th>\n",
       "    </tr>\n",
       "  </thead>\n",
       "  <tbody>\n",
       "    <tr>\n",
       "      <th>0</th>\n",
       "      <td>3602</td>\n",
       "      <td>34208</td>\n",
       "      <td>2011-09-07</td>\n",
       "      <td>NaN</td>\n",
       "      <td>09/11/2011</td>\n",
       "      <td>13:16</td>\n",
       "      <td>St. Joseph's Health Centre</td>\n",
       "      <td>NaN</td>\n",
       "      <td>M</td>\n",
       "      <td>1</td>\n",
       "      <td>...</td>\n",
       "      <td>NaN</td>\n",
       "      <td>NaN</td>\n",
       "      <td>NaN</td>\n",
       "      <td>NaN</td>\n",
       "      <td>NaN</td>\n",
       "      <td>NaN</td>\n",
       "      <td>NaN</td>\n",
       "      <td>NaN</td>\n",
       "      <td>NaN</td>\n",
       "      <td>NaN</td>\n",
       "    </tr>\n",
       "    <tr>\n",
       "      <th>1</th>\n",
       "      <td>2790</td>\n",
       "      <td>90930</td>\n",
       "      <td>2008-07-22</td>\n",
       "      <td>06:19</td>\n",
       "      <td>07/24/2008</td>\n",
       "      <td>17:54</td>\n",
       "      <td>St. Michael's Hospital</td>\n",
       "      <td>48.0</td>\n",
       "      <td>M</td>\n",
       "      <td>1</td>\n",
       "      <td>...</td>\n",
       "      <td>ALB</td>\n",
       "      <td>g/dL</td>\n",
       "      <td>2.2</td>\n",
       "      <td>2008-07-22</td>\n",
       "      <td>16:45</td>\n",
       "      <td>NaN</td>\n",
       "      <td>NaN</td>\n",
       "      <td>NaN</td>\n",
       "      <td>NaN</td>\n",
       "      <td>NaN</td>\n",
       "    </tr>\n",
       "    <tr>\n",
       "      <th>2</th>\n",
       "      <td>8755</td>\n",
       "      <td>97765</td>\n",
       "      <td>2002-08-24</td>\n",
       "      <td>14:28</td>\n",
       "      <td>08/27/2002</td>\n",
       "      <td>08:14</td>\n",
       "      <td>Mount Sinai Hospital</td>\n",
       "      <td>59.0</td>\n",
       "      <td>F</td>\n",
       "      <td>0</td>\n",
       "      <td>...</td>\n",
       "      <td>ALB</td>\n",
       "      <td>g/dL</td>\n",
       "      <td>1.8</td>\n",
       "      <td>2002-08-26</td>\n",
       "      <td>15:27</td>\n",
       "      <td>2002-08-25</td>\n",
       "      <td>16:05</td>\n",
       "      <td>False</td>\n",
       "      <td>False</td>\n",
       "      <td>True</td>\n",
       "    </tr>\n",
       "    <tr>\n",
       "      <th>3</th>\n",
       "      <td>9260</td>\n",
       "      <td>17941</td>\n",
       "      <td>2007-01-12</td>\n",
       "      <td>09:39</td>\n",
       "      <td>01/26/2007</td>\n",
       "      <td>11:10</td>\n",
       "      <td>Sunnybrook Health Sciences Centre</td>\n",
       "      <td>57.0</td>\n",
       "      <td>M</td>\n",
       "      <td>1</td>\n",
       "      <td>...</td>\n",
       "      <td>RBC</td>\n",
       "      <td>g/L</td>\n",
       "      <td>172.1</td>\n",
       "      <td>2007-01-12</td>\n",
       "      <td>20:10</td>\n",
       "      <td>NaN</td>\n",
       "      <td>NaN</td>\n",
       "      <td>NaN</td>\n",
       "      <td>NaN</td>\n",
       "      <td>NaN</td>\n",
       "    </tr>\n",
       "    <tr>\n",
       "      <th>4</th>\n",
       "      <td>5317</td>\n",
       "      <td>36532</td>\n",
       "      <td>2003-09-24</td>\n",
       "      <td>13:37</td>\n",
       "      <td>10/12/2003</td>\n",
       "      <td>16:23</td>\n",
       "      <td>Toronto Western Hospital</td>\n",
       "      <td>51.0</td>\n",
       "      <td>F</td>\n",
       "      <td>1</td>\n",
       "      <td>...</td>\n",
       "      <td>ALB</td>\n",
       "      <td>g/dL</td>\n",
       "      <td>2.5</td>\n",
       "      <td>2003-09-27</td>\n",
       "      <td>19:31</td>\n",
       "      <td>NaN</td>\n",
       "      <td>NaN</td>\n",
       "      <td>NaN</td>\n",
       "      <td>NaN</td>\n",
       "      <td>NaN</td>\n",
       "    </tr>\n",
       "  </tbody>\n",
       "</table>\n",
       "<p>5 rows × 22 columns</p>\n",
       "</div>"
      ],
      "text/plain": [
       "   admission_id  patient_id admission_date admission_time discharge_date  \\\n",
       "0          3602       34208     2011-09-07            NaN     09/11/2011   \n",
       "1          2790       90930     2008-07-22          06:19     07/24/2008   \n",
       "2          8755       97765     2002-08-24          14:28     08/27/2002   \n",
       "3          9260       17941     2007-01-12          09:39     01/26/2007   \n",
       "4          5317       36532     2003-09-24          13:37     10/12/2003   \n",
       "\n",
       "  discharge_time                           hospital   age sex  \\\n",
       "0          13:16         St. Joseph's Health Centre   NaN   M   \n",
       "1          17:54             St. Michael's Hospital  48.0   M   \n",
       "2          08:14               Mount Sinai Hospital  59.0   F   \n",
       "3          11:10  Sunnybrook Health Sciences Centre  57.0   M   \n",
       "4          16:23           Toronto Western Hospital  51.0   F   \n",
       "\n",
       "  charlson_comorbidity_index  ...  test_code result_unit result_value  \\\n",
       "0                          1  ...        NaN         NaN          NaN   \n",
       "1                          1  ...        ALB        g/dL          2.2   \n",
       "2                          0  ...        ALB        g/dL          1.8   \n",
       "3                          1  ...        RBC         g/L        172.1   \n",
       "4                          1  ...        ALB        g/dL          2.5   \n",
       "\n",
       "  result_date  result_time  issue_date issue_time rbc_transfusion  \\\n",
       "0         NaN          NaN         NaN        NaN             NaN   \n",
       "1  2008-07-22        16:45         NaN        NaN             NaN   \n",
       "2  2002-08-26        15:27  2002-08-25      16:05           False   \n",
       "3  2007-01-12        20:10         NaN        NaN             NaN   \n",
       "4  2003-09-27        19:31         NaN        NaN             NaN   \n",
       "\n",
       "  platelet_transfusion plasma_transfusion  \n",
       "0                  NaN                NaN  \n",
       "1                  NaN                NaN  \n",
       "2                False               True  \n",
       "3                  NaN                NaN  \n",
       "4                  NaN                NaN  \n",
       "\n",
       "[5 rows x 22 columns]"
      ]
     },
     "execution_count": 48,
     "metadata": {},
     "output_type": "execute_result"
    }
   ],
   "source": [
    "all_df.head()"
   ]
  },
  {
   "cell_type": "code",
   "execution_count": 39,
   "metadata": {},
   "outputs": [
    {
     "name": "stdout",
     "output_type": "stream",
     "text": [
      "True\n"
     ]
    }
   ],
   "source": [
    "import math"
   ]
  },
  {
   "cell_type": "markdown",
   "metadata": {},
   "source": [
    "Pseudo code: \n",
    "length of stay = discharge date and time - minus admission date and time\n",
    "\n",
    "Let's make a datetime out of those objects\n",
    "\n",
    "Let's try - Approach #1"
   ]
  },
  {
   "cell_type": "code",
   "execution_count": 46,
   "metadata": {},
   "outputs": [],
   "source": [
    "import math\n",
    "\n",
    "for index, row in all_df.iterrows():\n",
    "    try:\n",
    "        if math.isnan(float(row['admission_time'])):\n",
    "            row['admission_datetime_str'] = row['admission_date'] + ' ' + '00:00'\n",
    "    except ValueError:  # could not convert string to float: '13:16' ... which means that it's a correct time\n",
    "        row['admission_datetime_str'] = row['admission_date'] + ' ' + row['admission_time']\n",
    "        \n",
    "    try:\n",
    "        if math.isnan(float(row['discharge_time'])):\n",
    "            row['discharge_datetime_str'] = row['discharge_date'] + ' ' + '00:00'\n",
    "    except ValueError:\n",
    "        row['discharge_datetime_str'] = row['discharge_date'] + ' ' + row['discharge_time']\n",
    "    "
   ]
  },
  {
   "cell_type": "markdown",
   "metadata": {},
   "source": [
    "This did not fully work, but I think I got the right idea, I just need to store it differently\n",
    "\n",
    "Let's try again: -- Approach #2"
   ]
  },
  {
   "cell_type": "code",
   "execution_count": 52,
   "metadata": {},
   "outputs": [],
   "source": [
    "admission_datetime_str = []\n",
    "discharge_datetime_str = []\n",
    "\n",
    "for index, row in all_df.iterrows():\n",
    "    try:\n",
    "        if math.isnan(float(row['admission_time'])):\n",
    "            admission_datetime_str.append(row['admission_date'] + ' ' + '00:00')\n",
    "    except ValueError:  # could not convert string to float: '13:16' ... which means that it's a correct time\n",
    "        admission_datetime_str.append(row['admission_date'] + ' ' + row['admission_time'])\n",
    "        \n",
    "    try:\n",
    "        if math.isnan(float(row['discharge_time'])):\n",
    "            discharge_datetime_str.append(row['discharge_date'] + ' ' + '00:00')\n",
    "    except ValueError:\n",
    "        discharge_datetime_str.append(row['discharge_date'] + ' ' + row['discharge_time'])"
   ]
  },
  {
   "cell_type": "code",
   "execution_count": 53,
   "metadata": {},
   "outputs": [
    {
     "data": {
      "text/plain": [
       "5231"
      ]
     },
     "execution_count": 53,
     "metadata": {},
     "output_type": "execute_result"
    }
   ],
   "source": [
    "len(admission_datetime_str)"
   ]
  },
  {
   "cell_type": "code",
   "execution_count": 54,
   "metadata": {},
   "outputs": [
    {
     "data": {
      "text/plain": [
       "['2011-09-07 00:00',\n",
       " '2008-07-22 06:19',\n",
       " '2002-08-24 14:28',\n",
       " '2007-01-12 09:39',\n",
       " '2003-09-24 13:37',\n",
       " '2014-12-08 20:02',\n",
       " '2001-11-18 21:36',\n",
       " '2010-06-17 00:00',\n",
       " '2003-11-02 14:16',\n",
       " '2010-12-22 15:22']"
      ]
     },
     "execution_count": 54,
     "metadata": {},
     "output_type": "execute_result"
    }
   ],
   "source": [
    "admission_datetime_str[0:10]"
   ]
  },
  {
   "cell_type": "code",
   "execution_count": 59,
   "metadata": {},
   "outputs": [
    {
     "name": "stdout",
     "output_type": "stream",
     "text": [
      "5231\n"
     ]
    }
   ],
   "source": [
    "print(len(discharge_datetime_str))"
   ]
  },
  {
   "cell_type": "code",
   "execution_count": 60,
   "metadata": {},
   "outputs": [
    {
     "data": {
      "text/plain": [
       "['09/11/2011 13:16',\n",
       " '07/24/2008 17:54',\n",
       " '08/27/2002 08:14',\n",
       " '01/26/2007 11:10',\n",
       " '10/12/2003 16:23',\n",
       " '12/13/2014 02:53',\n",
       " '12/07/2001 23:49',\n",
       " '07/03/2010 15:52',\n",
       " '11/07/2003 10:49',\n",
       " '12/29/2010 15:18']"
      ]
     },
     "execution_count": 60,
     "metadata": {},
     "output_type": "execute_result"
    }
   ],
   "source": [
    "discharge_datetime_str[0:10]"
   ]
  },
  {
   "cell_type": "code",
   "execution_count": 62,
   "metadata": {},
   "outputs": [],
   "source": [
    "all_df['admission_datetime_str'] = pd.Series(admission_datetime_str, index = all_df.index)\n",
    "all_df['discharge_datetime_str'] = pd.Series(discharge_datetime_str, index = all_df.index)"
   ]
  },
  {
   "cell_type": "markdown",
   "metadata": {},
   "source": [
    "Now I added the string formatted datetimes to the data frame... I just need to convert them to datatime, then subtract... not enough time. Only 50 minutes left.. I will skip this now and hoepfully come back to it later\n",
    "\n",
    "This is how you would convert:\n",
    "\n",
    "import datetime\n",
    "date_time_obj = datetime.datetime.strptime(date_time_str, '%Y-%m-%d %H:%M')"
   ]
  },
  {
   "cell_type": "markdown",
   "metadata": {},
   "source": [
    "I wasted a lot of time with this adn It did not work, so I am trying a different approach. Approach #3"
   ]
  },
  {
   "cell_type": "code",
   "execution_count": 76,
   "metadata": {},
   "outputs": [
    {
     "data": {
      "text/plain": [
       "hospital\n",
       "Mount Sinai Hospital                11 days 05:52:47.176781002\n",
       "St. Joseph's Health Centre          10 days 11:44:52.931034482\n",
       "St. Michael's Hospital              10 days 17:47:57.154989384\n",
       "Sunnybrook Health Sciences Centre   11 days 00:07:46.744730679\n",
       "Toronto Western Hospital            11 days 03:35:16.897506925\n",
       "Name: length_of_stay, dtype: timedelta64[ns]"
      ]
     },
     "execution_count": 76,
     "metadata": {},
     "output_type": "execute_result"
    }
   ],
   "source": [
    "# Let's fill in the NAs\n",
    "adm_df['admission_time'] = adm_df['admission_time'].fillna(adm_df['admission_time'].value_counts().index[0])\n",
    "adm_df['admission_date'] = adm_df['admission_date'].fillna(adm_df['admission_date'].value_counts().index[0])\n",
    "\n",
    "\n",
    "# Let's merge again\n",
    "all_df = adm_df.merge(lab_df, how='left', on='admission_id')\n",
    "all_df = all_df.merge(trans_df, how='left', on='admission_id')\n"
   ]
  },
  {
   "cell_type": "code",
   "execution_count": 77,
   "metadata": {},
   "outputs": [
    {
     "data": {
      "text/plain": [
       "hospital\n",
       "Mount Sinai Hospital                11 days 05:52:47.176781002\n",
       "St. Joseph's Health Centre          10 days 11:44:52.931034482\n",
       "St. Michael's Hospital              10 days 17:47:57.154989384\n",
       "Sunnybrook Health Sciences Centre   11 days 00:07:46.744730679\n",
       "Toronto Western Hospital            11 days 03:35:16.897506925\n",
       "Name: length_of_stay, dtype: timedelta64[ns]"
      ]
     },
     "execution_count": 77,
     "metadata": {},
     "output_type": "execute_result"
    }
   ],
   "source": [
    "length_of_stay = pd.to_datetime(all_df.apply(lambda x: x['discharge_date'] +\" \"+ x['discharge_time'], axis=1)) -  pd.to_datetime(all_df.apply(lambda x: x['admission_date'] +\" \"+ x['admission_time'], axis=1))\n",
    "\n",
    "all_df['length_of_stay'] = length_of_stay.values.astype(np.int64)\n",
    "pd.to_timedelta(all_df.groupby('hospital').mean()['length_of_stay'])"
   ]
  },
  {
   "cell_type": "markdown",
   "metadata": {},
   "source": [
    "It worked now! Let's move on. Only 35 minutes left."
   ]
  },
  {
   "cell_type": "markdown",
   "metadata": {},
   "source": [
    "# Task 4"
   ]
  },
  {
   "cell_type": "markdown",
   "metadata": {},
   "source": [
    "Impute the missing age and charlson_comorbidity_index values in any way you see fit. Briefly explain how the imputation method(s) might affect a statistical model that uses these variables as predictors."
   ]
  },
  {
   "cell_type": "code",
   "execution_count": 56,
   "metadata": {},
   "outputs": [
    {
     "name": "stdout",
     "output_type": "stream",
     "text": [
      "<class 'pandas.core.frame.DataFrame'>\n",
      "Int64Index: 5231 entries, 0 to 5230\n",
      "Data columns (total 22 columns):\n",
      " #   Column                      Non-Null Count  Dtype  \n",
      "---  ------                      --------------  -----  \n",
      " 0   admission_id                5231 non-null   int64  \n",
      " 1   patient_id                  5231 non-null   int64  \n",
      " 2   admission_date              5231 non-null   object \n",
      " 3   admission_time              4535 non-null   object \n",
      " 4   discharge_date              5231 non-null   object \n",
      " 5   discharge_time              5231 non-null   object \n",
      " 6   hospital                    5231 non-null   object \n",
      " 7   age                         4604 non-null   float64\n",
      " 8   sex                         5231 non-null   object \n",
      " 9   charlson_comorbidity_index  4970 non-null   object \n",
      " 10  lap_score                   5231 non-null   int64  \n",
      " 11  test_name                   3609 non-null   object \n",
      " 12  test_code                   3609 non-null   object \n",
      " 13  result_unit                 3609 non-null   object \n",
      " 14  result_value                3609 non-null   float64\n",
      " 15  result_date                 3609 non-null   object \n",
      " 16  result_time                 3609 non-null   object \n",
      " 17  issue_date                  657 non-null    object \n",
      " 18  issue_time                  657 non-null    object \n",
      " 19  rbc_transfusion             657 non-null    object \n",
      " 20  platelet_transfusion        657 non-null    object \n",
      " 21  plasma_transfusion          657 non-null    object \n",
      "dtypes: float64(2), int64(3), object(17)\n",
      "memory usage: 1.1+ MB\n"
     ]
    }
   ],
   "source": [
    "all_df.info()"
   ]
  },
  {
   "cell_type": "code",
   "execution_count": 57,
   "metadata": {},
   "outputs": [],
   "source": [
    "all_df_copy = all_df.copy()\n",
    "\n",
    "all_df_copy['age'].fillna((all_df_copy['age'].mean()), inplace=True)"
   ]
  },
  {
   "cell_type": "code",
   "execution_count": 58,
   "metadata": {},
   "outputs": [
    {
     "name": "stdout",
     "output_type": "stream",
     "text": [
      "<class 'pandas.core.frame.DataFrame'>\n",
      "Int64Index: 5231 entries, 0 to 5230\n",
      "Data columns (total 22 columns):\n",
      " #   Column                      Non-Null Count  Dtype  \n",
      "---  ------                      --------------  -----  \n",
      " 0   admission_id                5231 non-null   int64  \n",
      " 1   patient_id                  5231 non-null   int64  \n",
      " 2   admission_date              5231 non-null   object \n",
      " 3   admission_time              4535 non-null   object \n",
      " 4   discharge_date              5231 non-null   object \n",
      " 5   discharge_time              5231 non-null   object \n",
      " 6   hospital                    5231 non-null   object \n",
      " 7   age                         5231 non-null   float64\n",
      " 8   sex                         5231 non-null   object \n",
      " 9   charlson_comorbidity_index  4970 non-null   object \n",
      " 10  lap_score                   5231 non-null   int64  \n",
      " 11  test_name                   3609 non-null   object \n",
      " 12  test_code                   3609 non-null   object \n",
      " 13  result_unit                 3609 non-null   object \n",
      " 14  result_value                3609 non-null   float64\n",
      " 15  result_date                 3609 non-null   object \n",
      " 16  result_time                 3609 non-null   object \n",
      " 17  issue_date                  657 non-null    object \n",
      " 18  issue_time                  657 non-null    object \n",
      " 19  rbc_transfusion             657 non-null    object \n",
      " 20  platelet_transfusion        657 non-null    object \n",
      " 21  plasma_transfusion          657 non-null    object \n",
      "dtypes: float64(2), int64(3), object(17)\n",
      "memory usage: 1.1+ MB\n"
     ]
    }
   ],
   "source": [
    "all_df_copy.info()"
   ]
  },
  {
   "cell_type": "markdown",
   "metadata": {},
   "source": [
    "It worked. I replaces NA's with the average age, since I could not think out anything quicker that does not rely on a linear model to predict the age. This will affect the stats. model significanly, since the age values will be pulled more towards the mean, introducing bias.\n",
    "\n",
    "Anyways, I will do this on the original all_df as well."
   ]
  },
  {
   "cell_type": "code",
   "execution_count": 78,
   "metadata": {},
   "outputs": [],
   "source": [
    "all_df['age'].fillna((all_df['age'].mean()), inplace=True)"
   ]
  },
  {
   "cell_type": "code",
   "execution_count": 79,
   "metadata": {},
   "outputs": [
    {
     "name": "stdout",
     "output_type": "stream",
     "text": [
      "<class 'pandas.core.frame.DataFrame'>\n",
      "Int64Index: 5231 entries, 0 to 5230\n",
      "Data columns (total 23 columns):\n",
      " #   Column                      Non-Null Count  Dtype  \n",
      "---  ------                      --------------  -----  \n",
      " 0   admission_id                5231 non-null   int64  \n",
      " 1   patient_id                  5231 non-null   int64  \n",
      " 2   admission_date              5231 non-null   object \n",
      " 3   admission_time              5231 non-null   object \n",
      " 4   discharge_date              5231 non-null   object \n",
      " 5   discharge_time              5231 non-null   object \n",
      " 6   hospital                    5231 non-null   object \n",
      " 7   age                         5231 non-null   float64\n",
      " 8   sex                         5231 non-null   object \n",
      " 9   charlson_comorbidity_index  4970 non-null   object \n",
      " 10  lap_score                   5231 non-null   int64  \n",
      " 11  test_name                   3609 non-null   object \n",
      " 12  test_code                   3609 non-null   object \n",
      " 13  result_unit                 3609 non-null   object \n",
      " 14  result_value                3609 non-null   float64\n",
      " 15  result_date                 3609 non-null   object \n",
      " 16  result_time                 3609 non-null   object \n",
      " 17  issue_date                  657 non-null    object \n",
      " 18  issue_time                  657 non-null    object \n",
      " 19  rbc_transfusion             657 non-null    object \n",
      " 20  platelet_transfusion        657 non-null    object \n",
      " 21  plasma_transfusion          657 non-null    object \n",
      " 22  length_of_stay              5231 non-null   int64  \n",
      "dtypes: float64(2), int64(4), object(17)\n",
      "memory usage: 980.8+ KB\n"
     ]
    }
   ],
   "source": [
    "all_df.info()"
   ]
  },
  {
   "cell_type": "markdown",
   "metadata": {},
   "source": [
    "Age fill-na worked"
   ]
  },
  {
   "cell_type": "markdown",
   "metadata": {},
   "source": [
    "For the charlson-comorbidity-index I quickly found 1 website: https://www.mdcalc.com/charlson-comorbidity-index-cci\n",
    "\n",
    "saying that:\n",
    " - for <50 years charlson-comorbidity-index = 0\n",
    " - for 50–59 years charlson-comorbidity-index = +1\n",
    " - for 60–69 years charlson-comorbidity-index = +2\n",
    " - for 70–79 years charlson-comorbidity-index = +3\n",
    " - for ≥80 years charlson-comorbidity-index = +4\n",
    " \n",
    " If I have time, I will come back an implement this too. I only have 40 minutes left, so I will move on to complete more questions. This could be easily implemented with an iteration over the missing values and if-else statements to decide the value"
   ]
  },
  {
   "cell_type": "markdown",
   "metadata": {},
   "source": [
    "# Task 5"
   ]
  },
  {
   "cell_type": "markdown",
   "metadata": {},
   "source": [
    "In patients with multiple admissions, keep only their first admission (by datetime). Print the median admission_date of all rows"
   ]
  },
  {
   "cell_type": "code",
   "execution_count": 86,
   "metadata": {},
   "outputs": [
    {
     "data": {
      "text/plain": [
       "2047    1\n",
       "4663    1\n",
       "557     1\n",
       "4655    1\n",
       "2608    1\n",
       "       ..\n",
       "3251    1\n",
       "1206    1\n",
       "3255    1\n",
       "1210    1\n",
       "0       1\n",
       "Name: patient_id, Length: 5083, dtype: int64"
      ]
     },
     "execution_count": 86,
     "metadata": {},
     "output_type": "execute_result"
    }
   ],
   "source": [
    "first_only = all_df.groupby('patient_id', as_index=False)['admission_date'].min()\n",
    "processed = all_df.merge(first_only, how='right', left_on='patient_id', right_index=True)\n",
    "\n",
    "processed['patient_id'].value_counts()"
   ]
  },
  {
   "cell_type": "markdown",
   "metadata": {},
   "source": [
    "Now let's print the medians:"
   ]
  },
  {
   "cell_type": "code",
   "execution_count": null,
   "metadata": {},
   "outputs": [],
   "source": [
    "print()"
   ]
  },
  {
   "cell_type": "markdown",
   "metadata": {},
   "source": [
    "# Task 6"
   ]
  },
  {
   "cell_type": "code",
   "execution_count": 69,
   "metadata": {},
   "outputs": [],
   "source": [
    "with_transf = all_df[all_df['rbc_transfusion']==True]\n",
    "without_transf = all_df[all_df['rbc_transfusion']==False]"
   ]
  },
  {
   "cell_type": "markdown",
   "metadata": {},
   "source": [
    "Due to the overlap of the distributions of people with and without a transfussion, the difference of mean ages between the people with and without a rbc transfussion is 3 years, while in average, there is a difference of approximately 5 people (that had or not a transfussion) for each age category. For the range 56-63, there are significantly more people with a transfussion, according to the bar plot below."
   ]
  },
  {
   "cell_type": "markdown",
   "metadata": {},
   "source": [
    "Age Plots"
   ]
  },
  {
   "cell_type": "code",
   "execution_count": 71,
   "metadata": {},
   "outputs": [
    {
     "name": "stdout",
     "output_type": "stream",
     "text": [
      "AxesSubplot(0.125,0.125;0.775x0.755)\n"
     ]
    },
    {
     "data": {
      "image/png": "[encoded data removed]",
      "text/plain": [
       "<Figure size 432x288 with 1 Axes>"
      ]
     },
     "metadata": {
      "needs_background": "light"
     },
     "output_type": "display_data"
    }
   ],
   "source": [
    "age_df = pd.DataFrame({'with_transf': with_transf['age'].value_counts(), 'without': without_transf['age'].value_counts()})\n",
    "print(age_df.plot.bar())"
   ]
  },
  {
   "cell_type": "code",
   "execution_count": 80,
   "metadata": {},
   "outputs": [
    {
     "name": "stdout",
     "output_type": "stream",
     "text": [
      "Mean differences: 5.0\n"
     ]
    }
   ],
   "source": [
    "print(\"Mean differences:\", (with_transf['age'].value_counts() - without_transf['age'].value_counts()).mean())"
   ]
  },
  {
   "cell_type": "code",
   "execution_count": 81,
   "metadata": {},
   "outputs": [
    {
     "name": "stdout",
     "output_type": "stream",
     "text": [
      "Mean age with transf: 57.741750928887\n",
      "Mean age without transf: 55.05931404225322\n"
     ]
    }
   ],
   "source": [
    "print(\"Mean age with transf:\", with_transf['age'].mean())\n",
    "print(\"Mean age without transf:\", without_transf['age'].mean())"
   ]
  },
  {
   "cell_type": "code",
   "execution_count": 82,
   "metadata": {},
   "outputs": [
    {
     "data": {
      "text/plain": [
       "<AxesSubplot:>"
      ]
     },
     "execution_count": 82,
     "metadata": {},
     "output_type": "execute_result"
    },
    {
     "data": {
      "image/png": "[encoded data removed]",
      "text/plain": [
       "<Figure size 432x288 with 1 Axes>"
      ]
     },
     "metadata": {
      "needs_background": "light"
     },
     "output_type": "display_data"
    }
   ],
   "source": [
    "with_transf['age'].value_counts().plot(kind='bar')"
   ]
  },
  {
   "cell_type": "markdown",
   "metadata": {},
   "source": [
    "Now let's run a hypothesis test to see if there is a difference between the 2 groups. We need an independent samples t-test which compares the means for the 2 groups"
   ]
  },
  {
   "cell_type": "code",
   "execution_count": 87,
   "metadata": {},
   "outputs": [],
   "source": [
    "import scipy.stats as stats\n",
    "t_statistic, p_value = stats.ttest_ind(with_transf['age'], without_transf['age'])"
   ]
  },
  {
   "cell_type": "code",
   "execution_count": 88,
   "metadata": {},
   "outputs": [
    {
     "name": "stdout",
     "output_type": "stream",
     "text": [
      "9.944790702733041e-14\n"
     ]
    }
   ],
   "source": [
    "print(p_value)"
   ]
  },
  {
   "cell_type": "markdown",
   "metadata": {},
   "source": [
    "P value is really small, so we fail to reject the null hypothesis of the two groups being the same\n",
    "\n",
    "H-null = with_transf == without_transf\n",
    "H-alternative: with_transf != without_transf"
   ]
  },
  {
   "cell_type": "markdown",
   "metadata": {},
   "source": [
    "# Task 7"
   ]
  },
  {
   "cell_type": "code",
   "execution_count": 89,
   "metadata": {},
   "outputs": [],
   "source": [
    "from sklearn.linear_model import LinearRegression\n",
    "\n",
    "import matplotlib.pyplot as plt"
   ]
  },
  {
   "cell_type": "code",
   "execution_count": 90,
   "metadata": {},
   "outputs": [
    {
     "data": {
      "text/html": [
       "<div>\n",
       "<style scoped>\n",
       "    .dataframe tbody tr th:only-of-type {\n",
       "        vertical-align: middle;\n",
       "    }\n",
       "\n",
       "    .dataframe tbody tr th {\n",
       "        vertical-align: top;\n",
       "    }\n",
       "\n",
       "    .dataframe thead th {\n",
       "        text-align: right;\n",
       "    }\n",
       "</style>\n",
       "<table border=\"1\" class=\"dataframe\">\n",
       "  <thead>\n",
       "    <tr style=\"text-align: right;\">\n",
       "      <th></th>\n",
       "      <th>admission_id</th>\n",
       "      <th>patient_id</th>\n",
       "      <th>admission_date</th>\n",
       "      <th>admission_time</th>\n",
       "      <th>discharge_date</th>\n",
       "      <th>discharge_time</th>\n",
       "      <th>hospital</th>\n",
       "      <th>age</th>\n",
       "      <th>sex</th>\n",
       "      <th>charlson_comorbidity_index</th>\n",
       "      <th>...</th>\n",
       "      <th>result_unit</th>\n",
       "      <th>result_value</th>\n",
       "      <th>result_date</th>\n",
       "      <th>result_time</th>\n",
       "      <th>issue_date</th>\n",
       "      <th>issue_time</th>\n",
       "      <th>rbc_transfusion</th>\n",
       "      <th>platelet_transfusion</th>\n",
       "      <th>plasma_transfusion</th>\n",
       "      <th>length_of_stay</th>\n",
       "    </tr>\n",
       "  </thead>\n",
       "  <tbody>\n",
       "    <tr>\n",
       "      <th>0</th>\n",
       "      <td>3602</td>\n",
       "      <td>34208</td>\n",
       "      <td>2011-09-07</td>\n",
       "      <td>18:23</td>\n",
       "      <td>09/11/2011</td>\n",
       "      <td>13:16</td>\n",
       "      <td>St. Joseph's Health Centre</td>\n",
       "      <td>54.94874</td>\n",
       "      <td>M</td>\n",
       "      <td>1</td>\n",
       "      <td>...</td>\n",
       "      <td>NaN</td>\n",
       "      <td>NaN</td>\n",
       "      <td>NaN</td>\n",
       "      <td>NaN</td>\n",
       "      <td>NaN</td>\n",
       "      <td>NaN</td>\n",
       "      <td>NaN</td>\n",
       "      <td>NaN</td>\n",
       "      <td>NaN</td>\n",
       "      <td>327180000000000</td>\n",
       "    </tr>\n",
       "    <tr>\n",
       "      <th>1</th>\n",
       "      <td>2790</td>\n",
       "      <td>90930</td>\n",
       "      <td>2008-07-22</td>\n",
       "      <td>06:19</td>\n",
       "      <td>07/24/2008</td>\n",
       "      <td>17:54</td>\n",
       "      <td>St. Michael's Hospital</td>\n",
       "      <td>48.00000</td>\n",
       "      <td>M</td>\n",
       "      <td>1</td>\n",
       "      <td>...</td>\n",
       "      <td>g/dL</td>\n",
       "      <td>2.2</td>\n",
       "      <td>2008-07-22</td>\n",
       "      <td>16:45</td>\n",
       "      <td>NaN</td>\n",
       "      <td>NaN</td>\n",
       "      <td>NaN</td>\n",
       "      <td>NaN</td>\n",
       "      <td>NaN</td>\n",
       "      <td>214500000000000</td>\n",
       "    </tr>\n",
       "    <tr>\n",
       "      <th>2</th>\n",
       "      <td>8755</td>\n",
       "      <td>97765</td>\n",
       "      <td>2002-08-24</td>\n",
       "      <td>14:28</td>\n",
       "      <td>08/27/2002</td>\n",
       "      <td>08:14</td>\n",
       "      <td>Mount Sinai Hospital</td>\n",
       "      <td>59.00000</td>\n",
       "      <td>F</td>\n",
       "      <td>0</td>\n",
       "      <td>...</td>\n",
       "      <td>g/dL</td>\n",
       "      <td>1.8</td>\n",
       "      <td>2002-08-26</td>\n",
       "      <td>15:27</td>\n",
       "      <td>2002-08-25</td>\n",
       "      <td>16:05</td>\n",
       "      <td>False</td>\n",
       "      <td>False</td>\n",
       "      <td>True</td>\n",
       "      <td>236760000000000</td>\n",
       "    </tr>\n",
       "    <tr>\n",
       "      <th>3</th>\n",
       "      <td>9260</td>\n",
       "      <td>17941</td>\n",
       "      <td>2007-01-12</td>\n",
       "      <td>09:39</td>\n",
       "      <td>01/26/2007</td>\n",
       "      <td>11:10</td>\n",
       "      <td>Sunnybrook Health Sciences Centre</td>\n",
       "      <td>57.00000</td>\n",
       "      <td>M</td>\n",
       "      <td>1</td>\n",
       "      <td>...</td>\n",
       "      <td>g/L</td>\n",
       "      <td>172.1</td>\n",
       "      <td>2007-01-12</td>\n",
       "      <td>20:10</td>\n",
       "      <td>NaN</td>\n",
       "      <td>NaN</td>\n",
       "      <td>NaN</td>\n",
       "      <td>NaN</td>\n",
       "      <td>NaN</td>\n",
       "      <td>1215060000000000</td>\n",
       "    </tr>\n",
       "    <tr>\n",
       "      <th>4</th>\n",
       "      <td>5317</td>\n",
       "      <td>36532</td>\n",
       "      <td>2003-09-24</td>\n",
       "      <td>13:37</td>\n",
       "      <td>10/12/2003</td>\n",
       "      <td>16:23</td>\n",
       "      <td>Toronto Western Hospital</td>\n",
       "      <td>51.00000</td>\n",
       "      <td>F</td>\n",
       "      <td>1</td>\n",
       "      <td>...</td>\n",
       "      <td>g/dL</td>\n",
       "      <td>2.5</td>\n",
       "      <td>2003-09-27</td>\n",
       "      <td>19:31</td>\n",
       "      <td>NaN</td>\n",
       "      <td>NaN</td>\n",
       "      <td>NaN</td>\n",
       "      <td>NaN</td>\n",
       "      <td>NaN</td>\n",
       "      <td>1565160000000000</td>\n",
       "    </tr>\n",
       "  </tbody>\n",
       "</table>\n",
       "<p>5 rows × 23 columns</p>\n",
       "</div>"
      ],
      "text/plain": [
       "   admission_id  patient_id admission_date admission_time discharge_date  \\\n",
       "0          3602       34208     2011-09-07          18:23     09/11/2011   \n",
       "1          2790       90930     2008-07-22          06:19     07/24/2008   \n",
       "2          8755       97765     2002-08-24          14:28     08/27/2002   \n",
       "3          9260       17941     2007-01-12          09:39     01/26/2007   \n",
       "4          5317       36532     2003-09-24          13:37     10/12/2003   \n",
       "\n",
       "  discharge_time                           hospital       age sex  \\\n",
       "0          13:16         St. Joseph's Health Centre  54.94874   M   \n",
       "1          17:54             St. Michael's Hospital  48.00000   M   \n",
       "2          08:14               Mount Sinai Hospital  59.00000   F   \n",
       "3          11:10  Sunnybrook Health Sciences Centre  57.00000   M   \n",
       "4          16:23           Toronto Western Hospital  51.00000   F   \n",
       "\n",
       "  charlson_comorbidity_index  ...  result_unit result_value result_date  \\\n",
       "0                          1  ...          NaN          NaN         NaN   \n",
       "1                          1  ...         g/dL          2.2  2008-07-22   \n",
       "2                          0  ...         g/dL          1.8  2002-08-26   \n",
       "3                          1  ...          g/L        172.1  2007-01-12   \n",
       "4                          1  ...         g/dL          2.5  2003-09-27   \n",
       "\n",
       "  result_time  issue_date issue_time rbc_transfusion platelet_transfusion  \\\n",
       "0         NaN         NaN        NaN             NaN                  NaN   \n",
       "1       16:45         NaN        NaN             NaN                  NaN   \n",
       "2       15:27  2002-08-25      16:05           False                False   \n",
       "3       20:10         NaN        NaN             NaN                  NaN   \n",
       "4       19:31         NaN        NaN             NaN                  NaN   \n",
       "\n",
       "  plasma_transfusion    length_of_stay  \n",
       "0                NaN   327180000000000  \n",
       "1                NaN   214500000000000  \n",
       "2               True   236760000000000  \n",
       "3                NaN  1215060000000000  \n",
       "4                NaN  1565160000000000  \n",
       "\n",
       "[5 rows x 23 columns]"
      ]
     },
     "execution_count": 90,
     "metadata": {},
     "output_type": "execute_result"
    }
   ],
   "source": [
    "linear_regressor = LinearRegression()\n",
    "all_df['sex'].replace(0, 'F',inplace=True)\n",
    "all_df['sex'].replace(1, 'M',inplace=True)\n",
    "all_df.head()"
   ]
  },
  {
   "cell_type": "code",
   "execution_count": 91,
   "metadata": {},
   "outputs": [
    {
     "ename": "ValueError",
     "evalue": "could not convert string to float: 'M'",
     "output_type": "error",
     "traceback": [
      "\u001b[1;31m---------------------------------------------------------------------------\u001b[0m",
      "\u001b[1;31mValueError\u001b[0m                                Traceback (most recent call last)",
      "\u001b[1;32m<ipython-input-91-0b43564413b1>\u001b[0m in \u001b[0;36m<module>\u001b[1;34m\u001b[0m\n\u001b[0;32m      1\u001b[0m \u001b[0mdependent\u001b[0m \u001b[1;33m=\u001b[0m \u001b[0mall_df\u001b[0m\u001b[1;33m[\u001b[0m\u001b[1;33m[\u001b[0m\u001b[1;34m'age'\u001b[0m\u001b[1;33m,\u001b[0m \u001b[1;34m'sex'\u001b[0m\u001b[1;33m,\u001b[0m \u001b[1;34m'hospital'\u001b[0m\u001b[1;33m]\u001b[0m\u001b[1;33m]\u001b[0m\u001b[1;33m\u001b[0m\u001b[0m\n\u001b[0;32m      2\u001b[0m \u001b[0mindependent\u001b[0m \u001b[1;33m=\u001b[0m \u001b[0mall_df\u001b[0m\u001b[1;33m[\u001b[0m\u001b[1;34m'result_value'\u001b[0m\u001b[1;33m]\u001b[0m\u001b[1;33m\u001b[0m\u001b[0m\n\u001b[1;32m----> 3\u001b[1;33m \u001b[0mlinear_regressor\u001b[0m\u001b[1;33m.\u001b[0m\u001b[0mfit\u001b[0m\u001b[1;33m(\u001b[0m\u001b[0mdependent\u001b[0m\u001b[1;33m,\u001b[0m \u001b[0mindependent\u001b[0m\u001b[1;33m)\u001b[0m\u001b[1;33m\u001b[0m\u001b[0m\n\u001b[0m\u001b[0;32m      4\u001b[0m \u001b[0mY_pred\u001b[0m \u001b[1;33m=\u001b[0m \u001b[0mlinear_regressor\u001b[0m\u001b[1;33m.\u001b[0m\u001b[0mpredict\u001b[0m\u001b[1;33m(\u001b[0m\u001b[0mdependent\u001b[0m\u001b[1;33m)\u001b[0m\u001b[1;33m\u001b[0m\u001b[0m\n",
      "\u001b[1;32mc:\\users\\norbert\\appdata\\local\\programs\\python\\python36\\lib\\site-packages\\sklearn\\linear_model\\_base.py\u001b[0m in \u001b[0;36mfit\u001b[1;34m(self, X, y, sample_weight)\u001b[0m\n\u001b[0;32m    504\u001b[0m         \u001b[0mn_jobs_\u001b[0m \u001b[1;33m=\u001b[0m \u001b[0mself\u001b[0m\u001b[1;33m.\u001b[0m\u001b[0mn_jobs\u001b[0m\u001b[1;33m\u001b[0m\u001b[0m\n\u001b[0;32m    505\u001b[0m         X, y = self._validate_data(X, y, accept_sparse=['csr', 'csc', 'coo'],\n\u001b[1;32m--> 506\u001b[1;33m                                    y_numeric=True, multi_output=True)\n\u001b[0m\u001b[0;32m    507\u001b[0m \u001b[1;33m\u001b[0m\u001b[0m\n\u001b[0;32m    508\u001b[0m         \u001b[1;32mif\u001b[0m \u001b[0msample_weight\u001b[0m \u001b[1;32mis\u001b[0m \u001b[1;32mnot\u001b[0m \u001b[1;32mNone\u001b[0m\u001b[1;33m:\u001b[0m\u001b[1;33m\u001b[0m\u001b[0m\n",
      "\u001b[1;32mc:\\users\\norbert\\appdata\\local\\programs\\python\\python36\\lib\\site-packages\\sklearn\\base.py\u001b[0m in \u001b[0;36m_validate_data\u001b[1;34m(self, X, y, reset, validate_separately, **check_params)\u001b[0m\n\u001b[0;32m    430\u001b[0m                 \u001b[0my\u001b[0m \u001b[1;33m=\u001b[0m \u001b[0mcheck_array\u001b[0m\u001b[1;33m(\u001b[0m\u001b[0my\u001b[0m\u001b[1;33m,\u001b[0m \u001b[1;33m**\u001b[0m\u001b[0mcheck_y_params\u001b[0m\u001b[1;33m)\u001b[0m\u001b[1;33m\u001b[0m\u001b[0m\n\u001b[0;32m    431\u001b[0m             \u001b[1;32melse\u001b[0m\u001b[1;33m:\u001b[0m\u001b[1;33m\u001b[0m\u001b[0m\n\u001b[1;32m--> 432\u001b[1;33m                 \u001b[0mX\u001b[0m\u001b[1;33m,\u001b[0m \u001b[0my\u001b[0m \u001b[1;33m=\u001b[0m \u001b[0mcheck_X_y\u001b[0m\u001b[1;33m(\u001b[0m\u001b[0mX\u001b[0m\u001b[1;33m,\u001b[0m \u001b[0my\u001b[0m\u001b[1;33m,\u001b[0m \u001b[1;33m**\u001b[0m\u001b[0mcheck_params\u001b[0m\u001b[1;33m)\u001b[0m\u001b[1;33m\u001b[0m\u001b[0m\n\u001b[0m\u001b[0;32m    433\u001b[0m             \u001b[0mout\u001b[0m \u001b[1;33m=\u001b[0m \u001b[0mX\u001b[0m\u001b[1;33m,\u001b[0m \u001b[0my\u001b[0m\u001b[1;33m\u001b[0m\u001b[0m\n\u001b[0;32m    434\u001b[0m \u001b[1;33m\u001b[0m\u001b[0m\n",
      "\u001b[1;32mc:\\users\\norbert\\appdata\\local\\programs\\python\\python36\\lib\\site-packages\\sklearn\\utils\\validation.py\u001b[0m in \u001b[0;36minner_f\u001b[1;34m(*args, **kwargs)\u001b[0m\n\u001b[0;32m     70\u001b[0m                           FutureWarning)\n\u001b[0;32m     71\u001b[0m         \u001b[0mkwargs\u001b[0m\u001b[1;33m.\u001b[0m\u001b[0mupdate\u001b[0m\u001b[1;33m(\u001b[0m\u001b[1;33m{\u001b[0m\u001b[0mk\u001b[0m\u001b[1;33m:\u001b[0m \u001b[0marg\u001b[0m \u001b[1;32mfor\u001b[0m \u001b[0mk\u001b[0m\u001b[1;33m,\u001b[0m \u001b[0marg\u001b[0m \u001b[1;32min\u001b[0m \u001b[0mzip\u001b[0m\u001b[1;33m(\u001b[0m\u001b[0msig\u001b[0m\u001b[1;33m.\u001b[0m\u001b[0mparameters\u001b[0m\u001b[1;33m,\u001b[0m \u001b[0margs\u001b[0m\u001b[1;33m)\u001b[0m\u001b[1;33m}\u001b[0m\u001b[1;33m)\u001b[0m\u001b[1;33m\u001b[0m\u001b[0m\n\u001b[1;32m---> 72\u001b[1;33m         \u001b[1;32mreturn\u001b[0m \u001b[0mf\u001b[0m\u001b[1;33m(\u001b[0m\u001b[1;33m**\u001b[0m\u001b[0mkwargs\u001b[0m\u001b[1;33m)\u001b[0m\u001b[1;33m\u001b[0m\u001b[0m\n\u001b[0m\u001b[0;32m     73\u001b[0m     \u001b[1;32mreturn\u001b[0m \u001b[0minner_f\u001b[0m\u001b[1;33m\u001b[0m\u001b[0m\n\u001b[0;32m     74\u001b[0m \u001b[1;33m\u001b[0m\u001b[0m\n",
      "\u001b[1;32mc:\\users\\norbert\\appdata\\local\\programs\\python\\python36\\lib\\site-packages\\sklearn\\utils\\validation.py\u001b[0m in \u001b[0;36mcheck_X_y\u001b[1;34m(X, y, accept_sparse, accept_large_sparse, dtype, order, copy, force_all_finite, ensure_2d, allow_nd, multi_output, ensure_min_samples, ensure_min_features, y_numeric, estimator)\u001b[0m\n\u001b[0;32m    800\u001b[0m                     \u001b[0mensure_min_samples\u001b[0m\u001b[1;33m=\u001b[0m\u001b[0mensure_min_samples\u001b[0m\u001b[1;33m,\u001b[0m\u001b[1;33m\u001b[0m\u001b[0m\n\u001b[0;32m    801\u001b[0m                     \u001b[0mensure_min_features\u001b[0m\u001b[1;33m=\u001b[0m\u001b[0mensure_min_features\u001b[0m\u001b[1;33m,\u001b[0m\u001b[1;33m\u001b[0m\u001b[0m\n\u001b[1;32m--> 802\u001b[1;33m                     estimator=estimator)\n\u001b[0m\u001b[0;32m    803\u001b[0m     \u001b[1;32mif\u001b[0m \u001b[0mmulti_output\u001b[0m\u001b[1;33m:\u001b[0m\u001b[1;33m\u001b[0m\u001b[0m\n\u001b[0;32m    804\u001b[0m         y = check_array(y, accept_sparse='csr', force_all_finite=True,\n",
      "\u001b[1;32mc:\\users\\norbert\\appdata\\local\\programs\\python\\python36\\lib\\site-packages\\sklearn\\utils\\validation.py\u001b[0m in \u001b[0;36minner_f\u001b[1;34m(*args, **kwargs)\u001b[0m\n\u001b[0;32m     70\u001b[0m                           FutureWarning)\n\u001b[0;32m     71\u001b[0m         \u001b[0mkwargs\u001b[0m\u001b[1;33m.\u001b[0m\u001b[0mupdate\u001b[0m\u001b[1;33m(\u001b[0m\u001b[1;33m{\u001b[0m\u001b[0mk\u001b[0m\u001b[1;33m:\u001b[0m \u001b[0marg\u001b[0m \u001b[1;32mfor\u001b[0m \u001b[0mk\u001b[0m\u001b[1;33m,\u001b[0m \u001b[0marg\u001b[0m \u001b[1;32min\u001b[0m \u001b[0mzip\u001b[0m\u001b[1;33m(\u001b[0m\u001b[0msig\u001b[0m\u001b[1;33m.\u001b[0m\u001b[0mparameters\u001b[0m\u001b[1;33m,\u001b[0m \u001b[0margs\u001b[0m\u001b[1;33m)\u001b[0m\u001b[1;33m}\u001b[0m\u001b[1;33m)\u001b[0m\u001b[1;33m\u001b[0m\u001b[0m\n\u001b[1;32m---> 72\u001b[1;33m         \u001b[1;32mreturn\u001b[0m \u001b[0mf\u001b[0m\u001b[1;33m(\u001b[0m\u001b[1;33m**\u001b[0m\u001b[0mkwargs\u001b[0m\u001b[1;33m)\u001b[0m\u001b[1;33m\u001b[0m\u001b[0m\n\u001b[0m\u001b[0;32m     73\u001b[0m     \u001b[1;32mreturn\u001b[0m \u001b[0minner_f\u001b[0m\u001b[1;33m\u001b[0m\u001b[0m\n\u001b[0;32m     74\u001b[0m \u001b[1;33m\u001b[0m\u001b[0m\n",
      "\u001b[1;32mc:\\users\\norbert\\appdata\\local\\programs\\python\\python36\\lib\\site-packages\\sklearn\\utils\\validation.py\u001b[0m in \u001b[0;36mcheck_array\u001b[1;34m(array, accept_sparse, accept_large_sparse, dtype, order, copy, force_all_finite, ensure_2d, allow_nd, ensure_min_samples, ensure_min_features, estimator)\u001b[0m\n\u001b[0;32m    596\u001b[0m                     \u001b[0marray\u001b[0m \u001b[1;33m=\u001b[0m \u001b[0marray\u001b[0m\u001b[1;33m.\u001b[0m\u001b[0mastype\u001b[0m\u001b[1;33m(\u001b[0m\u001b[0mdtype\u001b[0m\u001b[1;33m,\u001b[0m \u001b[0mcasting\u001b[0m\u001b[1;33m=\u001b[0m\u001b[1;34m\"unsafe\"\u001b[0m\u001b[1;33m,\u001b[0m \u001b[0mcopy\u001b[0m\u001b[1;33m=\u001b[0m\u001b[1;32mFalse\u001b[0m\u001b[1;33m)\u001b[0m\u001b[1;33m\u001b[0m\u001b[0m\n\u001b[0;32m    597\u001b[0m                 \u001b[1;32melse\u001b[0m\u001b[1;33m:\u001b[0m\u001b[1;33m\u001b[0m\u001b[0m\n\u001b[1;32m--> 598\u001b[1;33m                     \u001b[0marray\u001b[0m \u001b[1;33m=\u001b[0m \u001b[0mnp\u001b[0m\u001b[1;33m.\u001b[0m\u001b[0masarray\u001b[0m\u001b[1;33m(\u001b[0m\u001b[0marray\u001b[0m\u001b[1;33m,\u001b[0m \u001b[0morder\u001b[0m\u001b[1;33m=\u001b[0m\u001b[0morder\u001b[0m\u001b[1;33m,\u001b[0m \u001b[0mdtype\u001b[0m\u001b[1;33m=\u001b[0m\u001b[0mdtype\u001b[0m\u001b[1;33m)\u001b[0m\u001b[1;33m\u001b[0m\u001b[0m\n\u001b[0m\u001b[0;32m    599\u001b[0m             \u001b[1;32mexcept\u001b[0m \u001b[0mComplexWarning\u001b[0m\u001b[1;33m:\u001b[0m\u001b[1;33m\u001b[0m\u001b[0m\n\u001b[0;32m    600\u001b[0m                 raise ValueError(\"Complex data not supported\\n\"\n",
      "\u001b[1;32m~\\AppData\\Roaming\\Python\\Python36\\site-packages\\numpy\\core\\_asarray.py\u001b[0m in \u001b[0;36masarray\u001b[1;34m(a, dtype, order)\u001b[0m\n\u001b[0;32m     81\u001b[0m \u001b[1;33m\u001b[0m\u001b[0m\n\u001b[0;32m     82\u001b[0m     \"\"\"\n\u001b[1;32m---> 83\u001b[1;33m     \u001b[1;32mreturn\u001b[0m \u001b[0marray\u001b[0m\u001b[1;33m(\u001b[0m\u001b[0ma\u001b[0m\u001b[1;33m,\u001b[0m \u001b[0mdtype\u001b[0m\u001b[1;33m,\u001b[0m \u001b[0mcopy\u001b[0m\u001b[1;33m=\u001b[0m\u001b[1;32mFalse\u001b[0m\u001b[1;33m,\u001b[0m \u001b[0morder\u001b[0m\u001b[1;33m=\u001b[0m\u001b[0morder\u001b[0m\u001b[1;33m)\u001b[0m\u001b[1;33m\u001b[0m\u001b[0m\n\u001b[0m\u001b[0;32m     84\u001b[0m \u001b[1;33m\u001b[0m\u001b[0m\n\u001b[0;32m     85\u001b[0m \u001b[1;33m\u001b[0m\u001b[0m\n",
      "\u001b[1;32mc:\\users\\norbert\\appdata\\local\\programs\\python\\python36\\lib\\site-packages\\pandas\\core\\generic.py\u001b[0m in \u001b[0;36m__array__\u001b[1;34m(self, dtype)\u001b[0m\n\u001b[0;32m   1776\u001b[0m \u001b[1;33m\u001b[0m\u001b[0m\n\u001b[0;32m   1777\u001b[0m     \u001b[1;32mdef\u001b[0m \u001b[0m__array__\u001b[0m\u001b[1;33m(\u001b[0m\u001b[0mself\u001b[0m\u001b[1;33m,\u001b[0m \u001b[0mdtype\u001b[0m\u001b[1;33m=\u001b[0m\u001b[1;32mNone\u001b[0m\u001b[1;33m)\u001b[0m \u001b[1;33m->\u001b[0m \u001b[0mnp\u001b[0m\u001b[1;33m.\u001b[0m\u001b[0mndarray\u001b[0m\u001b[1;33m:\u001b[0m\u001b[1;33m\u001b[0m\u001b[0m\n\u001b[1;32m-> 1778\u001b[1;33m         \u001b[1;32mreturn\u001b[0m \u001b[0mnp\u001b[0m\u001b[1;33m.\u001b[0m\u001b[0masarray\u001b[0m\u001b[1;33m(\u001b[0m\u001b[0mself\u001b[0m\u001b[1;33m.\u001b[0m\u001b[0m_values\u001b[0m\u001b[1;33m,\u001b[0m \u001b[0mdtype\u001b[0m\u001b[1;33m=\u001b[0m\u001b[0mdtype\u001b[0m\u001b[1;33m)\u001b[0m\u001b[1;33m\u001b[0m\u001b[0m\n\u001b[0m\u001b[0;32m   1779\u001b[0m \u001b[1;33m\u001b[0m\u001b[0m\n\u001b[0;32m   1780\u001b[0m     \u001b[1;32mdef\u001b[0m \u001b[0m__array_wrap__\u001b[0m\u001b[1;33m(\u001b[0m\u001b[0mself\u001b[0m\u001b[1;33m,\u001b[0m \u001b[0mresult\u001b[0m\u001b[1;33m,\u001b[0m \u001b[0mcontext\u001b[0m\u001b[1;33m=\u001b[0m\u001b[1;32mNone\u001b[0m\u001b[1;33m)\u001b[0m\u001b[1;33m:\u001b[0m\u001b[1;33m\u001b[0m\u001b[0m\n",
      "\u001b[1;32m~\\AppData\\Roaming\\Python\\Python36\\site-packages\\numpy\\core\\_asarray.py\u001b[0m in \u001b[0;36masarray\u001b[1;34m(a, dtype, order)\u001b[0m\n\u001b[0;32m     81\u001b[0m \u001b[1;33m\u001b[0m\u001b[0m\n\u001b[0;32m     82\u001b[0m     \"\"\"\n\u001b[1;32m---> 83\u001b[1;33m     \u001b[1;32mreturn\u001b[0m \u001b[0marray\u001b[0m\u001b[1;33m(\u001b[0m\u001b[0ma\u001b[0m\u001b[1;33m,\u001b[0m \u001b[0mdtype\u001b[0m\u001b[1;33m,\u001b[0m \u001b[0mcopy\u001b[0m\u001b[1;33m=\u001b[0m\u001b[1;32mFalse\u001b[0m\u001b[1;33m,\u001b[0m \u001b[0morder\u001b[0m\u001b[1;33m=\u001b[0m\u001b[0morder\u001b[0m\u001b[1;33m)\u001b[0m\u001b[1;33m\u001b[0m\u001b[0m\n\u001b[0m\u001b[0;32m     84\u001b[0m \u001b[1;33m\u001b[0m\u001b[0m\n\u001b[0;32m     85\u001b[0m \u001b[1;33m\u001b[0m\u001b[0m\n",
      "\u001b[1;31mValueError\u001b[0m: could not convert string to float: 'M'"
     ]
    }
   ],
   "source": [
    "dependent = all_df[['age', 'sex', 'hospital']]\n",
    "independent = all_df['result_value']\n",
    "linear_regressor.fit(dependent, independent)\n",
    "Y_pred = linear_regressor.predict(dependent)"
   ]
  },
  {
   "cell_type": "code",
   "execution_count": null,
   "metadata": {},
   "outputs": [],
   "source": []
  }
 ],
 "metadata": {
  "kernelspec": {
   "display_name": "Python 3",
   "language": "python",
   "name": "python3"
  },
  "language_info": {
   "codemirror_mode": {
    "name": "ipython",
    "version": 3
   },
   "file_extension": ".py",
   "mimetype": "text/x-python",
   "name": "python",
   "nbconvert_exporter": "python",
   "pygments_lexer": "ipython3",
   "version": "3.6.1"
  }
 },
 "nbformat": 4,
 "nbformat_minor": 2
}
