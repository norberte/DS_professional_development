{
 "cells": [
  {
   "cell_type": "markdown",
   "metadata": {},
   "source": [
    "# Task 1"
   ]
  },
  {
   "cell_type": "markdown",
   "metadata": {},
   "source": [
    "Import libraries"
   ]
  },
  {
   "cell_type": "code",
   "execution_count": null,
   "metadata": {},
   "outputs": [],
   "source": [
    "import pandas as pd\n",
    "import numpy as np\n",
    "\n",
    "import matplotlib.pyplot as plt\n",
    "# needed to display chart in Jupyter notebooks\n",
    "%matplotlib inline \n",
    "\n",
    "import sklearn\n",
    "import scipy\n",
    "import scipy.stats as stats"
   ]
  },
  {
   "cell_type": "code",
   "execution_count": 2,
   "metadata": {},
   "outputs": [],
   "source": [
    "adm_df = pd.read_csv('Admissions.csv')\n",
    "lab_df = pd.read_csv('Lab.csv')\n",
    "trans_df = pd.read_csv('Transfusions.csv')"
   ]
  },
  {
   "cell_type": "markdown",
   "metadata": {},
   "source": [
    "Let's take a look at each df"
   ]
  },
  {
   "cell_type": "code",
   "execution_count": 3,
   "metadata": {},
   "outputs": [
    {
     "name": "stdout",
     "output_type": "stream",
     "text": [
      "<class 'pandas.core.frame.DataFrame'>\n",
      "RangeIndex: 5231 entries, 0 to 5230\n",
      "Data columns (total 11 columns):\n",
      " #   Column                      Non-Null Count  Dtype  \n",
      "---  ------                      --------------  -----  \n",
      " 0   admission_id                5231 non-null   int64  \n",
      " 1   patient_id                  5231 non-null   int64  \n",
      " 2   admission_date              5231 non-null   object \n",
      " 3   admission_time              4535 non-null   object \n",
      " 4   discharge_date              5231 non-null   object \n",
      " 5   discharge_time              5231 non-null   object \n",
      " 6   hospital                    5231 non-null   object \n",
      " 7   age                         4604 non-null   float64\n",
      " 8   sex                         5231 non-null   object \n",
      " 9   charlson_comorbidity_index  4970 non-null   object \n",
      " 10  lap_score                   5231 non-null   int64  \n",
      "dtypes: float64(1), int64(3), object(7)\n",
      "memory usage: 449.7+ KB\n"
     ]
    }
   ],
   "source": [
    "adm_df.info()"
   ]
  },
  {
   "cell_type": "markdown",
   "metadata": {},
   "source": [
    "adm_df contains 5231 individual records in total. \n",
    "Lots of missing values for admission_time, age, and charlson_comorbidity_index\n",
    "Also, admission and discharge date and time are not properly formatted, since they are objects, not datetime "
   ]
  },
  {
   "cell_type": "code",
   "execution_count": 4,
   "metadata": {},
   "outputs": [
    {
     "data": {
      "text/html": [
       "<div>\n",
       "<style scoped>\n",
       "    .dataframe tbody tr th:only-of-type {\n",
       "        vertical-align: middle;\n",
       "    }\n",
       "\n",
       "    .dataframe tbody tr th {\n",
       "        vertical-align: top;\n",
       "    }\n",
       "\n",
       "    .dataframe thead th {\n",
       "        text-align: right;\n",
       "    }\n",
       "</style>\n",
       "<table border=\"1\" class=\"dataframe\">\n",
       "  <thead>\n",
       "    <tr style=\"text-align: right;\">\n",
       "      <th></th>\n",
       "      <th>admission_id</th>\n",
       "      <th>patient_id</th>\n",
       "      <th>admission_date</th>\n",
       "      <th>admission_time</th>\n",
       "      <th>discharge_date</th>\n",
       "      <th>discharge_time</th>\n",
       "      <th>hospital</th>\n",
       "      <th>age</th>\n",
       "      <th>sex</th>\n",
       "      <th>charlson_comorbidity_index</th>\n",
       "      <th>lap_score</th>\n",
       "    </tr>\n",
       "  </thead>\n",
       "  <tbody>\n",
       "    <tr>\n",
       "      <th>0</th>\n",
       "      <td>3602</td>\n",
       "      <td>34208</td>\n",
       "      <td>2011-09-07</td>\n",
       "      <td>NaN</td>\n",
       "      <td>09/11/2011</td>\n",
       "      <td>13:16</td>\n",
       "      <td>St. Joseph's Health Centre</td>\n",
       "      <td>NaN</td>\n",
       "      <td>M</td>\n",
       "      <td>1</td>\n",
       "      <td>45</td>\n",
       "    </tr>\n",
       "    <tr>\n",
       "      <th>1</th>\n",
       "      <td>2790</td>\n",
       "      <td>90930</td>\n",
       "      <td>2008-07-22</td>\n",
       "      <td>06:19</td>\n",
       "      <td>07/24/2008</td>\n",
       "      <td>17:54</td>\n",
       "      <td>St. Michael's Hospital</td>\n",
       "      <td>48.0</td>\n",
       "      <td>M</td>\n",
       "      <td>1</td>\n",
       "      <td>46</td>\n",
       "    </tr>\n",
       "    <tr>\n",
       "      <th>2</th>\n",
       "      <td>8755</td>\n",
       "      <td>97765</td>\n",
       "      <td>2002-08-24</td>\n",
       "      <td>14:28</td>\n",
       "      <td>08/27/2002</td>\n",
       "      <td>08:14</td>\n",
       "      <td>Mount Sinai Hospital</td>\n",
       "      <td>59.0</td>\n",
       "      <td>F</td>\n",
       "      <td>0</td>\n",
       "      <td>35</td>\n",
       "    </tr>\n",
       "    <tr>\n",
       "      <th>3</th>\n",
       "      <td>9260</td>\n",
       "      <td>17941</td>\n",
       "      <td>2007-01-12</td>\n",
       "      <td>09:39</td>\n",
       "      <td>01/26/2007</td>\n",
       "      <td>11:10</td>\n",
       "      <td>Sunnybrook Health Sciences Centre</td>\n",
       "      <td>57.0</td>\n",
       "      <td>M</td>\n",
       "      <td>1</td>\n",
       "      <td>18</td>\n",
       "    </tr>\n",
       "    <tr>\n",
       "      <th>4</th>\n",
       "      <td>5317</td>\n",
       "      <td>36532</td>\n",
       "      <td>2003-09-24</td>\n",
       "      <td>13:37</td>\n",
       "      <td>10/12/2003</td>\n",
       "      <td>16:23</td>\n",
       "      <td>Toronto Western Hospital</td>\n",
       "      <td>51.0</td>\n",
       "      <td>F</td>\n",
       "      <td>1</td>\n",
       "      <td>21</td>\n",
       "    </tr>\n",
       "  </tbody>\n",
       "</table>\n",
       "</div>"
      ],
      "text/plain": [
       "   admission_id  patient_id admission_date admission_time discharge_date  \\\n",
       "0          3602       34208     2011-09-07            NaN     09/11/2011   \n",
       "1          2790       90930     2008-07-22          06:19     07/24/2008   \n",
       "2          8755       97765     2002-08-24          14:28     08/27/2002   \n",
       "3          9260       17941     2007-01-12          09:39     01/26/2007   \n",
       "4          5317       36532     2003-09-24          13:37     10/12/2003   \n",
       "\n",
       "  discharge_time                           hospital   age sex  \\\n",
       "0          13:16         St. Joseph's Health Centre   NaN   M   \n",
       "1          17:54             St. Michael's Hospital  48.0   M   \n",
       "2          08:14               Mount Sinai Hospital  59.0   F   \n",
       "3          11:10  Sunnybrook Health Sciences Centre  57.0   M   \n",
       "4          16:23           Toronto Western Hospital  51.0   F   \n",
       "\n",
       "  charlson_comorbidity_index  lap_score  \n",
       "0                          1         45  \n",
       "1                          1         46  \n",
       "2                          0         35  \n",
       "3                          1         18  \n",
       "4                          1         21  "
      ]
     },
     "execution_count": 4,
     "metadata": {},
     "output_type": "execute_result"
    }
   ],
   "source": [
    "adm_df.head()"
   ]
  },
  {
   "cell_type": "code",
   "execution_count": 5,
   "metadata": {},
   "outputs": [
    {
     "data": {
      "text/html": [
       "<div>\n",
       "<style scoped>\n",
       "    .dataframe tbody tr th:only-of-type {\n",
       "        vertical-align: middle;\n",
       "    }\n",
       "\n",
       "    .dataframe tbody tr th {\n",
       "        vertical-align: top;\n",
       "    }\n",
       "\n",
       "    .dataframe thead th {\n",
       "        text-align: right;\n",
       "    }\n",
       "</style>\n",
       "<table border=\"1\" class=\"dataframe\">\n",
       "  <thead>\n",
       "    <tr style=\"text-align: right;\">\n",
       "      <th></th>\n",
       "      <th>admission_id</th>\n",
       "      <th>patient_id</th>\n",
       "      <th>age</th>\n",
       "      <th>lap_score</th>\n",
       "    </tr>\n",
       "  </thead>\n",
       "  <tbody>\n",
       "    <tr>\n",
       "      <th>count</th>\n",
       "      <td>5231.000000</td>\n",
       "      <td>5231.000000</td>\n",
       "      <td>4604.00000</td>\n",
       "      <td>5231.000000</td>\n",
       "    </tr>\n",
       "    <tr>\n",
       "      <th>mean</th>\n",
       "      <td>5512.069776</td>\n",
       "      <td>54170.202829</td>\n",
       "      <td>54.94874</td>\n",
       "      <td>27.528197</td>\n",
       "    </tr>\n",
       "    <tr>\n",
       "      <th>std</th>\n",
       "      <td>2584.436372</td>\n",
       "      <td>26121.399502</td>\n",
       "      <td>5.05146</td>\n",
       "      <td>21.423248</td>\n",
       "    </tr>\n",
       "    <tr>\n",
       "      <th>min</th>\n",
       "      <td>1003.000000</td>\n",
       "      <td>10017.000000</td>\n",
       "      <td>38.00000</td>\n",
       "      <td>0.000000</td>\n",
       "    </tr>\n",
       "    <tr>\n",
       "      <th>25%</th>\n",
       "      <td>3280.500000</td>\n",
       "      <td>30970.000000</td>\n",
       "      <td>51.00000</td>\n",
       "      <td>11.000000</td>\n",
       "    </tr>\n",
       "    <tr>\n",
       "      <th>50%</th>\n",
       "      <td>5501.000000</td>\n",
       "      <td>54736.000000</td>\n",
       "      <td>55.00000</td>\n",
       "      <td>23.000000</td>\n",
       "    </tr>\n",
       "    <tr>\n",
       "      <th>75%</th>\n",
       "      <td>7760.500000</td>\n",
       "      <td>76768.500000</td>\n",
       "      <td>58.00000</td>\n",
       "      <td>40.000000</td>\n",
       "    </tr>\n",
       "    <tr>\n",
       "      <th>max</th>\n",
       "      <td>9997.000000</td>\n",
       "      <td>99984.000000</td>\n",
       "      <td>74.00000</td>\n",
       "      <td>136.000000</td>\n",
       "    </tr>\n",
       "  </tbody>\n",
       "</table>\n",
       "</div>"
      ],
      "text/plain": [
       "       admission_id    patient_id         age    lap_score\n",
       "count   5231.000000   5231.000000  4604.00000  5231.000000\n",
       "mean    5512.069776  54170.202829    54.94874    27.528197\n",
       "std     2584.436372  26121.399502     5.05146    21.423248\n",
       "min     1003.000000  10017.000000    38.00000     0.000000\n",
       "25%     3280.500000  30970.000000    51.00000    11.000000\n",
       "50%     5501.000000  54736.000000    55.00000    23.000000\n",
       "75%     7760.500000  76768.500000    58.00000    40.000000\n",
       "max     9997.000000  99984.000000    74.00000   136.000000"
      ]
     },
     "execution_count": 5,
     "metadata": {},
     "output_type": "execute_result"
    }
   ],
   "source": [
    "adm_df.describe()"
   ]
  },
  {
   "cell_type": "markdown",
   "metadata": {},
   "source": [
    "Here are some the descriptive stats on the continuous variables from adm_df\n",
    "\n",
    "Observations:\n",
    "    admission_id and patient_id seems to be just a random unique number, not in ascending order\n",
    "    age has missing values, but it's mostly people in their 50s\n",
    "    lap_score has quite a large standard deviation (almost as much as the mean)\n",
    "    admission and discharge date format is not consistent, and in some cases the admission time is missing (this needs to be taken care of in the data cleaning process)\n",
    "    "
   ]
  },
  {
   "cell_type": "code",
   "execution_count": 6,
   "metadata": {},
   "outputs": [
    {
     "name": "stdout",
     "output_type": "stream",
     "text": [
      "<class 'pandas.core.frame.DataFrame'>\n",
      "RangeIndex: 3609 entries, 0 to 3608\n",
      "Data columns (total 7 columns):\n",
      " #   Column        Non-Null Count  Dtype  \n",
      "---  ------        --------------  -----  \n",
      " 0   admission_id  3609 non-null   int64  \n",
      " 1   test_name     3609 non-null   object \n",
      " 2   test_code     3609 non-null   object \n",
      " 3   result_unit   3609 non-null   object \n",
      " 4   result_value  3609 non-null   float64\n",
      " 5   result_date   3609 non-null   object \n",
      " 6   result_time   3609 non-null   object \n",
      "dtypes: float64(1), int64(1), object(5)\n",
      "memory usage: 197.5+ KB\n"
     ]
    }
   ],
   "source": [
    "lab_df.info()"
   ]
  },
  {
   "cell_type": "code",
   "execution_count": 7,
   "metadata": {},
   "outputs": [
    {
     "data": {
      "text/html": [
       "<div>\n",
       "<style scoped>\n",
       "    .dataframe tbody tr th:only-of-type {\n",
       "        vertical-align: middle;\n",
       "    }\n",
       "\n",
       "    .dataframe tbody tr th {\n",
       "        vertical-align: top;\n",
       "    }\n",
       "\n",
       "    .dataframe thead th {\n",
       "        text-align: right;\n",
       "    }\n",
       "</style>\n",
       "<table border=\"1\" class=\"dataframe\">\n",
       "  <thead>\n",
       "    <tr style=\"text-align: right;\">\n",
       "      <th></th>\n",
       "      <th>admission_id</th>\n",
       "      <th>result_value</th>\n",
       "    </tr>\n",
       "  </thead>\n",
       "  <tbody>\n",
       "    <tr>\n",
       "      <th>count</th>\n",
       "      <td>3609.000000</td>\n",
       "      <td>3609.000000</td>\n",
       "    </tr>\n",
       "    <tr>\n",
       "      <th>mean</th>\n",
       "      <td>5451.744250</td>\n",
       "      <td>81.539762</td>\n",
       "    </tr>\n",
       "    <tr>\n",
       "      <th>std</th>\n",
       "      <td>2609.854333</td>\n",
       "      <td>94.470176</td>\n",
       "    </tr>\n",
       "    <tr>\n",
       "      <th>min</th>\n",
       "      <td>1003.000000</td>\n",
       "      <td>0.000000</td>\n",
       "    </tr>\n",
       "    <tr>\n",
       "      <th>25%</th>\n",
       "      <td>3194.000000</td>\n",
       "      <td>3.600000</td>\n",
       "    </tr>\n",
       "    <tr>\n",
       "      <th>50%</th>\n",
       "      <td>5413.000000</td>\n",
       "      <td>48.600000</td>\n",
       "    </tr>\n",
       "    <tr>\n",
       "      <th>75%</th>\n",
       "      <td>7715.000000</td>\n",
       "      <td>140.900000</td>\n",
       "    </tr>\n",
       "    <tr>\n",
       "      <th>max</th>\n",
       "      <td>9997.000000</td>\n",
       "      <td>584.400000</td>\n",
       "    </tr>\n",
       "  </tbody>\n",
       "</table>\n",
       "</div>"
      ],
      "text/plain": [
       "       admission_id  result_value\n",
       "count   3609.000000   3609.000000\n",
       "mean    5451.744250     81.539762\n",
       "std     2609.854333     94.470176\n",
       "min     1003.000000      0.000000\n",
       "25%     3194.000000      3.600000\n",
       "50%     5413.000000     48.600000\n",
       "75%     7715.000000    140.900000\n",
       "max     9997.000000    584.400000"
      ]
     },
     "execution_count": 7,
     "metadata": {},
     "output_type": "execute_result"
    }
   ],
   "source": [
    "lab_df.describe()"
   ]
  },
  {
   "cell_type": "code",
   "execution_count": 8,
   "metadata": {},
   "outputs": [
    {
     "data": {
      "text/html": [
       "<div>\n",
       "<style scoped>\n",
       "    .dataframe tbody tr th:only-of-type {\n",
       "        vertical-align: middle;\n",
       "    }\n",
       "\n",
       "    .dataframe tbody tr th {\n",
       "        vertical-align: top;\n",
       "    }\n",
       "\n",
       "    .dataframe thead th {\n",
       "        text-align: right;\n",
       "    }\n",
       "</style>\n",
       "<table border=\"1\" class=\"dataframe\">\n",
       "  <thead>\n",
       "    <tr style=\"text-align: right;\">\n",
       "      <th></th>\n",
       "      <th>admission_id</th>\n",
       "      <th>test_name</th>\n",
       "      <th>test_code</th>\n",
       "      <th>result_unit</th>\n",
       "      <th>result_value</th>\n",
       "      <th>result_date</th>\n",
       "      <th>result_time</th>\n",
       "    </tr>\n",
       "  </thead>\n",
       "  <tbody>\n",
       "    <tr>\n",
       "      <th>0</th>\n",
       "      <td>4416</td>\n",
       "      <td>Albumin</td>\n",
       "      <td>ALB</td>\n",
       "      <td>g/dL</td>\n",
       "      <td>4.1</td>\n",
       "      <td>2003-08-19</td>\n",
       "      <td>02:25</td>\n",
       "    </tr>\n",
       "    <tr>\n",
       "      <th>1</th>\n",
       "      <td>4636</td>\n",
       "      <td>Platelet Count</td>\n",
       "      <td>PLT</td>\n",
       "      <td>E9/L</td>\n",
       "      <td>295.0</td>\n",
       "      <td>2012-02-05</td>\n",
       "      <td>01:42</td>\n",
       "    </tr>\n",
       "    <tr>\n",
       "      <th>2</th>\n",
       "      <td>8041</td>\n",
       "      <td>Hemoglobin</td>\n",
       "      <td>RBC</td>\n",
       "      <td>g/L</td>\n",
       "      <td>165.4</td>\n",
       "      <td>2004-04-18</td>\n",
       "      <td>08:05</td>\n",
       "    </tr>\n",
       "    <tr>\n",
       "      <th>3</th>\n",
       "      <td>7384</td>\n",
       "      <td>Chloride plasma</td>\n",
       "      <td>CLPL</td>\n",
       "      <td>mmol/L</td>\n",
       "      <td>193.0</td>\n",
       "      <td>2000-04-04</td>\n",
       "      <td>14:55</td>\n",
       "    </tr>\n",
       "    <tr>\n",
       "      <th>4</th>\n",
       "      <td>2604</td>\n",
       "      <td>Albumin</td>\n",
       "      <td>ALB</td>\n",
       "      <td>g/dL</td>\n",
       "      <td>6.0</td>\n",
       "      <td>2008-02-01</td>\n",
       "      <td>11:30</td>\n",
       "    </tr>\n",
       "  </tbody>\n",
       "</table>\n",
       "</div>"
      ],
      "text/plain": [
       "   admission_id        test_name test_code result_unit  result_value  \\\n",
       "0          4416          Albumin       ALB        g/dL           4.1   \n",
       "1          4636   Platelet Count       PLT        E9/L         295.0   \n",
       "2          8041       Hemoglobin       RBC         g/L         165.4   \n",
       "3          7384  Chloride plasma      CLPL      mmol/L         193.0   \n",
       "4          2604          Albumin       ALB        g/dL           6.0   \n",
       "\n",
       "  result_date result_time  \n",
       "0  2003-08-19       02:25  \n",
       "1  2012-02-05       01:42  \n",
       "2  2004-04-18       08:05  \n",
       "3  2000-04-04       14:55  \n",
       "4  2008-02-01       11:30  "
      ]
     },
     "execution_count": 8,
     "metadata": {},
     "output_type": "execute_result"
    }
   ],
   "source": [
    "lab_df.head()"
   ]
  },
  {
   "cell_type": "markdown",
   "metadata": {},
   "source": [
    "Observations:\n"
   ]
  },
  {
   "cell_type": "code",
   "execution_count": 9,
   "metadata": {},
   "outputs": [
    {
     "name": "stdout",
     "output_type": "stream",
     "text": [
      "<class 'pandas.core.frame.DataFrame'>\n",
      "RangeIndex: 657 entries, 0 to 656\n",
      "Data columns (total 6 columns):\n",
      " #   Column                Non-Null Count  Dtype \n",
      "---  ------                --------------  ----- \n",
      " 0   admission_id          657 non-null    int64 \n",
      " 1   issue_date            657 non-null    object\n",
      " 2   issue_time            657 non-null    object\n",
      " 3   rbc_transfusion       657 non-null    bool  \n",
      " 4   platelet_transfusion  657 non-null    bool  \n",
      " 5   plasma_transfusion    657 non-null    bool  \n",
      "dtypes: bool(3), int64(1), object(2)\n",
      "memory usage: 17.4+ KB\n"
     ]
    }
   ],
   "source": [
    "trans_df.info()"
   ]
  },
  {
   "cell_type": "code",
   "execution_count": 10,
   "metadata": {},
   "outputs": [
    {
     "data": {
      "text/html": [
       "<div>\n",
       "<style scoped>\n",
       "    .dataframe tbody tr th:only-of-type {\n",
       "        vertical-align: middle;\n",
       "    }\n",
       "\n",
       "    .dataframe tbody tr th {\n",
       "        vertical-align: top;\n",
       "    }\n",
       "\n",
       "    .dataframe thead th {\n",
       "        text-align: right;\n",
       "    }\n",
       "</style>\n",
       "<table border=\"1\" class=\"dataframe\">\n",
       "  <thead>\n",
       "    <tr style=\"text-align: right;\">\n",
       "      <th></th>\n",
       "      <th>admission_id</th>\n",
       "    </tr>\n",
       "  </thead>\n",
       "  <tbody>\n",
       "    <tr>\n",
       "      <th>count</th>\n",
       "      <td>657.000000</td>\n",
       "    </tr>\n",
       "    <tr>\n",
       "      <th>mean</th>\n",
       "      <td>5561.634703</td>\n",
       "    </tr>\n",
       "    <tr>\n",
       "      <th>std</th>\n",
       "      <td>2577.215753</td>\n",
       "    </tr>\n",
       "    <tr>\n",
       "      <th>min</th>\n",
       "      <td>1010.000000</td>\n",
       "    </tr>\n",
       "    <tr>\n",
       "      <th>25%</th>\n",
       "      <td>3408.000000</td>\n",
       "    </tr>\n",
       "    <tr>\n",
       "      <th>50%</th>\n",
       "      <td>5619.000000</td>\n",
       "    </tr>\n",
       "    <tr>\n",
       "      <th>75%</th>\n",
       "      <td>7760.000000</td>\n",
       "    </tr>\n",
       "    <tr>\n",
       "      <th>max</th>\n",
       "      <td>9997.000000</td>\n",
       "    </tr>\n",
       "  </tbody>\n",
       "</table>\n",
       "</div>"
      ],
      "text/plain": [
       "       admission_id\n",
       "count    657.000000\n",
       "mean    5561.634703\n",
       "std     2577.215753\n",
       "min     1010.000000\n",
       "25%     3408.000000\n",
       "50%     5619.000000\n",
       "75%     7760.000000\n",
       "max     9997.000000"
      ]
     },
     "execution_count": 10,
     "metadata": {},
     "output_type": "execute_result"
    }
   ],
   "source": [
    "trans_df.describe()"
   ]
  },
  {
   "cell_type": "code",
   "execution_count": 11,
   "metadata": {},
   "outputs": [
    {
     "data": {
      "text/html": [
       "<div>\n",
       "<style scoped>\n",
       "    .dataframe tbody tr th:only-of-type {\n",
       "        vertical-align: middle;\n",
       "    }\n",
       "\n",
       "    .dataframe tbody tr th {\n",
       "        vertical-align: top;\n",
       "    }\n",
       "\n",
       "    .dataframe thead th {\n",
       "        text-align: right;\n",
       "    }\n",
       "</style>\n",
       "<table border=\"1\" class=\"dataframe\">\n",
       "  <thead>\n",
       "    <tr style=\"text-align: right;\">\n",
       "      <th></th>\n",
       "      <th>admission_id</th>\n",
       "      <th>issue_date</th>\n",
       "      <th>issue_time</th>\n",
       "      <th>rbc_transfusion</th>\n",
       "      <th>platelet_transfusion</th>\n",
       "      <th>plasma_transfusion</th>\n",
       "    </tr>\n",
       "  </thead>\n",
       "  <tbody>\n",
       "    <tr>\n",
       "      <th>0</th>\n",
       "      <td>8755</td>\n",
       "      <td>2002-08-25</td>\n",
       "      <td>16:05</td>\n",
       "      <td>False</td>\n",
       "      <td>False</td>\n",
       "      <td>True</td>\n",
       "    </tr>\n",
       "    <tr>\n",
       "      <th>1</th>\n",
       "      <td>9736</td>\n",
       "      <td>2006-03-17</td>\n",
       "      <td>08:05</td>\n",
       "      <td>True</td>\n",
       "      <td>False</td>\n",
       "      <td>False</td>\n",
       "    </tr>\n",
       "    <tr>\n",
       "      <th>2</th>\n",
       "      <td>4152</td>\n",
       "      <td>2002-07-18</td>\n",
       "      <td>19:08</td>\n",
       "      <td>True</td>\n",
       "      <td>False</td>\n",
       "      <td>False</td>\n",
       "    </tr>\n",
       "    <tr>\n",
       "      <th>3</th>\n",
       "      <td>7077</td>\n",
       "      <td>2010-10-06</td>\n",
       "      <td>08:07</td>\n",
       "      <td>True</td>\n",
       "      <td>False</td>\n",
       "      <td>False</td>\n",
       "    </tr>\n",
       "    <tr>\n",
       "      <th>4</th>\n",
       "      <td>9297</td>\n",
       "      <td>2010-01-22</td>\n",
       "      <td>21:11</td>\n",
       "      <td>True</td>\n",
       "      <td>False</td>\n",
       "      <td>False</td>\n",
       "    </tr>\n",
       "  </tbody>\n",
       "</table>\n",
       "</div>"
      ],
      "text/plain": [
       "   admission_id  issue_date issue_time  rbc_transfusion  platelet_transfusion  \\\n",
       "0          8755  2002-08-25      16:05            False                 False   \n",
       "1          9736  2006-03-17      08:05             True                 False   \n",
       "2          4152  2002-07-18      19:08             True                 False   \n",
       "3          7077  2010-10-06      08:07             True                 False   \n",
       "4          9297  2010-01-22      21:11             True                 False   \n",
       "\n",
       "   plasma_transfusion  \n",
       "0                True  \n",
       "1               False  \n",
       "2               False  \n",
       "3               False  \n",
       "4               False  "
      ]
     },
     "execution_count": 11,
     "metadata": {},
     "output_type": "execute_result"
    }
   ],
   "source": [
    "trans_df.head()"
   ]
  },
  {
   "cell_type": "markdown",
   "metadata": {},
   "source": [
    "Observations:\n"
   ]
  },
  {
   "cell_type": "markdown",
   "metadata": {},
   "source": [
    "# Task 2"
   ]
  },
  {
   "cell_type": "code",
   "execution_count": 12,
   "metadata": {},
   "outputs": [],
   "source": [
    "all_df = adm_df.merge(lab_df, on = 'admission_id', how='left')\n",
    "all_df = all_df.merge(trans_df, on = 'admission_id', how='left')"
   ]
  },
  {
   "cell_type": "code",
   "execution_count": 13,
   "metadata": {},
   "outputs": [
    {
     "data": {
      "text/html": [
       "<div>\n",
       "<style scoped>\n",
       "    .dataframe tbody tr th:only-of-type {\n",
       "        vertical-align: middle;\n",
       "    }\n",
       "\n",
       "    .dataframe tbody tr th {\n",
       "        vertical-align: top;\n",
       "    }\n",
       "\n",
       "    .dataframe thead th {\n",
       "        text-align: right;\n",
       "    }\n",
       "</style>\n",
       "<table border=\"1\" class=\"dataframe\">\n",
       "  <thead>\n",
       "    <tr style=\"text-align: right;\">\n",
       "      <th></th>\n",
       "      <th>admission_id</th>\n",
       "      <th>patient_id</th>\n",
       "      <th>admission_date</th>\n",
       "      <th>admission_time</th>\n",
       "      <th>discharge_date</th>\n",
       "      <th>discharge_time</th>\n",
       "      <th>hospital</th>\n",
       "      <th>age</th>\n",
       "      <th>sex</th>\n",
       "      <th>charlson_comorbidity_index</th>\n",
       "      <th>...</th>\n",
       "      <th>test_code</th>\n",
       "      <th>result_unit</th>\n",
       "      <th>result_value</th>\n",
       "      <th>result_date</th>\n",
       "      <th>result_time</th>\n",
       "      <th>issue_date</th>\n",
       "      <th>issue_time</th>\n",
       "      <th>rbc_transfusion</th>\n",
       "      <th>platelet_transfusion</th>\n",
       "      <th>plasma_transfusion</th>\n",
       "    </tr>\n",
       "  </thead>\n",
       "  <tbody>\n",
       "    <tr>\n",
       "      <th>0</th>\n",
       "      <td>3602</td>\n",
       "      <td>34208</td>\n",
       "      <td>2011-09-07</td>\n",
       "      <td>NaN</td>\n",
       "      <td>09/11/2011</td>\n",
       "      <td>13:16</td>\n",
       "      <td>St. Joseph's Health Centre</td>\n",
       "      <td>NaN</td>\n",
       "      <td>M</td>\n",
       "      <td>1</td>\n",
       "      <td>...</td>\n",
       "      <td>NaN</td>\n",
       "      <td>NaN</td>\n",
       "      <td>NaN</td>\n",
       "      <td>NaN</td>\n",
       "      <td>NaN</td>\n",
       "      <td>NaN</td>\n",
       "      <td>NaN</td>\n",
       "      <td>NaN</td>\n",
       "      <td>NaN</td>\n",
       "      <td>NaN</td>\n",
       "    </tr>\n",
       "    <tr>\n",
       "      <th>1</th>\n",
       "      <td>2790</td>\n",
       "      <td>90930</td>\n",
       "      <td>2008-07-22</td>\n",
       "      <td>06:19</td>\n",
       "      <td>07/24/2008</td>\n",
       "      <td>17:54</td>\n",
       "      <td>St. Michael's Hospital</td>\n",
       "      <td>48.0</td>\n",
       "      <td>M</td>\n",
       "      <td>1</td>\n",
       "      <td>...</td>\n",
       "      <td>ALB</td>\n",
       "      <td>g/dL</td>\n",
       "      <td>2.2</td>\n",
       "      <td>2008-07-22</td>\n",
       "      <td>16:45</td>\n",
       "      <td>NaN</td>\n",
       "      <td>NaN</td>\n",
       "      <td>NaN</td>\n",
       "      <td>NaN</td>\n",
       "      <td>NaN</td>\n",
       "    </tr>\n",
       "    <tr>\n",
       "      <th>2</th>\n",
       "      <td>8755</td>\n",
       "      <td>97765</td>\n",
       "      <td>2002-08-24</td>\n",
       "      <td>14:28</td>\n",
       "      <td>08/27/2002</td>\n",
       "      <td>08:14</td>\n",
       "      <td>Mount Sinai Hospital</td>\n",
       "      <td>59.0</td>\n",
       "      <td>F</td>\n",
       "      <td>0</td>\n",
       "      <td>...</td>\n",
       "      <td>ALB</td>\n",
       "      <td>g/dL</td>\n",
       "      <td>1.8</td>\n",
       "      <td>2002-08-26</td>\n",
       "      <td>15:27</td>\n",
       "      <td>2002-08-25</td>\n",
       "      <td>16:05</td>\n",
       "      <td>False</td>\n",
       "      <td>False</td>\n",
       "      <td>True</td>\n",
       "    </tr>\n",
       "    <tr>\n",
       "      <th>3</th>\n",
       "      <td>9260</td>\n",
       "      <td>17941</td>\n",
       "      <td>2007-01-12</td>\n",
       "      <td>09:39</td>\n",
       "      <td>01/26/2007</td>\n",
       "      <td>11:10</td>\n",
       "      <td>Sunnybrook Health Sciences Centre</td>\n",
       "      <td>57.0</td>\n",
       "      <td>M</td>\n",
       "      <td>1</td>\n",
       "      <td>...</td>\n",
       "      <td>RBC</td>\n",
       "      <td>g/L</td>\n",
       "      <td>172.1</td>\n",
       "      <td>2007-01-12</td>\n",
       "      <td>20:10</td>\n",
       "      <td>NaN</td>\n",
       "      <td>NaN</td>\n",
       "      <td>NaN</td>\n",
       "      <td>NaN</td>\n",
       "      <td>NaN</td>\n",
       "    </tr>\n",
       "    <tr>\n",
       "      <th>4</th>\n",
       "      <td>5317</td>\n",
       "      <td>36532</td>\n",
       "      <td>2003-09-24</td>\n",
       "      <td>13:37</td>\n",
       "      <td>10/12/2003</td>\n",
       "      <td>16:23</td>\n",
       "      <td>Toronto Western Hospital</td>\n",
       "      <td>51.0</td>\n",
       "      <td>F</td>\n",
       "      <td>1</td>\n",
       "      <td>...</td>\n",
       "      <td>ALB</td>\n",
       "      <td>g/dL</td>\n",
       "      <td>2.5</td>\n",
       "      <td>2003-09-27</td>\n",
       "      <td>19:31</td>\n",
       "      <td>NaN</td>\n",
       "      <td>NaN</td>\n",
       "      <td>NaN</td>\n",
       "      <td>NaN</td>\n",
       "      <td>NaN</td>\n",
       "    </tr>\n",
       "  </tbody>\n",
       "</table>\n",
       "<p>5 rows × 22 columns</p>\n",
       "</div>"
      ],
      "text/plain": [
       "   admission_id  patient_id admission_date admission_time discharge_date  \\\n",
       "0          3602       34208     2011-09-07            NaN     09/11/2011   \n",
       "1          2790       90930     2008-07-22          06:19     07/24/2008   \n",
       "2          8755       97765     2002-08-24          14:28     08/27/2002   \n",
       "3          9260       17941     2007-01-12          09:39     01/26/2007   \n",
       "4          5317       36532     2003-09-24          13:37     10/12/2003   \n",
       "\n",
       "  discharge_time                           hospital   age sex  \\\n",
       "0          13:16         St. Joseph's Health Centre   NaN   M   \n",
       "1          17:54             St. Michael's Hospital  48.0   M   \n",
       "2          08:14               Mount Sinai Hospital  59.0   F   \n",
       "3          11:10  Sunnybrook Health Sciences Centre  57.0   M   \n",
       "4          16:23           Toronto Western Hospital  51.0   F   \n",
       "\n",
       "  charlson_comorbidity_index  ...  test_code result_unit result_value  \\\n",
       "0                          1  ...        NaN         NaN          NaN   \n",
       "1                          1  ...        ALB        g/dL          2.2   \n",
       "2                          0  ...        ALB        g/dL          1.8   \n",
       "3                          1  ...        RBC         g/L        172.1   \n",
       "4                          1  ...        ALB        g/dL          2.5   \n",
       "\n",
       "  result_date  result_time  issue_date issue_time rbc_transfusion  \\\n",
       "0         NaN          NaN         NaN        NaN             NaN   \n",
       "1  2008-07-22        16:45         NaN        NaN             NaN   \n",
       "2  2002-08-26        15:27  2002-08-25      16:05           False   \n",
       "3  2007-01-12        20:10         NaN        NaN             NaN   \n",
       "4  2003-09-27        19:31         NaN        NaN             NaN   \n",
       "\n",
       "  platelet_transfusion plasma_transfusion  \n",
       "0                  NaN                NaN  \n",
       "1                  NaN                NaN  \n",
       "2                False               True  \n",
       "3                  NaN                NaN  \n",
       "4                  NaN                NaN  \n",
       "\n",
       "[5 rows x 22 columns]"
      ]
     },
     "execution_count": 13,
     "metadata": {},
     "output_type": "execute_result"
    }
   ],
   "source": [
    "all_df.head()"
   ]
  },
  {
   "cell_type": "code",
   "execution_count": 14,
   "metadata": {},
   "outputs": [
    {
     "name": "stdout",
     "output_type": "stream",
     "text": [
      "<class 'pandas.core.frame.DataFrame'>\n",
      "Int64Index: 5231 entries, 0 to 5230\n",
      "Data columns (total 22 columns):\n",
      " #   Column                      Non-Null Count  Dtype  \n",
      "---  ------                      --------------  -----  \n",
      " 0   admission_id                5231 non-null   int64  \n",
      " 1   patient_id                  5231 non-null   int64  \n",
      " 2   admission_date              5231 non-null   object \n",
      " 3   admission_time              4535 non-null   object \n",
      " 4   discharge_date              5231 non-null   object \n",
      " 5   discharge_time              5231 non-null   object \n",
      " 6   hospital                    5231 non-null   object \n",
      " 7   age                         4604 non-null   float64\n",
      " 8   sex                         5231 non-null   object \n",
      " 9   charlson_comorbidity_index  4970 non-null   object \n",
      " 10  lap_score                   5231 non-null   int64  \n",
      " 11  test_name                   3609 non-null   object \n",
      " 12  test_code                   3609 non-null   object \n",
      " 13  result_unit                 3609 non-null   object \n",
      " 14  result_value                3609 non-null   float64\n",
      " 15  result_date                 3609 non-null   object \n",
      " 16  result_time                 3609 non-null   object \n",
      " 17  issue_date                  657 non-null    object \n",
      " 18  issue_time                  657 non-null    object \n",
      " 19  rbc_transfusion             657 non-null    object \n",
      " 20  platelet_transfusion        657 non-null    object \n",
      " 21  plasma_transfusion          657 non-null    object \n",
      "dtypes: float64(2), int64(3), object(17)\n",
      "memory usage: 939.9+ KB\n"
     ]
    }
   ],
   "source": [
    "all_df.info()"
   ]
  },
  {
   "cell_type": "markdown",
   "metadata": {},
   "source": [
    "The merges seemed to work, so now let's calculate the percentage of missing values for each column:"
   ]
  },
  {
   "cell_type": "code",
   "execution_count": 15,
   "metadata": {},
   "outputs": [
    {
     "data": {
      "text/plain": [
       "admission_id                     0\n",
       "patient_id                       0\n",
       "admission_date                   0\n",
       "admission_time                 696\n",
       "discharge_date                   0\n",
       "discharge_time                   0\n",
       "hospital                         0\n",
       "age                            627\n",
       "sex                              0\n",
       "charlson_comorbidity_index     261\n",
       "lap_score                        0\n",
       "test_name                     1622\n",
       "test_code                     1622\n",
       "result_unit                   1622\n",
       "result_value                  1622\n",
       "result_date                   1622\n",
       "result_time                   1622\n",
       "issue_date                    4574\n",
       "issue_time                    4574\n",
       "rbc_transfusion               4574\n",
       "platelet_transfusion          4574\n",
       "plasma_transfusion            4574\n",
       "dtype: int64"
      ]
     },
     "execution_count": 15,
     "metadata": {},
     "output_type": "execute_result"
    }
   ],
   "source": [
    "all_df.isnull().sum()"
   ]
  },
  {
   "cell_type": "code",
   "execution_count": 16,
   "metadata": {},
   "outputs": [],
   "source": [
    "percent_missing = all_df.isnull().sum() * 100 / len(all_df)\n",
    "missing_value_df = pd.DataFrame({'percent_missing': percent_missing})"
   ]
  },
  {
   "cell_type": "code",
   "execution_count": 17,
   "metadata": {},
   "outputs": [
    {
     "data": {
      "text/html": [
       "<div>\n",
       "<style scoped>\n",
       "    .dataframe tbody tr th:only-of-type {\n",
       "        vertical-align: middle;\n",
       "    }\n",
       "\n",
       "    .dataframe tbody tr th {\n",
       "        vertical-align: top;\n",
       "    }\n",
       "\n",
       "    .dataframe thead th {\n",
       "        text-align: right;\n",
       "    }\n",
       "</style>\n",
       "<table border=\"1\" class=\"dataframe\">\n",
       "  <thead>\n",
       "    <tr style=\"text-align: right;\">\n",
       "      <th></th>\n",
       "      <th>percent_missing</th>\n",
       "    </tr>\n",
       "  </thead>\n",
       "  <tbody>\n",
       "    <tr>\n",
       "      <th>admission_id</th>\n",
       "      <td>0.000000</td>\n",
       "    </tr>\n",
       "    <tr>\n",
       "      <th>patient_id</th>\n",
       "      <td>0.000000</td>\n",
       "    </tr>\n",
       "    <tr>\n",
       "      <th>admission_date</th>\n",
       "      <td>0.000000</td>\n",
       "    </tr>\n",
       "    <tr>\n",
       "      <th>admission_time</th>\n",
       "      <td>13.305295</td>\n",
       "    </tr>\n",
       "    <tr>\n",
       "      <th>discharge_date</th>\n",
       "      <td>0.000000</td>\n",
       "    </tr>\n",
       "    <tr>\n",
       "      <th>discharge_time</th>\n",
       "      <td>0.000000</td>\n",
       "    </tr>\n",
       "    <tr>\n",
       "      <th>hospital</th>\n",
       "      <td>0.000000</td>\n",
       "    </tr>\n",
       "    <tr>\n",
       "      <th>age</th>\n",
       "      <td>11.986236</td>\n",
       "    </tr>\n",
       "    <tr>\n",
       "      <th>sex</th>\n",
       "      <td>0.000000</td>\n",
       "    </tr>\n",
       "    <tr>\n",
       "      <th>charlson_comorbidity_index</th>\n",
       "      <td>4.989486</td>\n",
       "    </tr>\n",
       "    <tr>\n",
       "      <th>lap_score</th>\n",
       "      <td>0.000000</td>\n",
       "    </tr>\n",
       "    <tr>\n",
       "      <th>test_name</th>\n",
       "      <td>31.007456</td>\n",
       "    </tr>\n",
       "    <tr>\n",
       "      <th>test_code</th>\n",
       "      <td>31.007456</td>\n",
       "    </tr>\n",
       "    <tr>\n",
       "      <th>result_unit</th>\n",
       "      <td>31.007456</td>\n",
       "    </tr>\n",
       "    <tr>\n",
       "      <th>result_value</th>\n",
       "      <td>31.007456</td>\n",
       "    </tr>\n",
       "    <tr>\n",
       "      <th>result_date</th>\n",
       "      <td>31.007456</td>\n",
       "    </tr>\n",
       "    <tr>\n",
       "      <th>result_time</th>\n",
       "      <td>31.007456</td>\n",
       "    </tr>\n",
       "    <tr>\n",
       "      <th>issue_date</th>\n",
       "      <td>87.440260</td>\n",
       "    </tr>\n",
       "    <tr>\n",
       "      <th>issue_time</th>\n",
       "      <td>87.440260</td>\n",
       "    </tr>\n",
       "    <tr>\n",
       "      <th>rbc_transfusion</th>\n",
       "      <td>87.440260</td>\n",
       "    </tr>\n",
       "    <tr>\n",
       "      <th>platelet_transfusion</th>\n",
       "      <td>87.440260</td>\n",
       "    </tr>\n",
       "    <tr>\n",
       "      <th>plasma_transfusion</th>\n",
       "      <td>87.440260</td>\n",
       "    </tr>\n",
       "  </tbody>\n",
       "</table>\n",
       "</div>"
      ],
      "text/plain": [
       "                            percent_missing\n",
       "admission_id                       0.000000\n",
       "patient_id                         0.000000\n",
       "admission_date                     0.000000\n",
       "admission_time                    13.305295\n",
       "discharge_date                     0.000000\n",
       "discharge_time                     0.000000\n",
       "hospital                           0.000000\n",
       "age                               11.986236\n",
       "sex                                0.000000\n",
       "charlson_comorbidity_index         4.989486\n",
       "lap_score                          0.000000\n",
       "test_name                         31.007456\n",
       "test_code                         31.007456\n",
       "result_unit                       31.007456\n",
       "result_value                      31.007456\n",
       "result_date                       31.007456\n",
       "result_time                       31.007456\n",
       "issue_date                        87.440260\n",
       "issue_time                        87.440260\n",
       "rbc_transfusion                   87.440260\n",
       "platelet_transfusion              87.440260\n",
       "plasma_transfusion                87.440260"
      ]
     },
     "execution_count": 17,
     "metadata": {},
     "output_type": "execute_result"
    }
   ],
   "source": [
    "missing_value_df"
   ]
  },
  {
   "cell_type": "markdown",
   "metadata": {},
   "source": [
    "It worked. Seems like Issue_date and time, rbc_transfusion, platelet and plasma transfusion are missing most of their values. Good to know.\n",
    "\n",
    "Let's move on to the next question."
   ]
  },
  {
   "cell_type": "markdown",
   "metadata": {},
   "source": [
    "# Task 3"
   ]
  },
  {
   "cell_type": "markdown",
   "metadata": {},
   "source": [
    "Let's fill in the NAs of admission time with the most popular value"
   ]
  },
  {
   "cell_type": "code",
   "execution_count": 18,
   "metadata": {},
   "outputs": [],
   "source": [
    "# filling in the NAs\n",
    "adm_df['admission_time'] = adm_df['admission_time'].fillna(adm_df['admission_time'].value_counts().index[0])\n",
    "\n",
    "# Now merge again\n",
    "all_df = adm_df.merge(lab_df, on = 'admission_id', how='left')\n",
    "all_df = all_df.merge(trans_df, on = 'admission_id', how='left')\n"
   ]
  },
  {
   "cell_type": "code",
   "execution_count": 19,
   "metadata": {},
   "outputs": [
    {
     "name": "stdout",
     "output_type": "stream",
     "text": [
      "<class 'pandas.core.frame.DataFrame'>\n",
      "Int64Index: 5231 entries, 0 to 5230\n",
      "Data columns (total 22 columns):\n",
      " #   Column                      Non-Null Count  Dtype  \n",
      "---  ------                      --------------  -----  \n",
      " 0   admission_id                5231 non-null   int64  \n",
      " 1   patient_id                  5231 non-null   int64  \n",
      " 2   admission_date              5231 non-null   object \n",
      " 3   admission_time              5231 non-null   object \n",
      " 4   discharge_date              5231 non-null   object \n",
      " 5   discharge_time              5231 non-null   object \n",
      " 6   hospital                    5231 non-null   object \n",
      " 7   age                         4604 non-null   float64\n",
      " 8   sex                         5231 non-null   object \n",
      " 9   charlson_comorbidity_index  4970 non-null   object \n",
      " 10  lap_score                   5231 non-null   int64  \n",
      " 11  test_name                   3609 non-null   object \n",
      " 12  test_code                   3609 non-null   object \n",
      " 13  result_unit                 3609 non-null   object \n",
      " 14  result_value                3609 non-null   float64\n",
      " 15  result_date                 3609 non-null   object \n",
      " 16  result_time                 3609 non-null   object \n",
      " 17  issue_date                  657 non-null    object \n",
      " 18  issue_time                  657 non-null    object \n",
      " 19  rbc_transfusion             657 non-null    object \n",
      " 20  platelet_transfusion        657 non-null    object \n",
      " 21  plasma_transfusion          657 non-null    object \n",
      "dtypes: float64(2), int64(3), object(17)\n",
      "memory usage: 939.9+ KB\n"
     ]
    }
   ],
   "source": [
    "all_df.info()"
   ]
  },
  {
   "cell_type": "markdown",
   "metadata": {},
   "source": [
    "Now let's convert all the admission and discharge dates and times to datetime objects"
   ]
  },
  {
   "cell_type": "code",
   "execution_count": 20,
   "metadata": {},
   "outputs": [
    {
     "data": {
      "text/plain": [
       "0       2011-09-07 21:58\n",
       "1       2008-07-22 06:19\n",
       "2       2002-08-24 14:28\n",
       "3       2007-01-12 09:39\n",
       "4       2003-09-24 13:37\n",
       "              ...       \n",
       "5226    2002-12-27 16:49\n",
       "5227    2008-01-26 12:58\n",
       "5228    2007-05-16 15:10\n",
       "5229    2007-02-19 09:50\n",
       "5230    2010-02-23 21:37\n",
       "Length: 5231, dtype: object"
      ]
     },
     "execution_count": 20,
     "metadata": {},
     "output_type": "execute_result"
    }
   ],
   "source": [
    "all_df.apply(lambda x: x['admission_date'] +\" \"+ x['admission_time'], axis=1)"
   ]
  },
  {
   "cell_type": "code",
   "execution_count": 21,
   "metadata": {},
   "outputs": [],
   "source": [
    "admission_datetime = pd.to_datetime(all_df.apply(lambda x: x['admission_date'] +\" \"+ x['admission_time'], axis=1))\n",
    "discharge_datetime = pd.to_datetime(all_df.apply(lambda x: x['discharge_date'] +\" \"+ x['discharge_time'], axis=1))"
   ]
  },
  {
   "cell_type": "markdown",
   "metadata": {},
   "source": [
    "Conversion looks good, so now let's subtract the dates, then get the mean length_of_stay at each hospital"
   ]
  },
  {
   "cell_type": "code",
   "execution_count": 22,
   "metadata": {},
   "outputs": [],
   "source": [
    "length_of_stay = discharge_datetime - admission_datetime"
   ]
  },
  {
   "cell_type": "code",
   "execution_count": 23,
   "metadata": {},
   "outputs": [
    {
     "data": {
      "text/plain": [
       "0       3 days 15:18:00\n",
       "1       2 days 11:35:00\n",
       "2       2 days 17:46:00\n",
       "3      14 days 01:31:00\n",
       "4      18 days 02:46:00\n",
       "             ...       \n",
       "5226   15 days 05:56:00\n",
       "5227    1 days 12:47:00\n",
       "5228    3 days 15:54:00\n",
       "5229   11 days 17:17:00\n",
       "5230    6 days 06:14:00\n",
       "Length: 5231, dtype: timedelta64[ns]"
      ]
     },
     "execution_count": 23,
     "metadata": {},
     "output_type": "execute_result"
    }
   ],
   "source": [
    "length_of_stay"
   ]
  },
  {
   "cell_type": "code",
   "execution_count": 24,
   "metadata": {},
   "outputs": [],
   "source": [
    "all_df['length_of_stay'] = length_of_stay.values.astype(np.int64)"
   ]
  },
  {
   "cell_type": "code",
   "execution_count": 25,
   "metadata": {},
   "outputs": [
    {
     "data": {
      "text/plain": [
       "hospital\n",
       "Mount Sinai Hospital                11 days 05:52:47.176781002\n",
       "St. Joseph's Health Centre          10 days 08:09:52.931034482\n",
       "St. Michael's Hospital              10 days 17:47:57.154989384\n",
       "Sunnybrook Health Sciences Centre   11 days 00:07:46.744730679\n",
       "Toronto Western Hospital            11 days 03:35:16.897506925\n",
       "Name: length_of_stay, dtype: timedelta64[ns]"
      ]
     },
     "execution_count": 25,
     "metadata": {},
     "output_type": "execute_result"
    }
   ],
   "source": [
    "pd.to_timedelta(all_df.groupby('hospital').mean()['length_of_stay'])"
   ]
  },
  {
   "cell_type": "markdown",
   "metadata": {},
   "source": [
    "It worked. Looks like the means of all hospitals are around 10 or 11 days."
   ]
  },
  {
   "cell_type": "markdown",
   "metadata": {},
   "source": [
    "# Task 4"
   ]
  },
  {
   "cell_type": "markdown",
   "metadata": {},
   "source": [
    "Let's fill in the NA values of age with the mean age of the sampled population. I can not think out anything quicker that does not rely on a linear model to predict the age. Inputting the most popular age would not help either, since it would be even more biased. This will affect the statistical model significanly, since the age values will be pulled more towards the mean, introducing bias."
   ]
  },
  {
   "cell_type": "code",
   "execution_count": 26,
   "metadata": {},
   "outputs": [],
   "source": [
    "all_df['age'].fillna(all_df['age'].mean(), inplace=True)"
   ]
  },
  {
   "cell_type": "code",
   "execution_count": 27,
   "metadata": {},
   "outputs": [
    {
     "name": "stdout",
     "output_type": "stream",
     "text": [
      "<class 'pandas.core.frame.DataFrame'>\n",
      "Int64Index: 5231 entries, 0 to 5230\n",
      "Data columns (total 23 columns):\n",
      " #   Column                      Non-Null Count  Dtype  \n",
      "---  ------                      --------------  -----  \n",
      " 0   admission_id                5231 non-null   int64  \n",
      " 1   patient_id                  5231 non-null   int64  \n",
      " 2   admission_date              5231 non-null   object \n",
      " 3   admission_time              5231 non-null   object \n",
      " 4   discharge_date              5231 non-null   object \n",
      " 5   discharge_time              5231 non-null   object \n",
      " 6   hospital                    5231 non-null   object \n",
      " 7   age                         5231 non-null   float64\n",
      " 8   sex                         5231 non-null   object \n",
      " 9   charlson_comorbidity_index  4970 non-null   object \n",
      " 10  lap_score                   5231 non-null   int64  \n",
      " 11  test_name                   3609 non-null   object \n",
      " 12  test_code                   3609 non-null   object \n",
      " 13  result_unit                 3609 non-null   object \n",
      " 14  result_value                3609 non-null   float64\n",
      " 15  result_date                 3609 non-null   object \n",
      " 16  result_time                 3609 non-null   object \n",
      " 17  issue_date                  657 non-null    object \n",
      " 18  issue_time                  657 non-null    object \n",
      " 19  rbc_transfusion             657 non-null    object \n",
      " 20  platelet_transfusion        657 non-null    object \n",
      " 21  plasma_transfusion          657 non-null    object \n",
      " 22  length_of_stay              5231 non-null   int64  \n",
      "dtypes: float64(2), int64(4), object(17)\n",
      "memory usage: 980.8+ KB\n"
     ]
    }
   ],
   "source": [
    "all_df.info()"
   ]
  },
  {
   "cell_type": "markdown",
   "metadata": {},
   "source": [
    "For the charlson-comorbidity-index I quickly found 1 website: https://www.mdcalc.com/charlson-comorbidity-index-cci\n",
    "\n",
    "saying that:\n",
    " - for <50 years charlson-comorbidity-index = 0\n",
    " - for 50–59 years charlson-comorbidity-index = +1\n",
    " - for 60–69 years charlson-comorbidity-index = +2\n",
    " - for 70–79 years charlson-comorbidity-index = +3\n",
    " - for ≥80 years charlson-comorbidity-index = +4"
   ]
  },
  {
   "cell_type": "code",
   "execution_count": 28,
   "metadata": {},
   "outputs": [],
   "source": [
    "def calculate_charlson_comorbidity_index(age):\n",
    "    if age < 50:\n",
    "        return \"0\"\n",
    "    elif age < 60:\n",
    "        return \"1+\"\n",
    "    elif age < 70:\n",
    "        return \"2+\"\n",
    "    elif age < 79:\n",
    "        return \"3+\"\n",
    "    else:\n",
    "        return \"4+\""
   ]
  },
  {
   "cell_type": "code",
   "execution_count": 29,
   "metadata": {},
   "outputs": [],
   "source": [
    "all_df['charlson_comorbidity_index'].fillna(lambda x: calculate_charlson_comorbidity_index(x['age']), axis=0, inplace=True)"
   ]
  },
  {
   "cell_type": "code",
   "execution_count": 30,
   "metadata": {},
   "outputs": [
    {
     "name": "stdout",
     "output_type": "stream",
     "text": [
      "<class 'pandas.core.frame.DataFrame'>\n",
      "Int64Index: 5231 entries, 0 to 5230\n",
      "Data columns (total 23 columns):\n",
      " #   Column                      Non-Null Count  Dtype  \n",
      "---  ------                      --------------  -----  \n",
      " 0   admission_id                5231 non-null   int64  \n",
      " 1   patient_id                  5231 non-null   int64  \n",
      " 2   admission_date              5231 non-null   object \n",
      " 3   admission_time              5231 non-null   object \n",
      " 4   discharge_date              5231 non-null   object \n",
      " 5   discharge_time              5231 non-null   object \n",
      " 6   hospital                    5231 non-null   object \n",
      " 7   age                         5231 non-null   float64\n",
      " 8   sex                         5231 non-null   object \n",
      " 9   charlson_comorbidity_index  5231 non-null   object \n",
      " 10  lap_score                   5231 non-null   int64  \n",
      " 11  test_name                   3609 non-null   object \n",
      " 12  test_code                   3609 non-null   object \n",
      " 13  result_unit                 3609 non-null   object \n",
      " 14  result_value                3609 non-null   float64\n",
      " 15  result_date                 3609 non-null   object \n",
      " 16  result_time                 3609 non-null   object \n",
      " 17  issue_date                  657 non-null    object \n",
      " 18  issue_time                  657 non-null    object \n",
      " 19  rbc_transfusion             657 non-null    object \n",
      " 20  platelet_transfusion        657 non-null    object \n",
      " 21  plasma_transfusion          657 non-null    object \n",
      " 22  length_of_stay              5231 non-null   int64  \n",
      "dtypes: float64(2), int64(4), object(17)\n",
      "memory usage: 980.8+ KB\n"
     ]
    }
   ],
   "source": [
    "all_df.info()"
   ]
  },
  {
   "cell_type": "markdown",
   "metadata": {},
   "source": [
    "Seems like it worked, and all the age, and charlson_comorbidity_index missing values have been imputated. Some assumptions have been made, but overall it's better to have some assumed values instead of removing the whole sample from the data set due to missing values."
   ]
  },
  {
   "cell_type": "markdown",
   "metadata": {},
   "source": [
    "# Task 5"
   ]
  },
  {
   "cell_type": "code",
   "execution_count": null,
   "metadata": {},
   "outputs": [],
   "source": []
  },
  {
   "cell_type": "markdown",
   "metadata": {},
   "source": [
    "# Task 6"
   ]
  },
  {
   "cell_type": "code",
   "execution_count": null,
   "metadata": {},
   "outputs": [],
   "source": []
  },
  {
   "cell_type": "markdown",
   "metadata": {},
   "source": [
    "# Task 7"
   ]
  },
  {
   "cell_type": "code",
   "execution_count": 31,
   "metadata": {},
   "outputs": [],
   "source": [
    "from sklearn.linear_model import LinearRegression"
   ]
  },
  {
   "cell_type": "code",
   "execution_count": 38,
   "metadata": {},
   "outputs": [],
   "source": [
    "linear_regressor = LinearRegression()\n",
    "\n",
    "test_results_df = all_df[all_df['result_value'].isnull()==False]"
   ]
  },
  {
   "cell_type": "code",
   "execution_count": 40,
   "metadata": {},
   "outputs": [
    {
     "name": "stdout",
     "output_type": "stream",
     "text": [
      "1       1\n",
      "2       0\n",
      "3       1\n",
      "4       0\n",
      "7       0\n",
      "       ..\n",
      "5219    0\n",
      "5222    1\n",
      "5228    1\n",
      "5229    1\n",
      "5230    1\n",
      "Name: sex, Length: 3609, dtype: int8\n"
     ]
    },
    {
     "name": "stderr",
     "output_type": "stream",
     "text": [
      "c:\\users\\norbert\\appdata\\local\\programs\\python\\python36\\lib\\site-packages\\ipykernel_launcher.py:1: SettingWithCopyWarning: \n",
      "A value is trying to be set on a copy of a slice from a DataFrame.\n",
      "Try using .loc[row_indexer,col_indexer] = value instead\n",
      "\n",
      "See the caveats in the documentation: https://pandas.pydata.org/pandas-docs/stable/user_guide/indexing.html#returning-a-view-versus-a-copy\n",
      "  \"\"\"Entry point for launching an IPython kernel.\n",
      "c:\\users\\norbert\\appdata\\local\\programs\\python\\python36\\lib\\site-packages\\ipykernel_launcher.py:2: SettingWithCopyWarning: \n",
      "A value is trying to be set on a copy of a slice from a DataFrame.\n",
      "Try using .loc[row_indexer,col_indexer] = value instead\n",
      "\n",
      "See the caveats in the documentation: https://pandas.pydata.org/pandas-docs/stable/user_guide/indexing.html#returning-a-view-versus-a-copy\n",
      "  \n"
     ]
    }
   ],
   "source": [
    "test_results_df['sex'] = test_results_df['sex'].astype('category')\n",
    "test_results_df['sex'] = test_results_df['sex'].cat.codes\n",
    "print(test_results_df['sex'])"
   ]
  },
  {
   "cell_type": "code",
   "execution_count": null,
   "metadata": {},
   "outputs": [],
   "source": [
    "\n",
    "\n",
    "all_df['hospital'] = all_df['hospital'].astype('category')\n",
    "all_df['hospital'] = all_df['hospital'].cat.codes\n",
    "print(all_df['hospital'])\n",
    "\n",
    "all_df.info()"
   ]
  },
  {
   "cell_type": "code",
   "execution_count": 36,
   "metadata": {},
   "outputs": [
    {
     "ename": "ValueError",
     "evalue": "Input contains NaN, infinity or a value too large for dtype('float64').",
     "output_type": "error",
     "traceback": [
      "\u001b[1;31m---------------------------------------------------------------------------\u001b[0m",
      "\u001b[1;31mValueError\u001b[0m                                Traceback (most recent call last)",
      "\u001b[1;32m<ipython-input-36-0b43564413b1>\u001b[0m in \u001b[0;36m<module>\u001b[1;34m\u001b[0m\n\u001b[0;32m      1\u001b[0m \u001b[0mdependent\u001b[0m \u001b[1;33m=\u001b[0m \u001b[0mall_df\u001b[0m\u001b[1;33m[\u001b[0m\u001b[1;33m[\u001b[0m\u001b[1;34m'age'\u001b[0m\u001b[1;33m,\u001b[0m \u001b[1;34m'sex'\u001b[0m\u001b[1;33m,\u001b[0m \u001b[1;34m'hospital'\u001b[0m\u001b[1;33m]\u001b[0m\u001b[1;33m]\u001b[0m\u001b[1;33m\u001b[0m\u001b[0m\n\u001b[0;32m      2\u001b[0m \u001b[0mindependent\u001b[0m \u001b[1;33m=\u001b[0m \u001b[0mall_df\u001b[0m\u001b[1;33m[\u001b[0m\u001b[1;34m'result_value'\u001b[0m\u001b[1;33m]\u001b[0m\u001b[1;33m\u001b[0m\u001b[0m\n\u001b[1;32m----> 3\u001b[1;33m \u001b[0mlinear_regressor\u001b[0m\u001b[1;33m.\u001b[0m\u001b[0mfit\u001b[0m\u001b[1;33m(\u001b[0m\u001b[0mdependent\u001b[0m\u001b[1;33m,\u001b[0m \u001b[0mindependent\u001b[0m\u001b[1;33m)\u001b[0m\u001b[1;33m\u001b[0m\u001b[0m\n\u001b[0m\u001b[0;32m      4\u001b[0m \u001b[0mY_pred\u001b[0m \u001b[1;33m=\u001b[0m \u001b[0mlinear_regressor\u001b[0m\u001b[1;33m.\u001b[0m\u001b[0mpredict\u001b[0m\u001b[1;33m(\u001b[0m\u001b[0mdependent\u001b[0m\u001b[1;33m)\u001b[0m\u001b[1;33m\u001b[0m\u001b[0m\n",
      "\u001b[1;32mc:\\users\\norbert\\appdata\\local\\programs\\python\\python36\\lib\\site-packages\\sklearn\\linear_model\\_base.py\u001b[0m in \u001b[0;36mfit\u001b[1;34m(self, X, y, sample_weight)\u001b[0m\n\u001b[0;32m    504\u001b[0m         \u001b[0mn_jobs_\u001b[0m \u001b[1;33m=\u001b[0m \u001b[0mself\u001b[0m\u001b[1;33m.\u001b[0m\u001b[0mn_jobs\u001b[0m\u001b[1;33m\u001b[0m\u001b[0m\n\u001b[0;32m    505\u001b[0m         X, y = self._validate_data(X, y, accept_sparse=['csr', 'csc', 'coo'],\n\u001b[1;32m--> 506\u001b[1;33m                                    y_numeric=True, multi_output=True)\n\u001b[0m\u001b[0;32m    507\u001b[0m \u001b[1;33m\u001b[0m\u001b[0m\n\u001b[0;32m    508\u001b[0m         \u001b[1;32mif\u001b[0m \u001b[0msample_weight\u001b[0m \u001b[1;32mis\u001b[0m \u001b[1;32mnot\u001b[0m \u001b[1;32mNone\u001b[0m\u001b[1;33m:\u001b[0m\u001b[1;33m\u001b[0m\u001b[0m\n",
      "\u001b[1;32mc:\\users\\norbert\\appdata\\local\\programs\\python\\python36\\lib\\site-packages\\sklearn\\base.py\u001b[0m in \u001b[0;36m_validate_data\u001b[1;34m(self, X, y, reset, validate_separately, **check_params)\u001b[0m\n\u001b[0;32m    430\u001b[0m                 \u001b[0my\u001b[0m \u001b[1;33m=\u001b[0m \u001b[0mcheck_array\u001b[0m\u001b[1;33m(\u001b[0m\u001b[0my\u001b[0m\u001b[1;33m,\u001b[0m \u001b[1;33m**\u001b[0m\u001b[0mcheck_y_params\u001b[0m\u001b[1;33m)\u001b[0m\u001b[1;33m\u001b[0m\u001b[0m\n\u001b[0;32m    431\u001b[0m             \u001b[1;32melse\u001b[0m\u001b[1;33m:\u001b[0m\u001b[1;33m\u001b[0m\u001b[0m\n\u001b[1;32m--> 432\u001b[1;33m                 \u001b[0mX\u001b[0m\u001b[1;33m,\u001b[0m \u001b[0my\u001b[0m \u001b[1;33m=\u001b[0m \u001b[0mcheck_X_y\u001b[0m\u001b[1;33m(\u001b[0m\u001b[0mX\u001b[0m\u001b[1;33m,\u001b[0m \u001b[0my\u001b[0m\u001b[1;33m,\u001b[0m \u001b[1;33m**\u001b[0m\u001b[0mcheck_params\u001b[0m\u001b[1;33m)\u001b[0m\u001b[1;33m\u001b[0m\u001b[0m\n\u001b[0m\u001b[0;32m    433\u001b[0m             \u001b[0mout\u001b[0m \u001b[1;33m=\u001b[0m \u001b[0mX\u001b[0m\u001b[1;33m,\u001b[0m \u001b[0my\u001b[0m\u001b[1;33m\u001b[0m\u001b[0m\n\u001b[0;32m    434\u001b[0m \u001b[1;33m\u001b[0m\u001b[0m\n",
      "\u001b[1;32mc:\\users\\norbert\\appdata\\local\\programs\\python\\python36\\lib\\site-packages\\sklearn\\utils\\validation.py\u001b[0m in \u001b[0;36minner_f\u001b[1;34m(*args, **kwargs)\u001b[0m\n\u001b[0;32m     70\u001b[0m                           FutureWarning)\n\u001b[0;32m     71\u001b[0m         \u001b[0mkwargs\u001b[0m\u001b[1;33m.\u001b[0m\u001b[0mupdate\u001b[0m\u001b[1;33m(\u001b[0m\u001b[1;33m{\u001b[0m\u001b[0mk\u001b[0m\u001b[1;33m:\u001b[0m \u001b[0marg\u001b[0m \u001b[1;32mfor\u001b[0m \u001b[0mk\u001b[0m\u001b[1;33m,\u001b[0m \u001b[0marg\u001b[0m \u001b[1;32min\u001b[0m \u001b[0mzip\u001b[0m\u001b[1;33m(\u001b[0m\u001b[0msig\u001b[0m\u001b[1;33m.\u001b[0m\u001b[0mparameters\u001b[0m\u001b[1;33m,\u001b[0m \u001b[0margs\u001b[0m\u001b[1;33m)\u001b[0m\u001b[1;33m}\u001b[0m\u001b[1;33m)\u001b[0m\u001b[1;33m\u001b[0m\u001b[0m\n\u001b[1;32m---> 72\u001b[1;33m         \u001b[1;32mreturn\u001b[0m \u001b[0mf\u001b[0m\u001b[1;33m(\u001b[0m\u001b[1;33m**\u001b[0m\u001b[0mkwargs\u001b[0m\u001b[1;33m)\u001b[0m\u001b[1;33m\u001b[0m\u001b[0m\n\u001b[0m\u001b[0;32m     73\u001b[0m     \u001b[1;32mreturn\u001b[0m \u001b[0minner_f\u001b[0m\u001b[1;33m\u001b[0m\u001b[0m\n\u001b[0;32m     74\u001b[0m \u001b[1;33m\u001b[0m\u001b[0m\n",
      "\u001b[1;32mc:\\users\\norbert\\appdata\\local\\programs\\python\\python36\\lib\\site-packages\\sklearn\\utils\\validation.py\u001b[0m in \u001b[0;36mcheck_X_y\u001b[1;34m(X, y, accept_sparse, accept_large_sparse, dtype, order, copy, force_all_finite, ensure_2d, allow_nd, multi_output, ensure_min_samples, ensure_min_features, y_numeric, estimator)\u001b[0m\n\u001b[0;32m    803\u001b[0m     \u001b[1;32mif\u001b[0m \u001b[0mmulti_output\u001b[0m\u001b[1;33m:\u001b[0m\u001b[1;33m\u001b[0m\u001b[0m\n\u001b[0;32m    804\u001b[0m         y = check_array(y, accept_sparse='csr', force_all_finite=True,\n\u001b[1;32m--> 805\u001b[1;33m                         ensure_2d=False, dtype=None)\n\u001b[0m\u001b[0;32m    806\u001b[0m     \u001b[1;32melse\u001b[0m\u001b[1;33m:\u001b[0m\u001b[1;33m\u001b[0m\u001b[0m\n\u001b[0;32m    807\u001b[0m         \u001b[0my\u001b[0m \u001b[1;33m=\u001b[0m \u001b[0mcolumn_or_1d\u001b[0m\u001b[1;33m(\u001b[0m\u001b[0my\u001b[0m\u001b[1;33m,\u001b[0m \u001b[0mwarn\u001b[0m\u001b[1;33m=\u001b[0m\u001b[1;32mTrue\u001b[0m\u001b[1;33m)\u001b[0m\u001b[1;33m\u001b[0m\u001b[0m\n",
      "\u001b[1;32mc:\\users\\norbert\\appdata\\local\\programs\\python\\python36\\lib\\site-packages\\sklearn\\utils\\validation.py\u001b[0m in \u001b[0;36minner_f\u001b[1;34m(*args, **kwargs)\u001b[0m\n\u001b[0;32m     70\u001b[0m                           FutureWarning)\n\u001b[0;32m     71\u001b[0m         \u001b[0mkwargs\u001b[0m\u001b[1;33m.\u001b[0m\u001b[0mupdate\u001b[0m\u001b[1;33m(\u001b[0m\u001b[1;33m{\u001b[0m\u001b[0mk\u001b[0m\u001b[1;33m:\u001b[0m \u001b[0marg\u001b[0m \u001b[1;32mfor\u001b[0m \u001b[0mk\u001b[0m\u001b[1;33m,\u001b[0m \u001b[0marg\u001b[0m \u001b[1;32min\u001b[0m \u001b[0mzip\u001b[0m\u001b[1;33m(\u001b[0m\u001b[0msig\u001b[0m\u001b[1;33m.\u001b[0m\u001b[0mparameters\u001b[0m\u001b[1;33m,\u001b[0m \u001b[0margs\u001b[0m\u001b[1;33m)\u001b[0m\u001b[1;33m}\u001b[0m\u001b[1;33m)\u001b[0m\u001b[1;33m\u001b[0m\u001b[0m\n\u001b[1;32m---> 72\u001b[1;33m         \u001b[1;32mreturn\u001b[0m \u001b[0mf\u001b[0m\u001b[1;33m(\u001b[0m\u001b[1;33m**\u001b[0m\u001b[0mkwargs\u001b[0m\u001b[1;33m)\u001b[0m\u001b[1;33m\u001b[0m\u001b[0m\n\u001b[0m\u001b[0;32m     73\u001b[0m     \u001b[1;32mreturn\u001b[0m \u001b[0minner_f\u001b[0m\u001b[1;33m\u001b[0m\u001b[0m\n\u001b[0;32m     74\u001b[0m \u001b[1;33m\u001b[0m\u001b[0m\n",
      "\u001b[1;32mc:\\users\\norbert\\appdata\\local\\programs\\python\\python36\\lib\\site-packages\\sklearn\\utils\\validation.py\u001b[0m in \u001b[0;36mcheck_array\u001b[1;34m(array, accept_sparse, accept_large_sparse, dtype, order, copy, force_all_finite, ensure_2d, allow_nd, ensure_min_samples, ensure_min_features, estimator)\u001b[0m\n\u001b[0;32m    643\u001b[0m         \u001b[1;32mif\u001b[0m \u001b[0mforce_all_finite\u001b[0m\u001b[1;33m:\u001b[0m\u001b[1;33m\u001b[0m\u001b[0m\n\u001b[0;32m    644\u001b[0m             _assert_all_finite(array,\n\u001b[1;32m--> 645\u001b[1;33m                                allow_nan=force_all_finite == 'allow-nan')\n\u001b[0m\u001b[0;32m    646\u001b[0m \u001b[1;33m\u001b[0m\u001b[0m\n\u001b[0;32m    647\u001b[0m     \u001b[1;32mif\u001b[0m \u001b[0mensure_min_samples\u001b[0m \u001b[1;33m>\u001b[0m \u001b[1;36m0\u001b[0m\u001b[1;33m:\u001b[0m\u001b[1;33m\u001b[0m\u001b[0m\n",
      "\u001b[1;32mc:\\users\\norbert\\appdata\\local\\programs\\python\\python36\\lib\\site-packages\\sklearn\\utils\\validation.py\u001b[0m in \u001b[0;36m_assert_all_finite\u001b[1;34m(X, allow_nan, msg_dtype)\u001b[0m\n\u001b[0;32m     97\u001b[0m                     \u001b[0mmsg_err\u001b[0m\u001b[1;33m.\u001b[0m\u001b[0mformat\u001b[0m\u001b[1;33m\u001b[0m\u001b[0m\n\u001b[0;32m     98\u001b[0m                     (type_err,\n\u001b[1;32m---> 99\u001b[1;33m                      msg_dtype if msg_dtype is not None else X.dtype)\n\u001b[0m\u001b[0;32m    100\u001b[0m             )\n\u001b[0;32m    101\u001b[0m     \u001b[1;31m# for object dtype data, we only check for NaNs (GH-13254)\u001b[0m\u001b[1;33m\u001b[0m\u001b[1;33m\u001b[0m\u001b[0m\n",
      "\u001b[1;31mValueError\u001b[0m: Input contains NaN, infinity or a value too large for dtype('float64')."
     ]
    }
   ],
   "source": [
    "dependent = all_df[['age', 'sex', 'hospital']]\n",
    "independent = all_df['result_value']\n",
    "linear_regressor.fit(dependent, independent)\n",
    "Y_pred = linear_regressor.predict(dependent)"
   ]
  },
  {
   "cell_type": "code",
   "execution_count": null,
   "metadata": {},
   "outputs": [],
   "source": [
    "# The coefficients\n",
    "print('Coefficients: \\n', regr.coef_)\n",
    "# The mean squared error\n",
    "print('Mean squared error: %.2f'\n",
    "      % mean_squared_error(diabetes_y_test, diabetes_y_pred))\n",
    "# The coefficient of determination: 1 is perfect prediction\n",
    "print('Coefficient of determination: %.2f'\n",
    "      % r2_score(diabetes_y_test, diabetes_y_pred))\n",
    "\n",
    "# Plot outputs\n",
    "plt.scatter(diabetes_X_test, diabetes_y_test,  color='black')\n",
    "plt.plot(diabetes_X_test, diabetes_y_pred, color='blue', linewidth=3)\n",
    "\n",
    "plt.xticks(())\n",
    "plt.yticks(())\n",
    "\n",
    "plt.show()"
   ]
  },
  {
   "cell_type": "markdown",
   "metadata": {},
   "source": [
    "# Task 8"
   ]
  },
  {
   "cell_type": "markdown",
   "metadata": {},
   "source": [
    "# Task 9"
   ]
  },
  {
   "cell_type": "markdown",
   "metadata": {},
   "source": [
    "# Task 10"
   ]
  }
 ],
 "metadata": {
  "kernelspec": {
   "display_name": "Python 3",
   "language": "python",
   "name": "python3"
  },
  "language_info": {
   "codemirror_mode": {
    "name": "ipython",
    "version": 3
   },
   "file_extension": ".py",
   "mimetype": "text/x-python",
   "name": "python",
   "nbconvert_exporter": "python",
   "pygments_lexer": "ipython3",
   "version": "3.6.1"
  }
 },
 "nbformat": 4,
 "nbformat_minor": 2
}
