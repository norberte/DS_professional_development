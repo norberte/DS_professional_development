{
 "cells": [
  {
   "cell_type": "code",
   "execution_count": 15,
   "metadata": {},
   "outputs": [],
   "source": [
    "# Import the libraries\n",
    "import os\n",
    "import pandas as pd\n",
    "import json\n",
    "%config InlineBackend.figure_format ='retina'\n",
    "import spotipy\n",
    "import spotipy.util as util"
   ]
  },
  {
   "cell_type": "markdown",
   "metadata": {},
   "source": [
    "## Authorization Flow"
   ]
  },
  {
   "cell_type": "code",
   "execution_count": 16,
   "metadata": {},
   "outputs": [],
   "source": [
    "# Declare the credentials\n",
    "cid = '0b2103231ba64a70885c27fbb38cfa97'\n",
    "secret = '45d7d10e11474298abcb52df745e2b25'\n",
    "redirect_uri='http://localhost:7777/callback'\n",
    "username = 'trustinyoon'"
   ]
  },
  {
   "cell_type": "code",
   "execution_count": 17,
   "metadata": {},
   "outputs": [],
   "source": [
    "# Authorization flow\n",
    "scope = 'user-top-read'\n",
    "token = util.prompt_for_user_token(username, scope, client_id=cid, client_secret=secret, redirect_uri=redirect_uri)\n",
    "\n",
    "if token:\n",
    "    sp = spotipy.Spotify(auth=token)\n",
    "else:\n",
    "    print(\"Can't get token for\", username)"
   ]
  },
  {
   "cell_type": "markdown",
   "metadata": {},
   "source": [
    "## Extract User's Top Medium Term Songs"
   ]
  },
  {
   "cell_type": "code",
   "execution_count": 18,
   "metadata": {},
   "outputs": [
    {
     "name": "stdout",
     "output_type": "stream",
     "text": [
      "50\n"
     ]
    }
   ],
   "source": [
    "# Fetch the top-100 songs of the user (medium term)\n",
    "if token:\n",
    "    sp = spotipy.Spotify(auth=token)\n",
    "    results = sp.current_user_top_tracks(limit=100,offset=0,time_range='medium_term')\n",
    "    for song in range(100):\n",
    "        list1 = []\n",
    "        list1.append(results)\n",
    "        with open('top100_data1.json', 'w', encoding='utf-8') as f:\n",
    "            json.dump(list1, f, ensure_ascii=False, indent=4)\n",
    "else:\n",
    "    print(\"Can't get token for\", username1)\n",
    "    \n",
    "# Open the JSON file to Python objects\n",
    "with open('top100_data1.json') as f:\n",
    "  data = json.load(f)\n",
    "print(len(data[0]['items']))"
   ]
  },
  {
   "cell_type": "code",
   "execution_count": 8,
   "metadata": {},
   "outputs": [],
   "source": [
    "list_of_results = data[0][\"items\"]\n",
    "list_of_artist_names = []\n",
    "list_of_artist_uri = []\n",
    "list_of_song_names = []\n",
    "list_of_song_uri = []\n",
    "list_of_durations_ms = []\n",
    "list_of_explicit = []\n",
    "list_of_albums = []\n",
    "list_of_popularity = []\n",
    "\n",
    "for result in list_of_results:\n",
    "    result[\"album\"]\n",
    "    this_artists_name = result[\"artists\"][0][\"name\"]\n",
    "    list_of_artist_names.append(this_artists_name)\n",
    "    this_artists_uri = result[\"artists\"][0][\"uri\"]\n",
    "    list_of_artist_uri.append(this_artists_uri)\n",
    "    list_of_songs = result[\"name\"]\n",
    "    list_of_song_names.append(list_of_songs)\n",
    "    song_uri = result[\"uri\"]\n",
    "    list_of_song_uri.append(song_uri)\n",
    "    list_of_duration = result[\"duration_ms\"]\n",
    "    list_of_durations_ms.append(list_of_duration)\n",
    "    song_explicit = result[\"explicit\"]\n",
    "    list_of_explicit.append(song_explicit)\n",
    "    this_album = result[\"album\"][\"name\"]\n",
    "    list_of_albums.append(this_album)\n",
    "    song_popularity = result[\"popularity\"]\n",
    "    list_of_popularity.append(song_popularity)"
   ]
  },
  {
   "cell_type": "code",
   "execution_count": 9,
   "metadata": {},
   "outputs": [],
   "source": [
    "# Convert the pulled content to a pandas df\n",
    "all_songs = pd.DataFrame(\n",
    "    {'artist': list_of_artist_names,\n",
    "     'artist_uri': list_of_artist_uri,\n",
    "     'song': list_of_song_names,\n",
    "     'song_uri': list_of_song_uri,\n",
    "     'duration_ms': list_of_durations_ms,\n",
    "     'explicit': list_of_explicit,\n",
    "     'album': list_of_albums,\n",
    "     'popularity': list_of_popularity\n",
    "     \n",
    "    })"
   ]
  },
  {
   "cell_type": "code",
   "execution_count": 10,
   "metadata": {
    "scrolled": false
   },
   "outputs": [
    {
     "data": {
      "text/html": [
       "<div>\n",
       "<style>\n",
       "    .dataframe thead tr:only-child th {\n",
       "        text-align: right;\n",
       "    }\n",
       "\n",
       "    .dataframe thead th {\n",
       "        text-align: left;\n",
       "    }\n",
       "\n",
       "    .dataframe tbody tr th {\n",
       "        vertical-align: top;\n",
       "    }\n",
       "</style>\n",
       "<table border=\"1\" class=\"dataframe\">\n",
       "  <thead>\n",
       "    <tr style=\"text-align: right;\">\n",
       "      <th></th>\n",
       "      <th>album</th>\n",
       "      <th>artist</th>\n",
       "      <th>artist_uri</th>\n",
       "      <th>duration_ms</th>\n",
       "      <th>explicit</th>\n",
       "      <th>popularity</th>\n",
       "      <th>song</th>\n",
       "      <th>song_uri</th>\n",
       "    </tr>\n",
       "  </thead>\n",
       "  <tbody>\n",
       "    <tr>\n",
       "      <th>0</th>\n",
       "      <td>Paris</td>\n",
       "      <td>The Chainsmokers</td>\n",
       "      <td>spotify:artist:69GGBxA162lTqCwzJG5jLp</td>\n",
       "      <td>221520</td>\n",
       "      <td>False</td>\n",
       "      <td>73</td>\n",
       "      <td>Paris</td>\n",
       "      <td>spotify:track:15vzANxN8G9wWfwAJLLMCg</td>\n",
       "    </tr>\n",
       "    <tr>\n",
       "      <th>1</th>\n",
       "      <td>Bouquet</td>\n",
       "      <td>The Chainsmokers</td>\n",
       "      <td>spotify:artist:69GGBxA162lTqCwzJG5jLp</td>\n",
       "      <td>225813</td>\n",
       "      <td>False</td>\n",
       "      <td>62</td>\n",
       "      <td>Roses (feat. ROZES)</td>\n",
       "      <td>spotify:track:3FWPoYBDserKdzcattMFGa</td>\n",
       "    </tr>\n",
       "    <tr>\n",
       "      <th>2</th>\n",
       "      <td>Dreamer (Remixes)</td>\n",
       "      <td>Axwell /\\ Ingrosso</td>\n",
       "      <td>spotify:artist:2XnBwblw31dfGnspMIwgWz</td>\n",
       "      <td>250809</td>\n",
       "      <td>False</td>\n",
       "      <td>61</td>\n",
       "      <td>Dreamer - Matisse &amp; Sadko Remix</td>\n",
       "      <td>spotify:track:6Bz6Rsp8GyeK4yL7APYYX3</td>\n",
       "    </tr>\n",
       "  </tbody>\n",
       "</table>\n",
       "</div>"
      ],
      "text/plain": [
       "               album              artist  \\\n",
       "0              Paris    The Chainsmokers   \n",
       "1            Bouquet    The Chainsmokers   \n",
       "2  Dreamer (Remixes)  Axwell /\\ Ingrosso   \n",
       "\n",
       "                              artist_uri  duration_ms  explicit  popularity  \\\n",
       "0  spotify:artist:69GGBxA162lTqCwzJG5jLp       221520     False          73   \n",
       "1  spotify:artist:69GGBxA162lTqCwzJG5jLp       225813     False          62   \n",
       "2  spotify:artist:2XnBwblw31dfGnspMIwgWz       250809     False          61   \n",
       "\n",
       "                              song                              song_uri  \n",
       "0                            Paris  spotify:track:15vzANxN8G9wWfwAJLLMCg  \n",
       "1              Roses (feat. ROZES)  spotify:track:3FWPoYBDserKdzcattMFGa  \n",
       "2  Dreamer - Matisse & Sadko Remix  spotify:track:6Bz6Rsp8GyeK4yL7APYYX3  "
      ]
     },
     "execution_count": 10,
     "metadata": {},
     "output_type": "execute_result"
    }
   ],
   "source": [
    "all_songs.head(3)"
   ]
  },
  {
   "cell_type": "code",
   "execution_count": 13,
   "metadata": {},
   "outputs": [],
   "source": [
    "#Making into A CSV\n",
    "\n",
    "all_songs.to_csv('User1_top_50_songs.csv') "
   ]
  }
 ],
 "metadata": {
  "kernelspec": {
   "display_name": "Python 3",
   "language": "python",
   "name": "python3"
  },
  "language_info": {
   "codemirror_mode": {
    "name": "ipython",
    "version": 3
   },
   "file_extension": ".py",
   "mimetype": "text/x-python",
   "name": "python",
   "nbconvert_exporter": "python",
   "pygments_lexer": "ipython3",
   "version": "3.6.1"
  }
 },
 "nbformat": 4,
 "nbformat_minor": 2
}
